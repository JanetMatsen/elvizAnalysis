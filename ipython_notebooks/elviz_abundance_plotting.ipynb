{
 "cells": [
  {
   "cell_type": "code",
   "execution_count": null,
   "metadata": {
    "collapsed": true
   },
   "outputs": [],
   "source": [
    "%load_ext autoreload\n",
    "%autoreload 2"
   ]
  },
  {
   "cell_type": "code",
   "execution_count": null,
   "metadata": {
    "collapsed": false
   },
   "outputs": [],
   "source": [
    "%run GLOBALS.py"
   ]
  },
  {
   "cell_type": "code",
   "execution_count": null,
   "metadata": {
    "collapsed": false
   },
   "outputs": [],
   "source": [
    "import matplotlib\n",
    "\n",
    "matplotlib.use('TkAgg')\n",
    "import matplotlib.pyplot as plt"
   ]
  },
  {
   "cell_type": "code",
   "execution_count": null,
   "metadata": {
    "collapsed": false
   },
   "outputs": [],
   "source": [
    "#import numpy as np\n",
    "import os\n",
    "import pandas as pd\n",
    "import re\n",
    "import seaborn as sns\n",
    "#import matplotlib.pyplot as plt\n",
    "%matplotlib inline"
   ]
  },
  {
   "cell_type": "code",
   "execution_count": null,
   "metadata": {
    "collapsed": false
   },
   "outputs": [],
   "source": [
    "import elviz_utils\n",
    "import abundance_utils\n",
    "import abundance_plot_utils"
   ]
  },
  {
   "cell_type": "markdown",
   "metadata": {},
   "source": [
    "# Plotting"
   ]
  },
  {
   "cell_type": "code",
   "execution_count": null,
   "metadata": {
    "collapsed": false
   },
   "outputs": [],
   "source": [
    "data_reduced_genus = pd.read_csv(MAIN_DIR + \"results/reduced_data--genus_only.csv\")"
   ]
  },
  {
   "cell_type": "code",
   "execution_count": null,
   "metadata": {
    "collapsed": false
   },
   "outputs": [],
   "source": [
    "abundance_utils.filter_by_abundance(data=data_reduced_genus, \n",
    "                    abundance_column='fraction of reads', high=1, low=0.5).head()"
   ]
  },
  {
   "cell_type": "markdown",
   "metadata": {},
   "source": [
    "## Demo `plot_heatmap()`"
   ]
  },
  {
   "cell_type": "code",
   "execution_count": null,
   "metadata": {
    "collapsed": false
   },
   "outputs": [],
   "source": [
    "data_reduced_genus.head()\n"
   ]
  },
  {
   "cell_type": "code",
   "execution_count": null,
   "metadata": {
    "collapsed": false
   },
   "outputs": [],
   "source": [
    "# Change 'other' to 'other & unknown'\n",
    "data_reduced_genus.ix[data_reduced_genus['Genus'] == 'other', 'Genus'] = r'other \\& unknown'\n",
    "data_reduced_genus.head()"
   ]
  },
  {
   "cell_type": "code",
   "execution_count": null,
   "metadata": {
    "collapsed": false
   },
   "outputs": [],
   "source": [
    "plot_path = PLOT_DIR + \"/genus_only\"\n",
    "\n",
    "abundance_plot_utils.plot_heatmap_genus(dataframe=data_reduced_genus, \n",
    "                                        high=1, low = 0.5, \n",
    "                                        oxy='High', rep='all', \n",
    "                                        plot_dir=plot_path)"
   ]
  },
  {
   "cell_type": "markdown",
   "metadata": {},
   "source": [
    "## Run `plot_heatmap_genus()` across broad conditions"
   ]
  },
  {
   "cell_type": "code",
   "execution_count": null,
   "metadata": {
    "collapsed": false
   },
   "outputs": [],
   "source": [
    "# Loop through the ranges we want. \n",
    "oxy_conditions = ['Low', 'High']\n",
    "max_abundance = 1\n",
    "range_pairs = [(0.01, max_abundance), \n",
    "               (0.05, max_abundance), \n",
    "               (0.1, max_abundance), \n",
    "               (0.5, max_abundance)]\n",
    "for o in oxy_conditions:\n",
    "    for r in range_pairs:\n",
    "        #print \"oxygen:\", o\n",
    "        #print \"range:\", r\n",
    "        #print \"range (low):\", r[0]\n",
    "        abundance_plot_utils.plot_heatmap_genus(dataframe=data_reduced_genus,\n",
    "                                                low =r[0], high=r[1], oxy=o, rep='all',\n",
    "                                                plot_dir = PLOT_DIR + '/genus_only')"
   ]
  },
  {
   "cell_type": "markdown",
   "metadata": {
    "collapsed": true
   },
   "source": [
    "## heatmap_from_taxa_dict()`\n",
    "\n",
    "Reproduce Mila's plots which often have mixed taxonomy levels."
   ]
  },
  {
   "cell_type": "markdown",
   "metadata": {},
   "source": [
    "Import the data that was *not* reduced to Genus. "
   ]
  },
  {
   "cell_type": "code",
   "execution_count": null,
   "metadata": {
    "collapsed": false
   },
   "outputs": [],
   "source": [
    "data_reduced = pd.read_csv(MAIN_DIR + \"/results/reduced_data--all_taxonomy_remains.csv\")"
   ]
  },
  {
   "cell_type": "code",
   "execution_count": null,
   "metadata": {
    "collapsed": true
   },
   "outputs": [],
   "source": [
    "plot_1_spec_dict = {'Phylum':['Bacteroidetes'], \n",
    "                    'Order':['Burkholderiales','Methylophilales',\n",
    "                             'Methylococcales']}"
   ]
  },
  {
   "cell_type": "code",
   "execution_count": null,
   "metadata": {
    "collapsed": false
   },
   "outputs": [],
   "source": [
    "plot_1_data = abundance_plot_utils.aggregate_mixed_taxonomy(dataframe = \n",
    "                          pd.read_csv(\n",
    "        MAIN_DIR + \"/results/reduced_data--all_taxonomy_remains.csv\"),\n",
    "                          taxa_dict = plot_1_spec_dict,\n",
    "                                                            main_dir = MAIN_DIR)"
   ]
  },
  {
   "cell_type": "code",
   "execution_count": null,
   "metadata": {
    "collapsed": false
   },
   "outputs": [],
   "source": [
    "plot_1_data.head()"
   ]
  },
  {
   "cell_type": "code",
   "execution_count": null,
   "metadata": {
    "collapsed": false
   },
   "outputs": [],
   "source": [
    "t_dicts = [\n",
    "    {'Phylum':['Bacteroidetes'], \n",
    "     'Order':['Burkholderiales', 'Methylophilales', 'Methylococcales']},\n",
    "        \n",
    "    {'Genus':['Methylobacter', 'Methylovulum', 'Methylomonas', 'Methylomicrobium', \n",
    "              'Methyloglobulus', 'Methylococcus', 'Methylocaldum', 'Methylosarcina']},\n",
    "    \n",
    "    {'Genus':['Methylotenera', 'Methylovorus', 'Methylophilus', 'Methylobacillus']}\n",
    "\n",
    "    ]"
   ]
  },
  {
   "cell_type": "code",
   "execution_count": null,
   "metadata": {
    "collapsed": false
   },
   "outputs": [],
   "source": [
    "for t in t_dicts:\n",
    "    print(t)\n",
    "    print(abundance_plot_utils.taxa_dict_to_descriptive_string(t))"
   ]
  },
  {
   "cell_type": "code",
   "execution_count": null,
   "metadata": {
    "collapsed": false
   },
   "outputs": [],
   "source": [
    "print(MAIN_DIR)\n",
    "print(PLOT_DIR)"
   ]
  },
  {
   "cell_type": "code",
   "execution_count": null,
   "metadata": {
    "collapsed": false
   },
   "outputs": [],
   "source": [
    "# plot without annotations\n",
    "for t_dict in t_dicts:\n",
    "    abundance_plot_utils.heatmap_from_taxa_dict(\n",
    "        dataframe = pd.read_csv(MAIN_DIR + \"/results/reduced_data--all_taxonomy_remains.csv\"),\n",
    "        taxa_dict = t_dict,\n",
    "        annotate=False,\n",
    "        main_dir = MAIN_DIR,\n",
    "        plot_dir= PLOT_DIR + '/mixed_taxonomy/')\n",
    "    "
   ]
  },
  {
   "cell_type": "code",
   "execution_count": null,
   "metadata": {
    "collapsed": false
   },
   "outputs": [],
   "source": [
    "# plot with annotations\n",
    "for t_dict in t_dicts:\n",
    "    abundance_plot_utils.heatmap_from_taxa_dict(dataframe = \n",
    "                                               pd.read_csv(MAIN_DIR + \"/results/reduced_data--all_taxonomy_remains.csv\"),\n",
    "                                               taxa_dict = t_dict,\n",
    "                                               facet = 'rep',\n",
    "                                               annotate = False,\n",
    "                                               main_dir = MAIN_DIR,\n",
    "                                               plot_dir = PLOT_DIR + '/mixed_taxonomy/')"
   ]
  },
  {
   "cell_type": "markdown",
   "metadata": {},
   "source": [
    "### 170313 add bar plots of the key methanotrophs/methylotrophs"
   ]
  },
  {
   "cell_type": "code",
   "execution_count": null,
   "metadata": {
    "collapsed": false
   },
   "outputs": [],
   "source": [
    "plot_name = os.path.join(PLOT_DIR, '170313_methanotroph_methylotroph_taxa' + '--portrait.pdf')\n",
    "p = abundance_plot_utils.plot_dominant_methylotrophs(data_reduced_genus, plot_name)"
   ]
  },
  {
   "cell_type": "code",
   "execution_count": null,
   "metadata": {
    "collapsed": false
   },
   "outputs": [],
   "source": [
    "plot_name = os.path.join(PLOT_DIR, '170313_methanotroph_methylotroph_taxa' + '--landscape.pdf')\n",
    "p = abundance_plot_utils.plot_dominant_methylotrophs(data_reduced_genus, plot_name, portrait=False)"
   ]
  },
  {
   "cell_type": "markdown",
   "metadata": {},
   "source": [
    "### 170313 add bar plots of the methanotroph/methylotroph breakdown."
   ]
  },
  {
   "cell_type": "code",
   "execution_count": null,
   "metadata": {
    "collapsed": false
   },
   "outputs": [],
   "source": [
    "pd.read_csv(MAIN_DIR + \"/results/reduced_data--all_taxonomy_remains.csv\").head(20)"
   ]
  },
  {
   "cell_type": "code",
   "execution_count": null,
   "metadata": {
    "collapsed": false
   },
   "outputs": [],
   "source": [
    "abundance_plot_utils.plot_bars_for_taxa_dict(\n",
    "    dataframe = pd.read_csv(MAIN_DIR + \"/results/reduced_data--all_taxonomy_remains.csv\"),\n",
    "    taxa_dict = plot_1_spec_dict,\n",
    "    order_list = ['Methylococcales', 'Methylophilales',\n",
    "                  'Bacteroidetes', 'Burkholderiales', 'unknown \\& other'],\n",
    "    summarize_other = True,\n",
    "    colors = ['#2c7fb8', '#feb24c', '#525252', '#969696', '#d9d9d9'],\n",
    "    main_dir = MAIN_DIR,\n",
    "    filename = os.path.join(PLOT_DIR + '/mixed_taxonomy/', '170413_4_main_groups.pdf'))"
   ]
  },
  {
   "cell_type": "code",
   "execution_count": null,
   "metadata": {
    "collapsed": false
   },
   "outputs": [],
   "source": [
    "abundance_plot_utils.plot_bars_for_taxa_dict(\n",
    "    dataframe = pd.read_csv(MAIN_DIR + \"/results/reduced_data--all_taxonomy_remains.csv\"),\n",
    "    taxa_dict = plot_1_spec_dict,\n",
    "    order_list = ['Methylococcales', 'Methylophilales',\n",
    "                  'Bacteroidetes', 'Burkholderiales', 'unknown \\& other'],\n",
    "    summarize_other = True,\n",
    "    colors = ['#2c7fb8', '#feb24c', '#525252', '#969696', '#d9d9d9'],\n",
    "    main_dir = MAIN_DIR, portrait=False,\n",
    "    filename = os.path.join(PLOT_DIR + '/mixed_taxonomy/', '170413_4_main_groups--landscape.pdf'))"
   ]
  },
  {
   "cell_type": "code",
   "execution_count": null,
   "metadata": {
    "collapsed": true
   },
   "outputs": [],
   "source": []
  }
 ],
 "metadata": {
  "anaconda-cloud": {},
  "kernelspec": {
   "display_name": "Python [default]",
   "language": "python",
   "name": "python3"
  },
  "language_info": {
   "codemirror_mode": {
    "name": "ipython",
    "version": 3
   },
   "file_extension": ".py",
   "mimetype": "text/x-python",
   "name": "python",
   "nbconvert_exporter": "python",
   "pygments_lexer": "ipython3",
   "version": "3.5.2"
  }
 },
 "nbformat": 4,
 "nbformat_minor": 0
}
