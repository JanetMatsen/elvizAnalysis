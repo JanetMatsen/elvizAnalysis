{
 "cells": [
  {
   "cell_type": "code",
   "execution_count": null,
   "metadata": {
    "collapsed": true
   },
   "outputs": [],
   "source": [
    "%load_ext autoreload\n",
    "%autoreload 2"
   ]
  },
  {
   "cell_type": "code",
   "execution_count": null,
   "metadata": {
    "collapsed": false
   },
   "outputs": [],
   "source": [
    "%run GLOBALS.py"
   ]
  },
  {
   "cell_type": "code",
   "execution_count": null,
   "metadata": {
    "collapsed": false
   },
   "outputs": [],
   "source": [
    "import matplotlib\n",
    "\n",
    "matplotlib.use('TkAgg')\n",
    "import matplotlib.pyplot as plt"
   ]
  },
  {
   "cell_type": "code",
   "execution_count": null,
   "metadata": {
    "collapsed": false
   },
   "outputs": [],
   "source": [
    "#import numpy as np\n",
    "import os\n",
    "import pandas as pd\n",
    "import re\n",
    "import seaborn as sns\n",
    "#import matplotlib.pyplot as plt\n",
    "%matplotlib inline"
   ]
  },
  {
   "cell_type": "code",
   "execution_count": null,
   "metadata": {
    "collapsed": false
   },
   "outputs": [],
   "source": [
    "import elviz_utils\n",
    "import abundance_utils\n",
    "import abundance_plot_utils"
   ]
  },
  {
   "cell_type": "markdown",
   "metadata": {},
   "source": [
    "## Use the taxa dicts to make summary spreadsheets for Mila. "
   ]
  },
  {
   "cell_type": "code",
   "execution_count": null,
   "metadata": {
    "collapsed": true
   },
   "outputs": [],
   "source": [
    "data_reduced = pd.read_csv(MAIN_DIR + \"/results/reduced_data--all_taxonomy_remains.csv\")"
   ]
  },
  {
   "cell_type": "code",
   "execution_count": null,
   "metadata": {
    "collapsed": true
   },
   "outputs": [],
   "source": [
    "major_groups_dict = {'Phylum':['Bacteroidetes'], \n",
    "                    'Order':['Burkholderiales','Methylophilales',\n",
    "                             'Methylococcales']}"
   ]
  },
  {
   "cell_type": "code",
   "execution_count": null,
   "metadata": {
    "collapsed": false
   },
   "outputs": [],
   "source": [
    "major_groups_df = abundance_plot_utils.aggregate_mixed_taxonomy(\n",
    "    dataframe = pd.read_csv(MAIN_DIR + \"/results/reduced_data--all_taxonomy_remains.csv\"),\n",
    "    taxa_dict = major_groups_dict,\n",
    "    main_dir = MAIN_DIR)\n",
    "\n",
    "major_groups_df.head()"
   ]
  },
  {
   "cell_type": "code",
   "execution_count": null,
   "metadata": {
    "collapsed": true
   },
   "outputs": [],
   "source": [
    "m_dict = {'Genus':['Methylobacter', 'Methylovulum', 'Methylomonas', 'Methylomicrobium', \n",
    "              'Methyloglobulus', 'Methylococcus', 'Methylocaldum', 'Methylosarcina']}"
   ]
  },
  {
   "cell_type": "code",
   "execution_count": null,
   "metadata": {
    "collapsed": false
   },
   "outputs": [],
   "source": [
    "m_df = abundance_plot_utils.aggregate_mixed_taxonomy(\n",
    "    dataframe = pd.read_csv(MAIN_DIR + \"/results/reduced_data--all_taxonomy_remains.csv\"),\n",
    "    taxa_dict = m_dict,\n",
    "    main_dir = MAIN_DIR)\n",
    "\n",
    "m_df.head()"
   ]
  },
  {
   "cell_type": "code",
   "execution_count": null,
   "metadata": {
    "collapsed": false
   },
   "outputs": [],
   "source": [
    "! ls ../results"
   ]
  },
  {
   "cell_type": "code",
   "execution_count": null,
   "metadata": {
    "collapsed": true
   },
   "outputs": [],
   "source": [
    "major_groups_filename = '../results/4_major_group_abundances.tsv'\n",
    "major_groups_df.to_csv(major_groups_filename, sep='\\t', index=False)"
   ]
  },
  {
   "cell_type": "code",
   "execution_count": null,
   "metadata": {
    "collapsed": true
   },
   "outputs": [],
   "source": [
    "m_filename = '../results/Methylococcales_and_Methylophilales_abundances.tsv'\n",
    "m_df.to_csv(m_filename, sep='\\t', index=False)"
   ]
  }
 ],
 "metadata": {
  "anaconda-cloud": {},
  "kernelspec": {
   "display_name": "Python [default]",
   "language": "python",
   "name": "python3"
  },
  "language_info": {
   "codemirror_mode": {
    "name": "ipython",
    "version": 3
   },
   "file_extension": ".py",
   "mimetype": "text/x-python",
   "name": "python",
   "nbconvert_exporter": "python",
   "pygments_lexer": "ipython3",
   "version": "3.5.2"
  }
 },
 "nbformat": 4,
 "nbformat_minor": 0
}
