{
 "cells": [
  {
   "cell_type": "code",
   "execution_count": 1,
   "metadata": {
    "collapsed": false
   },
   "outputs": [
    {
     "name": "stdout",
     "output_type": "stream",
     "text": [
      "3.5.2 |Continuum Analytics, Inc.| (default, Jul  2 2016, 17:52:12) \n",
      "[GCC 4.2.1 Compatible Apple LLVM 4.2 (clang-425.0.28)]\n"
     ]
    }
   ],
   "source": [
    "%run GLOBALS.py"
   ]
  },
  {
   "cell_type": "code",
   "execution_count": 2,
   "metadata": {
    "collapsed": true
   },
   "outputs": [],
   "source": [
    "%load_ext autoreload\n",
    "%autoreload 2"
   ]
  },
  {
   "cell_type": "code",
   "execution_count": 3,
   "metadata": {
    "collapsed": true
   },
   "outputs": [],
   "source": [
    "import matplotlib\n",
    "\n",
    "matplotlib.use('TkAgg')\n",
    "import matplotlib.pyplot as plt"
   ]
  },
  {
   "cell_type": "code",
   "execution_count": 4,
   "metadata": {
    "collapsed": true
   },
   "outputs": [],
   "source": [
    "#import numpy as np\n",
    "import os\n",
    "import pandas as pd\n",
    "import re\n",
    "import seaborn as sns\n",
    "#import matplotlib.pyplot as plt\n",
    "%matplotlib inline"
   ]
  },
  {
   "cell_type": "code",
   "execution_count": 5,
   "metadata": {
    "collapsed": true
   },
   "outputs": [],
   "source": [
    "# Control whether to import the original data. \n",
    "import_original_data = True\n",
    "write_excel = True"
   ]
  },
  {
   "cell_type": "code",
   "execution_count": 6,
   "metadata": {
    "collapsed": false
   },
   "outputs": [
    {
     "name": "stdout",
     "output_type": "stream",
     "text": [
      "/Users/janet/elvizAnalysis/ipython_notebooks\n"
     ]
    }
   ],
   "source": [
    "print(os.getcwd())"
   ]
  },
  {
   "cell_type": "code",
   "execution_count": 7,
   "metadata": {
    "collapsed": true
   },
   "outputs": [],
   "source": [
    "sns.set(style=\"whitegrid\")"
   ]
  },
  {
   "cell_type": "code",
   "execution_count": 8,
   "metadata": {
    "collapsed": true
   },
   "outputs": [],
   "source": [
    "# Import the csv that translates the 127_HOW14 type labels to weeks and replicates.\n",
    "\n",
    "from elviz_utils import IMPORT_METAINFO_TYPES, read_sample_info"
   ]
  },
  {
   "cell_type": "code",
   "execution_count": 9,
   "metadata": {
    "collapsed": false
   },
   "outputs": [
    {
     "data": {
      "text/html": [
       "<div>\n",
       "<table border=\"1\" class=\"dataframe\">\n",
       "  <thead>\n",
       "    <tr style=\"text-align: right;\">\n",
       "      <th></th>\n",
       "      <th>ID</th>\n",
       "      <th>oxy</th>\n",
       "      <th>rep</th>\n",
       "      <th>week</th>\n",
       "      <th>project</th>\n",
       "    </tr>\n",
       "  </thead>\n",
       "  <tbody>\n",
       "    <tr>\n",
       "      <th>0</th>\n",
       "      <td>1_LOW4</td>\n",
       "      <td>Low</td>\n",
       "      <td>1</td>\n",
       "      <td>4</td>\n",
       "      <td>1056013</td>\n",
       "    </tr>\n",
       "    <tr>\n",
       "      <th>1</th>\n",
       "      <td>13_LOW5</td>\n",
       "      <td>Low</td>\n",
       "      <td>1</td>\n",
       "      <td>5</td>\n",
       "      <td>1056037</td>\n",
       "    </tr>\n",
       "    <tr>\n",
       "      <th>2</th>\n",
       "      <td>25_LOW6</td>\n",
       "      <td>Low</td>\n",
       "      <td>1</td>\n",
       "      <td>6</td>\n",
       "      <td>1056061</td>\n",
       "    </tr>\n",
       "    <tr>\n",
       "      <th>3</th>\n",
       "      <td>37_LOW7</td>\n",
       "      <td>Low</td>\n",
       "      <td>1</td>\n",
       "      <td>7</td>\n",
       "      <td>1056085</td>\n",
       "    </tr>\n",
       "    <tr>\n",
       "      <th>4</th>\n",
       "      <td>49_LOW8</td>\n",
       "      <td>Low</td>\n",
       "      <td>1</td>\n",
       "      <td>8</td>\n",
       "      <td>1056109</td>\n",
       "    </tr>\n",
       "  </tbody>\n",
       "</table>\n",
       "</div>"
      ],
      "text/plain": [
       "        ID  oxy  rep  week  project\n",
       "0   1_LOW4  Low    1     4  1056013\n",
       "1  13_LOW5  Low    1     5  1056037\n",
       "2  25_LOW6  Low    1     6  1056061\n",
       "3  37_LOW7  Low    1     7  1056085\n",
       "4  49_LOW8  Low    1     8  1056109"
      ]
     },
     "execution_count": 9,
     "metadata": {},
     "output_type": "execute_result"
    }
   ],
   "source": [
    "sample_info = read_sample_info(MAIN_DIR)\n",
    "\n",
    "sample_info.head()"
   ]
  },
  {
   "cell_type": "code",
   "execution_count": 10,
   "metadata": {
    "collapsed": false
   },
   "outputs": [],
   "source": [
    "from abundance_utils import read_and_reduce_elviz_csv\n",
    "\n",
    "#read_and_reduce_elviz_csv(\n",
    "#    filename = 'elviz-contigs-1056169.csv', \n",
    "#    filepath=filepath,\n",
    "#    sample_info = sample_info)"
   ]
  },
  {
   "cell_type": "code",
   "execution_count": 11,
   "metadata": {
    "collapsed": false
   },
   "outputs": [
    {
     "name": "stdout",
     "output_type": "stream",
     "text": [
      "Bacteriovoracaceae_and_Myxococcaceae--Families.ipynb\r\n",
      "GLOBALS.py\r\n",
      "calculate_abundances-Copy1.ipynb\r\n",
      "calculate_abundances.ipynb\r\n",
      "demo_elviz_pca_module.ipynb\r\n",
      "\u001b[34mdepreciated\u001b[m\u001b[m\r\n",
      "elviz_abundance_plotting.ipynb\r\n",
      "heatmap_all_below--burkholderiales_at_differing_depths.ipynb\r\n",
      "plot_bar_charts.ipynb\r\n",
      "\u001b[34mplots\u001b[m\u001b[m\r\n"
     ]
    }
   ],
   "source": [
    "! ls"
   ]
  },
  {
   "cell_type": "code",
   "execution_count": 12,
   "metadata": {
    "collapsed": false
   },
   "outputs": [
    {
     "data": {
      "text/plain": [
       "['elviz-contigs-1056013.csv',\n",
       " 'elviz-contigs-1056016.csv',\n",
       " 'elviz-contigs-1056019.csv',\n",
       " 'elviz-contigs-1056022.csv']"
      ]
     },
     "execution_count": 12,
     "metadata": {},
     "output_type": "execute_result"
    }
   ],
   "source": [
    "from abundance_utils import get_elviz_filenames\n",
    "\n",
    "elviz_files = get_elviz_filenames(main_dir='../')\n",
    "elviz_files[0:4]"
   ]
  },
  {
   "cell_type": "code",
   "execution_count": 13,
   "metadata": {
    "collapsed": false
   },
   "outputs": [],
   "source": [
    "from elviz_utils import make_directory\n",
    "\n",
    "make_directory(dirpath=MAIN_DIR + \"/plots\")\n",
    "make_directory(dirpath=MAIN_DIR + 'results')"
   ]
  },
  {
   "cell_type": "code",
   "execution_count": 14,
   "metadata": {
    "collapsed": true
   },
   "outputs": [],
   "source": [
    "from abundance_utils import read_and_reduce_all"
   ]
  },
  {
   "cell_type": "code",
   "execution_count": 15,
   "metadata": {
    "collapsed": true
   },
   "outputs": [],
   "source": [
    "from abundance_utils import project_number_from_filename"
   ]
  },
  {
   "cell_type": "code",
   "execution_count": 16,
   "metadata": {
    "collapsed": false
   },
   "outputs": [
    {
     "data": {
      "text/plain": [
       "'../raw_data'"
      ]
     },
     "execution_count": 16,
     "metadata": {},
     "output_type": "execute_result"
    }
   ],
   "source": [
    "os.path.join(MAIN_DIR, 'raw_data')"
   ]
  },
  {
   "cell_type": "code",
   "execution_count": 17,
   "metadata": {
    "collapsed": false
   },
   "outputs": [
    {
     "name": "stdout",
     "output_type": "stream",
     "text": [
      "elviz-contigs-1056016.csv\n",
      "elviz-contigs-1056019.csv\n",
      "elviz-contigs-1056022.csv\n",
      "elviz-contigs-1056025.csv\n",
      "elviz-contigs-1056028.csv\n",
      "elviz-contigs-1056031.csv\n",
      "elviz-contigs-1056034.csv\n",
      "elviz-contigs-1056037.csv\n",
      "elviz-contigs-1056040.csv\n",
      "elviz-contigs-1056043.csv\n",
      "elviz-contigs-1056046.csv\n",
      "elviz-contigs-1056049.csv\n",
      "elviz-contigs-1056052.csv\n",
      "elviz-contigs-1056055.csv\n",
      "elviz-contigs-1056058.csv\n",
      "elviz-contigs-1056061.csv\n",
      "elviz-contigs-1056064.csv\n",
      "elviz-contigs-1056067.csv\n",
      "elviz-contigs-1056070.csv\n",
      "elviz-contigs-1056073.csv\n",
      "elviz-contigs-1056076.csv\n",
      "elviz-contigs-1056079.csv\n",
      "elviz-contigs-1056082.csv\n",
      "elviz-contigs-1056085.csv\n",
      "elviz-contigs-1056088.csv\n",
      "elviz-contigs-1056091.csv\n",
      "elviz-contigs-1056094.csv\n",
      "elviz-contigs-1056097.csv\n",
      "elviz-contigs-1056100.csv\n",
      "elviz-contigs-1056103.csv\n",
      "elviz-contigs-1056106.csv\n",
      "elviz-contigs-1056109.csv\n",
      "elviz-contigs-1056112.csv\n",
      "elviz-contigs-1056115.csv\n",
      "elviz-contigs-1056118.csv\n",
      "elviz-contigs-1056121.csv\n",
      "elviz-contigs-1056124.csv\n",
      "elviz-contigs-1056127.csv\n",
      "elviz-contigs-1056130.csv\n",
      "elviz-contigs-1056133.csv\n",
      "elviz-contigs-1056136.csv\n",
      "elviz-contigs-1056139.csv\n",
      "elviz-contigs-1056142.csv\n",
      "elviz-contigs-1056145.csv\n",
      "elviz-contigs-1056148.csv\n",
      "elviz-contigs-1056151.csv\n",
      "elviz-contigs-1056154.csv\n",
      "elviz-contigs-1056157.csv\n",
      "elviz-contigs-1056160.csv\n",
      "elviz-contigs-1056163.csv\n",
      "elviz-contigs-1056166.csv\n",
      "elviz-contigs-1056169.csv\n",
      "elviz-contigs-1056172.csv\n",
      "elviz-contigs-1056175.csv\n",
      "elviz-contigs-1056178.csv\n",
      "elviz-contigs-1056181.csv\n",
      "elviz-contigs-1056184.csv\n",
      "elviz-contigs-1056187.csv\n",
      "elviz-contigs-1056190.csv\n",
      "elviz-contigs-1056193.csv\n",
      "elviz-contigs-1056196.csv\n",
      "elviz-contigs-1056199.csv\n",
      "elviz-contigs-1056202.csv\n",
      "elviz-contigs-1056205.csv\n",
      "elviz-contigs-1056208.csv\n",
      "elviz-contigs-1056211.csv\n",
      "elviz-contigs-1056214.csv\n",
      "elviz-contigs-1056217.csv\n",
      "elviz-contigs-1056220.csv\n",
      "elviz-contigs-1056223.csv\n",
      "elviz-contigs-1056226.csv\n",
      "elviz-contigs-1056229.csv\n",
      "elviz-contigs-1056232.csv\n",
      "elviz-contigs-1056235.csv\n",
      "elviz-contigs-1056238.csv\n",
      "elviz-contigs-1056241.csv\n",
      "elviz-contigs-1056244.csv\n",
      "elviz-contigs-1056247.csv\n",
      "elviz-contigs-1056250.csv\n",
      "elviz-contigs-1056253.csv\n",
      "elviz-contigs-1056256.csv\n",
      "elviz-contigs-1056259.csv\n",
      "elviz-contigs-1056262.csv\n",
      "elviz-contigs-1056265.csv\n",
      "elviz-contigs-1056268.csv\n",
      "elviz-contigs-1056271.csv\n",
      "elviz-contigs-1056274.csv\n",
      "841815\n"
     ]
    },
    {
     "data": {
      "text/html": [
       "<div>\n",
       "<table border=\"1\" class=\"dataframe\">\n",
       "  <thead>\n",
       "    <tr style=\"text-align: right;\">\n",
       "      <th></th>\n",
       "      <th>Kingdom</th>\n",
       "      <th>Phylum</th>\n",
       "      <th>Class</th>\n",
       "      <th>Order</th>\n",
       "      <th>Family</th>\n",
       "      <th>Genus</th>\n",
       "      <th>Length</th>\n",
       "      <th>fraction of reads</th>\n",
       "      <th>project</th>\n",
       "      <th>ID</th>\n",
       "      <th>oxy</th>\n",
       "      <th>rep</th>\n",
       "      <th>week</th>\n",
       "    </tr>\n",
       "  </thead>\n",
       "  <tbody>\n",
       "    <tr>\n",
       "      <th>0</th>\n",
       "      <td>Bacteria</td>\n",
       "      <td>Proteobacteria</td>\n",
       "      <td>Gammaproteobacteria</td>\n",
       "      <td>Methylococcales</td>\n",
       "      <td>Methylococcaceae</td>\n",
       "      <td>Methylobacter</td>\n",
       "      <td>9948861</td>\n",
       "      <td>0.205558</td>\n",
       "      <td>1056013</td>\n",
       "      <td>1_LOW4</td>\n",
       "      <td>Low</td>\n",
       "      <td>1</td>\n",
       "      <td>4</td>\n",
       "    </tr>\n",
       "    <tr>\n",
       "      <th>1</th>\n",
       "      <td>Bacteria</td>\n",
       "      <td>Proteobacteria</td>\n",
       "      <td>Betaproteobacteria</td>\n",
       "      <td>Methylophilales</td>\n",
       "      <td>Methylophilaceae</td>\n",
       "      <td>Methylotenera</td>\n",
       "      <td>5066955</td>\n",
       "      <td>0.185898</td>\n",
       "      <td>1056013</td>\n",
       "      <td>1_LOW4</td>\n",
       "      <td>Low</td>\n",
       "      <td>1</td>\n",
       "      <td>4</td>\n",
       "    </tr>\n",
       "    <tr>\n",
       "      <th>2</th>\n",
       "      <td>Bacteria</td>\n",
       "      <td>Proteobacteria</td>\n",
       "      <td></td>\n",
       "      <td></td>\n",
       "      <td></td>\n",
       "      <td>other</td>\n",
       "      <td>3930509</td>\n",
       "      <td>0.075027</td>\n",
       "      <td>1056013</td>\n",
       "      <td>1_LOW4</td>\n",
       "      <td>Low</td>\n",
       "      <td>1</td>\n",
       "      <td>4</td>\n",
       "    </tr>\n",
       "    <tr>\n",
       "      <th>3</th>\n",
       "      <td>Bacteria</td>\n",
       "      <td>Proteobacteria</td>\n",
       "      <td>Gammaproteobacteria</td>\n",
       "      <td></td>\n",
       "      <td></td>\n",
       "      <td>other</td>\n",
       "      <td>5620690</td>\n",
       "      <td>0.073601</td>\n",
       "      <td>1056013</td>\n",
       "      <td>1_LOW4</td>\n",
       "      <td>Low</td>\n",
       "      <td>1</td>\n",
       "      <td>4</td>\n",
       "    </tr>\n",
       "    <tr>\n",
       "      <th>4</th>\n",
       "      <td>Bacteria</td>\n",
       "      <td>Bacteroidetes</td>\n",
       "      <td>Flavobacteriia</td>\n",
       "      <td>Flavobacteriales</td>\n",
       "      <td>Flavobacteriaceae</td>\n",
       "      <td>Flavobacterium</td>\n",
       "      <td>4654774</td>\n",
       "      <td>0.065548</td>\n",
       "      <td>1056013</td>\n",
       "      <td>1_LOW4</td>\n",
       "      <td>Low</td>\n",
       "      <td>1</td>\n",
       "      <td>4</td>\n",
       "    </tr>\n",
       "  </tbody>\n",
       "</table>\n",
       "</div>"
      ],
      "text/plain": [
       "    Kingdom          Phylum                Class             Order  \\\n",
       "0  Bacteria  Proteobacteria  Gammaproteobacteria   Methylococcales   \n",
       "1  Bacteria  Proteobacteria   Betaproteobacteria   Methylophilales   \n",
       "2  Bacteria  Proteobacteria                                          \n",
       "3  Bacteria  Proteobacteria  Gammaproteobacteria                     \n",
       "4  Bacteria   Bacteroidetes       Flavobacteriia  Flavobacteriales   \n",
       "\n",
       "              Family           Genus   Length  fraction of reads  project  \\\n",
       "0   Methylococcaceae   Methylobacter  9948861           0.205558  1056013   \n",
       "1   Methylophilaceae   Methylotenera  5066955           0.185898  1056013   \n",
       "2                              other  3930509           0.075027  1056013   \n",
       "3                              other  5620690           0.073601  1056013   \n",
       "4  Flavobacteriaceae  Flavobacterium  4654774           0.065548  1056013   \n",
       "\n",
       "       ID  oxy  rep  week  \n",
       "0  1_LOW4  Low    1     4  \n",
       "1  1_LOW4  Low    1     4  \n",
       "2  1_LOW4  Low    1     4  \n",
       "3  1_LOW4  Low    1     4  \n",
       "4  1_LOW4  Low    1     4  "
      ]
     },
     "execution_count": 17,
     "metadata": {},
     "output_type": "execute_result"
    }
   ],
   "source": [
    "if import_original_data:\n",
    "    data_reduced = read_and_reduce_all(filename_list=elviz_files,\n",
    "                                       filepath=os.path.join(MAIN_DIR, 'raw_data'),\n",
    "                                       sample_info = sample_info)\n",
    "    print(data_reduced.size)  \n",
    "else: \n",
    "    data_reduced = pd.read_csv(\n",
    "        MAIN_DIR + \"/results/reduced_data--all_taxonomy_remains.csv\")\n",
    "\n",
    "data_reduced.head()"
   ]
  },
  {
   "cell_type": "code",
   "execution_count": 18,
   "metadata": {
    "collapsed": false
   },
   "outputs": [],
   "source": [
    "if import_original_data:\n",
    "    data_reduced.to_csv(MAIN_DIR + \"/results/reduced_data--all_taxonomy_remains.csv\", index=False)"
   ]
  },
  {
   "cell_type": "code",
   "execution_count": 19,
   "metadata": {
    "collapsed": false
   },
   "outputs": [
    {
     "data": {
      "text/html": [
       "<div>\n",
       "<table border=\"1\" class=\"dataframe\">\n",
       "  <thead>\n",
       "    <tr style=\"text-align: right;\">\n",
       "      <th></th>\n",
       "      <th>Kingdom</th>\n",
       "      <th>Phylum</th>\n",
       "      <th>Class</th>\n",
       "      <th>Order</th>\n",
       "      <th>Family</th>\n",
       "      <th>Genus</th>\n",
       "      <th>Length</th>\n",
       "      <th>fraction of reads</th>\n",
       "      <th>project</th>\n",
       "      <th>ID</th>\n",
       "      <th>oxy</th>\n",
       "      <th>rep</th>\n",
       "      <th>week</th>\n",
       "    </tr>\n",
       "  </thead>\n",
       "  <tbody>\n",
       "    <tr>\n",
       "      <th>0</th>\n",
       "      <td>Bacteria</td>\n",
       "      <td>Proteobacteria</td>\n",
       "      <td>Gammaproteobacteria</td>\n",
       "      <td>Methylococcales</td>\n",
       "      <td>Methylococcaceae</td>\n",
       "      <td>Methylobacter</td>\n",
       "      <td>9948861</td>\n",
       "      <td>0.205558</td>\n",
       "      <td>1056013</td>\n",
       "      <td>1_LOW4</td>\n",
       "      <td>Low</td>\n",
       "      <td>1</td>\n",
       "      <td>4</td>\n",
       "    </tr>\n",
       "    <tr>\n",
       "      <th>1</th>\n",
       "      <td>Bacteria</td>\n",
       "      <td>Proteobacteria</td>\n",
       "      <td>Betaproteobacteria</td>\n",
       "      <td>Methylophilales</td>\n",
       "      <td>Methylophilaceae</td>\n",
       "      <td>Methylotenera</td>\n",
       "      <td>5066955</td>\n",
       "      <td>0.185898</td>\n",
       "      <td>1056013</td>\n",
       "      <td>1_LOW4</td>\n",
       "      <td>Low</td>\n",
       "      <td>1</td>\n",
       "      <td>4</td>\n",
       "    </tr>\n",
       "    <tr>\n",
       "      <th>2</th>\n",
       "      <td>Bacteria</td>\n",
       "      <td>Proteobacteria</td>\n",
       "      <td></td>\n",
       "      <td></td>\n",
       "      <td></td>\n",
       "      <td>other</td>\n",
       "      <td>3930509</td>\n",
       "      <td>0.075027</td>\n",
       "      <td>1056013</td>\n",
       "      <td>1_LOW4</td>\n",
       "      <td>Low</td>\n",
       "      <td>1</td>\n",
       "      <td>4</td>\n",
       "    </tr>\n",
       "    <tr>\n",
       "      <th>3</th>\n",
       "      <td>Bacteria</td>\n",
       "      <td>Proteobacteria</td>\n",
       "      <td>Gammaproteobacteria</td>\n",
       "      <td></td>\n",
       "      <td></td>\n",
       "      <td>other</td>\n",
       "      <td>5620690</td>\n",
       "      <td>0.073601</td>\n",
       "      <td>1056013</td>\n",
       "      <td>1_LOW4</td>\n",
       "      <td>Low</td>\n",
       "      <td>1</td>\n",
       "      <td>4</td>\n",
       "    </tr>\n",
       "    <tr>\n",
       "      <th>4</th>\n",
       "      <td>Bacteria</td>\n",
       "      <td>Bacteroidetes</td>\n",
       "      <td>Flavobacteriia</td>\n",
       "      <td>Flavobacteriales</td>\n",
       "      <td>Flavobacteriaceae</td>\n",
       "      <td>Flavobacterium</td>\n",
       "      <td>4654774</td>\n",
       "      <td>0.065548</td>\n",
       "      <td>1056013</td>\n",
       "      <td>1_LOW4</td>\n",
       "      <td>Low</td>\n",
       "      <td>1</td>\n",
       "      <td>4</td>\n",
       "    </tr>\n",
       "  </tbody>\n",
       "</table>\n",
       "</div>"
      ],
      "text/plain": [
       "    Kingdom          Phylum                Class             Order  \\\n",
       "0  Bacteria  Proteobacteria  Gammaproteobacteria   Methylococcales   \n",
       "1  Bacteria  Proteobacteria   Betaproteobacteria   Methylophilales   \n",
       "2  Bacteria  Proteobacteria                                          \n",
       "3  Bacteria  Proteobacteria  Gammaproteobacteria                     \n",
       "4  Bacteria   Bacteroidetes       Flavobacteriia  Flavobacteriales   \n",
       "\n",
       "              Family           Genus   Length  fraction of reads  project  \\\n",
       "0   Methylococcaceae   Methylobacter  9948861           0.205558  1056013   \n",
       "1   Methylophilaceae   Methylotenera  5066955           0.185898  1056013   \n",
       "2                              other  3930509           0.075027  1056013   \n",
       "3                              other  5620690           0.073601  1056013   \n",
       "4  Flavobacteriaceae  Flavobacterium  4654774           0.065548  1056013   \n",
       "\n",
       "       ID  oxy  rep  week  \n",
       "0  1_LOW4  Low    1     4  \n",
       "1  1_LOW4  Low    1     4  \n",
       "2  1_LOW4  Low    1     4  \n",
       "3  1_LOW4  Low    1     4  \n",
       "4  1_LOW4  Low    1     4  "
      ]
     },
     "execution_count": 19,
     "metadata": {},
     "output_type": "execute_result"
    }
   ],
   "source": [
    "data_reduced.head()"
   ]
  },
  {
   "cell_type": "code",
   "execution_count": 20,
   "metadata": {
    "collapsed": false
   },
   "outputs": [
    {
     "name": "stdout",
     "output_type": "stream",
     "text": [
      "            ID   Length  fraction of reads\n",
      "219    63_LOW9    15882           0.000028\n",
      "49    73_LOW10    20437           0.000760\n",
      "99     51_LOW8    29583           0.000217\n",
      "100   74_LOW10    33515           0.000278\n",
      "26   122_LOW14    39064           0.001171\n",
      "59    92_HOW11    42204           0.000607\n",
      "103   75_LOW10    45610           0.000124\n",
      "27   124_LOW14    46654           0.001526\n",
      "22   121_LOW14    47061           0.001651\n",
      "29     61_LOW9    52709           0.001694\n",
      "76      4_LOW4    52969           0.000506\n",
      "28   112_LOW13    55629           0.001615\n",
      "74     13_LOW5    58884           0.000652\n",
      "67      9_HOW4    60376           0.000780\n",
      "33      8_HOW4    61368           0.001438\n",
      "116  123_LOW14    68043           0.000175\n",
      "41     49_LOW8    71714           0.000932\n",
      "48      3_LOW4    72753           0.001035\n",
      "52      2_LOW4    73660           0.000926\n",
      "48      1_LOW4    74310           0.001062\n",
      "88     39_LOW7    77028           0.000347\n",
      "56     14_LOW5    88088           0.000793\n",
      "57     27_LOW6    88622           0.000875\n",
      "50     15_LOW5    93077           0.000953\n",
      "57     37_LOW7    96499           0.000638\n",
      "57     57_HOW8    96525           0.000506\n",
      "36     10_HOW4   101934           0.001388\n",
      "39      7_HOW4   105754           0.001432\n",
      "34   100_LOW12   108658           0.001117\n",
      "61     25_LOW6   108785           0.000540\n",
      "..         ...      ...                ...\n",
      "6     97_LOW12  2984166           0.015834\n",
      "2     80_HOW10  3001616           0.087030\n",
      "11    91_HOW11  3011404           0.016662\n",
      "1      32_HOW6  3017162           0.347133\n",
      "8     94_HOW11  3083901           0.028545\n",
      "1    128_HOW14  3096023           0.205689\n",
      "7     99_LOW12  3812409           0.022149\n",
      "0      70_HOW9  3885996           0.371372\n",
      "0      58_HOW8  4742705           0.363455\n",
      "1      33_HOW6  4901475           0.188410\n",
      "1      45_HOW7  5125910           0.198458\n",
      "0      31_HOW6  5194359           0.383851\n",
      "1      19_HOW5  5334592           0.100792\n",
      "0    115_HOW13  5336219           0.531892\n",
      "1     88_LOW11  5341441           0.068999\n",
      "1    106_HOW12  5385211           0.115445\n",
      "0    127_HOW14  5404569           0.360175\n",
      "3    118_HOW13  5426623           0.021599\n",
      "0    104_HOW12  5430800           0.644610\n",
      "1     93_HOW11  5430835           0.071349\n",
      "1    130_HOW14  5449081           0.082110\n",
      "1    103_HOW12  5450134           0.214184\n",
      "1    117_HOW13  5577034           0.158158\n",
      "7     87_LOW11  5643812           0.025104\n",
      "2     81_HOW10  5647252           0.045446\n",
      "2     82_HOW10  5690423           0.045236\n",
      "1      44_HOW7  5795352           0.252276\n",
      "0      43_HOW7  5805202           0.407512\n",
      "1    129_HOW14  5873847           0.121108\n",
      "1    105_HOW12  6111634           0.301190\n",
      "\n",
      "[88 rows x 3 columns]\n"
     ]
    }
   ],
   "source": [
    "# Should have only 1 row per Id now. \n",
    "methylophilus_only = data_reduced[data_reduced['Genus']=='Methylophilus']\n",
    "print(methylophilus_only[['ID', 'Length', 'fraction of reads']].sort_values('Length'))"
   ]
  },
  {
   "cell_type": "code",
   "execution_count": 21,
   "metadata": {
    "collapsed": false
   },
   "outputs": [],
   "source": [
    "if write_excel:\n",
    "    from abundance_utils import write_excel_files\n",
    "    write_excel_files(dataframe = data_reduced, filepath = MAIN_DIR + '/results')"
   ]
  },
  {
   "cell_type": "code",
   "execution_count": 22,
   "metadata": {
    "collapsed": false
   },
   "outputs": [
    {
     "data": {
      "text/html": [
       "<div>\n",
       "<table border=\"1\" class=\"dataframe\">\n",
       "  <thead>\n",
       "    <tr style=\"text-align: right;\">\n",
       "      <th></th>\n",
       "      <th>ID</th>\n",
       "      <th>rep</th>\n",
       "      <th>week</th>\n",
       "      <th>oxy</th>\n",
       "      <th>Genus</th>\n",
       "      <th>Length</th>\n",
       "      <th>fraction of reads</th>\n",
       "      <th>project</th>\n",
       "    </tr>\n",
       "  </thead>\n",
       "  <tbody>\n",
       "    <tr>\n",
       "      <th>7268</th>\n",
       "      <td>118_HOW13</td>\n",
       "      <td>4</td>\n",
       "      <td>13</td>\n",
       "      <td>High</td>\n",
       "      <td>Methylobacter</td>\n",
       "      <td>4326741</td>\n",
       "      <td>0.820344</td>\n",
       "      <td>1056250</td>\n",
       "    </tr>\n",
       "    <tr>\n",
       "      <th>11786</th>\n",
       "      <td>130_HOW14</td>\n",
       "      <td>4</td>\n",
       "      <td>14</td>\n",
       "      <td>High</td>\n",
       "      <td>Methylobacter</td>\n",
       "      <td>4428101</td>\n",
       "      <td>0.776829</td>\n",
       "      <td>1056274</td>\n",
       "    </tr>\n",
       "    <tr>\n",
       "      <th>2432</th>\n",
       "      <td>106_HOW12</td>\n",
       "      <td>4</td>\n",
       "      <td>12</td>\n",
       "      <td>High</td>\n",
       "      <td>Methylobacter</td>\n",
       "      <td>4325001</td>\n",
       "      <td>0.623003</td>\n",
       "      <td>1056226</td>\n",
       "    </tr>\n",
       "    <tr>\n",
       "      <th>45856</th>\n",
       "      <td>82_HOW10</td>\n",
       "      <td>4</td>\n",
       "      <td>10</td>\n",
       "      <td>High</td>\n",
       "      <td>Methylobacter</td>\n",
       "      <td>5488758</td>\n",
       "      <td>0.589218</td>\n",
       "      <td>1056178</td>\n",
       "    </tr>\n",
       "    <tr>\n",
       "      <th>14497</th>\n",
       "      <td>16_LOW5</td>\n",
       "      <td>4</td>\n",
       "      <td>5</td>\n",
       "      <td>Low</td>\n",
       "      <td>other</td>\n",
       "      <td>40011267</td>\n",
       "      <td>0.548044</td>\n",
       "      <td>137285980</td>\n",
       "    </tr>\n",
       "  </tbody>\n",
       "</table>\n",
       "</div>"
      ],
      "text/plain": [
       "              ID  rep  week   oxy          Genus    Length  fraction of reads  \\\n",
       "7268   118_HOW13    4    13  High  Methylobacter   4326741           0.820344   \n",
       "11786  130_HOW14    4    14  High  Methylobacter   4428101           0.776829   \n",
       "2432   106_HOW12    4    12  High  Methylobacter   4325001           0.623003   \n",
       "45856   82_HOW10    4    10  High  Methylobacter   5488758           0.589218   \n",
       "14497    16_LOW5    4     5   Low          other  40011267           0.548044   \n",
       "\n",
       "         project  \n",
       "7268     1056250  \n",
       "11786    1056274  \n",
       "2432     1056226  \n",
       "45856    1056178  \n",
       "14497  137285980  "
      ]
     },
     "execution_count": 22,
     "metadata": {},
     "output_type": "execute_result"
    }
   ],
   "source": [
    "from abundance_utils import reduce_to_genus_only\n",
    "data_reduced_genus = reduce_to_genus_only(data_reduced)\n",
    "data_reduced_genus.head()"
   ]
  },
  {
   "cell_type": "code",
   "execution_count": 23,
   "metadata": {
    "collapsed": true
   },
   "outputs": [],
   "source": [
    "# Write a copy to csv\n",
    "if import_original_data:\n",
    "    data_reduced_genus.to_csv(\n",
    "        MAIN_DIR + \"/results/reduced_data--genus_only.csv\", index=False)"
   ]
  },
  {
   "cell_type": "code",
   "execution_count": 24,
   "metadata": {
    "collapsed": false
   },
   "outputs": [
    {
     "data": {
      "text/html": [
       "<div>\n",
       "<table border=\"1\" class=\"dataframe\">\n",
       "  <thead>\n",
       "    <tr style=\"text-align: right;\">\n",
       "      <th></th>\n",
       "      <th>ID</th>\n",
       "      <th>rep</th>\n",
       "      <th>week</th>\n",
       "      <th>oxy</th>\n",
       "      <th>Genus</th>\n",
       "      <th>Length</th>\n",
       "      <th>fraction of reads</th>\n",
       "      <th>project</th>\n",
       "    </tr>\n",
       "  </thead>\n",
       "  <tbody>\n",
       "    <tr>\n",
       "      <th>7268</th>\n",
       "      <td>118_HOW13</td>\n",
       "      <td>4</td>\n",
       "      <td>13</td>\n",
       "      <td>High</td>\n",
       "      <td>Methylobacter</td>\n",
       "      <td>4326741</td>\n",
       "      <td>0.820344</td>\n",
       "      <td>1056250</td>\n",
       "    </tr>\n",
       "    <tr>\n",
       "      <th>11786</th>\n",
       "      <td>130_HOW14</td>\n",
       "      <td>4</td>\n",
       "      <td>14</td>\n",
       "      <td>High</td>\n",
       "      <td>Methylobacter</td>\n",
       "      <td>4428101</td>\n",
       "      <td>0.776829</td>\n",
       "      <td>1056274</td>\n",
       "    </tr>\n",
       "    <tr>\n",
       "      <th>2432</th>\n",
       "      <td>106_HOW12</td>\n",
       "      <td>4</td>\n",
       "      <td>12</td>\n",
       "      <td>High</td>\n",
       "      <td>Methylobacter</td>\n",
       "      <td>4325001</td>\n",
       "      <td>0.623003</td>\n",
       "      <td>1056226</td>\n",
       "    </tr>\n",
       "  </tbody>\n",
       "</table>\n",
       "</div>"
      ],
      "text/plain": [
       "              ID  rep  week   oxy          Genus   Length  fraction of reads  \\\n",
       "7268   118_HOW13    4    13  High  Methylobacter  4326741           0.820344   \n",
       "11786  130_HOW14    4    14  High  Methylobacter  4428101           0.776829   \n",
       "2432   106_HOW12    4    12  High  Methylobacter  4325001           0.623003   \n",
       "\n",
       "       project  \n",
       "7268   1056250  \n",
       "11786  1056274  \n",
       "2432   1056226  "
      ]
     },
     "execution_count": 24,
     "metadata": {},
     "output_type": "execute_result"
    }
   ],
   "source": [
    "data_reduced_genus.head(3)"
   ]
  },
  {
   "cell_type": "code",
   "execution_count": 25,
   "metadata": {
    "collapsed": true
   },
   "outputs": [],
   "source": [
    "by_repl_and_week_Genus = data_reduced_genus.groupby(['rep','week','oxy'])"
   ]
  },
  {
   "cell_type": "code",
   "execution_count": 26,
   "metadata": {
    "collapsed": true
   },
   "outputs": [],
   "source": [
    "if write_excel:\n",
    "    write_excel_files(dataframe= data_reduced_genus, \n",
    "             filepath = MAIN_DIR +  '/results', \n",
    "             by_genus=True)"
   ]
  },
  {
   "cell_type": "code",
   "execution_count": null,
   "metadata": {
    "collapsed": true
   },
   "outputs": [],
   "source": []
  }
 ],
 "metadata": {
  "anaconda-cloud": {},
  "kernelspec": {
   "display_name": "Python [default]",
   "language": "python",
   "name": "python3"
  },
  "language_info": {
   "codemirror_mode": {
    "name": "ipython",
    "version": 3
   },
   "file_extension": ".py",
   "mimetype": "text/x-python",
   "name": "python",
   "nbconvert_exporter": "python",
   "pygments_lexer": "ipython3",
   "version": "3.5.2"
  }
 },
 "nbformat": 4,
 "nbformat_minor": 0
}
