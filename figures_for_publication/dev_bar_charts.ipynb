{
 "cells": [
  {
   "cell_type": "code",
   "execution_count": 1,
   "metadata": {
    "collapsed": false
   },
   "outputs": [
    {
     "name": "stdout",
     "output_type": "stream",
     "text": [
      "3.5.1 |Continuum Analytics, Inc.| (default, Dec  7 2015, 11:24:55) \n",
      "[GCC 4.2.1 (Apple Inc. build 5577)]\n"
     ]
    }
   ],
   "source": [
    "import sys\n",
    "print(sys.version)\n",
    "\n",
    "# add path to .py files so they can be loaded.\n",
    "module_dir = \"../\"\n",
    "sys.path.append(module_dir)\n",
    "\n",
    "# define the plot dir\n",
    "MAIN_DIR = '../'\n",
    "PLOT_DIR = './plots'\n",
    "RAW_DATA_DIR = '../raw_data/'"
   ]
  },
  {
   "cell_type": "code",
   "execution_count": 2,
   "metadata": {
    "collapsed": true
   },
   "outputs": [],
   "source": [
    "import pandas as pd\n",
    "import seaborn as sns"
   ]
  },
  {
   "cell_type": "code",
   "execution_count": 3,
   "metadata": {
    "collapsed": true
   },
   "outputs": [],
   "source": [
    "%matplotlib inline\n",
    "\n",
    "import matplotlib.pyplot as plt"
   ]
  },
  {
   "cell_type": "code",
   "execution_count": 4,
   "metadata": {
    "collapsed": true
   },
   "outputs": [],
   "source": [
    "import abundance_plot_utils"
   ]
  },
  {
   "cell_type": "code",
   "execution_count": 5,
   "metadata": {
    "collapsed": false
   },
   "outputs": [],
   "source": [
    "data_reduced = \\\n",
    "        pd.read_csv(MAIN_DIR +\n",
    "                    \"results/reduced_data--all_taxonomy_remains.csv\")"
   ]
  },
  {
   "cell_type": "code",
   "execution_count": 6,
   "metadata": {
    "collapsed": true
   },
   "outputs": [],
   "source": [
    "METHYLOCOCCACEAE = {'Genus': ['Methylobacter', 'Methylovulum',\n",
    "                              'Methylomonas', 'Methylosarcina']}"
   ]
  },
  {
   "cell_type": "code",
   "execution_count": 7,
   "metadata": {
    "collapsed": false
   },
   "outputs": [
    {
     "name": "stdout",
     "output_type": "stream",
     "text": [
      "Index(['Kingdom', 'Phylum', 'Class', 'Order', 'Family', 'Genus', 'Length',\n",
      "       'fraction of reads', 'project', 'ID', 'oxy', 'rep', 'week'],\n",
      "      dtype='object')\n",
      "Index(['Kingdom', 'Phylum', 'Class', 'Order', 'Family', 'Genus', 'Length',\n",
      "       'fraction of reads', 'project', 'ID', 'oxy', 'rep', 'week'],\n",
      "      dtype='object')\n",
      "Index(['Kingdom', 'Phylum', 'Class', 'Order', 'Family', 'Genus', 'Length',\n",
      "       'fraction of reads', 'project', 'ID', 'oxy', 'rep', 'week'],\n",
      "      dtype='object')\n",
      "Index(['Kingdom', 'Phylum', 'Class', 'Order', 'Family', 'Genus', 'Length',\n",
      "       'fraction of reads', 'project', 'ID', 'oxy', 'rep', 'week'],\n",
      "      dtype='object')\n"
     ]
    }
   ],
   "source": [
    "def prepare_df(taxa_dict, main_dir, dataframe):\n",
    "    plot_data = abundance_plot_utils.aggregate_mixed_taxonomy(\n",
    "        dataframe=dataframe, taxa_dict=taxa_dict, main_dir=main_dir)\n",
    "    return plot_data\n",
    "\n",
    "prepped_data = prepare_df(taxa_dict = METHYLOCOCCACEAE, main_dir=MAIN_DIR, dataframe=data_reduced)"
   ]
  },
  {
   "cell_type": "code",
   "execution_count": 8,
   "metadata": {
    "collapsed": false
   },
   "outputs": [
    {
     "data": {
      "text/html": [
       "<div>\n",
       "<table border=\"1\" class=\"dataframe\">\n",
       "  <thead>\n",
       "    <tr style=\"text-align: right;\">\n",
       "      <th></th>\n",
       "      <th>ID</th>\n",
       "      <th>abundance sum</th>\n",
       "      <th>taxonomic level</th>\n",
       "      <th>taxonomic name</th>\n",
       "      <th>oxy</th>\n",
       "      <th>rep</th>\n",
       "      <th>week</th>\n",
       "      <th>project</th>\n",
       "    </tr>\n",
       "  </thead>\n",
       "  <tbody>\n",
       "    <tr>\n",
       "      <th>0</th>\n",
       "      <td>100_LOW12</td>\n",
       "      <td>0.488347</td>\n",
       "      <td>Genus</td>\n",
       "      <td>Methylobacter</td>\n",
       "      <td>Low</td>\n",
       "      <td>4</td>\n",
       "      <td>12</td>\n",
       "      <td>1056214</td>\n",
       "    </tr>\n",
       "    <tr>\n",
       "      <th>1</th>\n",
       "      <td>100_LOW12</td>\n",
       "      <td>0.002571</td>\n",
       "      <td>Genus</td>\n",
       "      <td>Methylovulum</td>\n",
       "      <td>Low</td>\n",
       "      <td>4</td>\n",
       "      <td>12</td>\n",
       "      <td>1056214</td>\n",
       "    </tr>\n",
       "    <tr>\n",
       "      <th>2</th>\n",
       "      <td>100_LOW12</td>\n",
       "      <td>0.014736</td>\n",
       "      <td>Genus</td>\n",
       "      <td>Methylomonas</td>\n",
       "      <td>Low</td>\n",
       "      <td>4</td>\n",
       "      <td>12</td>\n",
       "      <td>1056214</td>\n",
       "    </tr>\n",
       "    <tr>\n",
       "      <th>3</th>\n",
       "      <td>100_LOW12</td>\n",
       "      <td>0.004356</td>\n",
       "      <td>Genus</td>\n",
       "      <td>Methylosarcina</td>\n",
       "      <td>Low</td>\n",
       "      <td>4</td>\n",
       "      <td>12</td>\n",
       "      <td>1056214</td>\n",
       "    </tr>\n",
       "    <tr>\n",
       "      <th>4</th>\n",
       "      <td>103_HOW12</td>\n",
       "      <td>0.095143</td>\n",
       "      <td>Genus</td>\n",
       "      <td>Methylobacter</td>\n",
       "      <td>High</td>\n",
       "      <td>1</td>\n",
       "      <td>12</td>\n",
       "      <td>1056217</td>\n",
       "    </tr>\n",
       "  </tbody>\n",
       "</table>\n",
       "</div>"
      ],
      "text/plain": [
       "          ID  abundance sum taxonomic level  taxonomic name   oxy  rep  week  \\\n",
       "0  100_LOW12       0.488347           Genus   Methylobacter   Low    4    12   \n",
       "1  100_LOW12       0.002571           Genus    Methylovulum   Low    4    12   \n",
       "2  100_LOW12       0.014736           Genus    Methylomonas   Low    4    12   \n",
       "3  100_LOW12       0.004356           Genus  Methylosarcina   Low    4    12   \n",
       "4  103_HOW12       0.095143           Genus   Methylobacter  High    1    12   \n",
       "\n",
       "   project  \n",
       "0  1056214  \n",
       "1  1056214  \n",
       "2  1056214  \n",
       "3  1056214  \n",
       "4  1056217  "
      ]
     },
     "execution_count": 8,
     "metadata": {},
     "output_type": "execute_result"
    }
   ],
   "source": [
    "prepped_data.head()"
   ]
  },
  {
   "cell_type": "code",
   "execution_count": 9,
   "metadata": {
    "collapsed": false
   },
   "outputs": [],
   "source": [
    "one_facet = prepped_data[(prepped_data['oxy'] == \"Low\") & (prepped_data['rep'] == 1)]"
   ]
  },
  {
   "cell_type": "code",
   "execution_count": 10,
   "metadata": {
    "collapsed": false
   },
   "outputs": [
    {
     "data": {
      "text/html": [
       "<div>\n",
       "<table border=\"1\" class=\"dataframe\">\n",
       "  <thead>\n",
       "    <tr style=\"text-align: right;\">\n",
       "      <th>taxonomic name</th>\n",
       "      <th>Methylobacter</th>\n",
       "      <th>Methylomonas</th>\n",
       "      <th>Methylosarcina</th>\n",
       "      <th>Methylovulum</th>\n",
       "    </tr>\n",
       "    <tr>\n",
       "      <th>week</th>\n",
       "      <th></th>\n",
       "      <th></th>\n",
       "      <th></th>\n",
       "      <th></th>\n",
       "    </tr>\n",
       "  </thead>\n",
       "  <tbody>\n",
       "    <tr>\n",
       "      <th>4</th>\n",
       "      <td>0.205558</td>\n",
       "      <td>0.018689</td>\n",
       "      <td>0.013274</td>\n",
       "      <td>0.008513</td>\n",
       "    </tr>\n",
       "    <tr>\n",
       "      <th>5</th>\n",
       "      <td>0.296807</td>\n",
       "      <td>0.011619</td>\n",
       "      <td>0.012291</td>\n",
       "      <td>0.004229</td>\n",
       "    </tr>\n",
       "    <tr>\n",
       "      <th>6</th>\n",
       "      <td>0.507823</td>\n",
       "      <td>0.014163</td>\n",
       "      <td>0.009588</td>\n",
       "      <td>0.003858</td>\n",
       "    </tr>\n",
       "    <tr>\n",
       "      <th>7</th>\n",
       "      <td>0.461034</td>\n",
       "      <td>0.010989</td>\n",
       "      <td>0.005845</td>\n",
       "      <td>0.003571</td>\n",
       "    </tr>\n",
       "    <tr>\n",
       "      <th>8</th>\n",
       "      <td>0.429691</td>\n",
       "      <td>0.009909</td>\n",
       "      <td>0.005363</td>\n",
       "      <td>0.003600</td>\n",
       "    </tr>\n",
       "  </tbody>\n",
       "</table>\n",
       "</div>"
      ],
      "text/plain": [
       "taxonomic name  Methylobacter  Methylomonas  Methylosarcina  Methylovulum\n",
       "week                                                                     \n",
       "4                    0.205558      0.018689        0.013274      0.008513\n",
       "5                    0.296807      0.011619        0.012291      0.004229\n",
       "6                    0.507823      0.014163        0.009588      0.003858\n",
       "7                    0.461034      0.010989        0.005845      0.003571\n",
       "8                    0.429691      0.009909        0.005363      0.003600"
      ]
     },
     "execution_count": 10,
     "metadata": {},
     "output_type": "execute_result"
    }
   ],
   "source": [
    "one_facet_pivoted = one_facet.pivot(index='week', columns = 'taxonomic name', values = 'abundance sum')\n",
    "one_facet_pivoted.head()"
   ]
  },
  {
   "cell_type": "code",
   "execution_count": 11,
   "metadata": {
    "collapsed": false
   },
   "outputs": [
    {
     "data": {
      "text/plain": [
       "<matplotlib.legend.Legend at 0x1041d39b0>"
      ]
     },
     "execution_count": 11,
     "metadata": {},
     "output_type": "execute_result"
    },
    {
     "data": {
      "image/png": "[encoded data removed]",
      "text/plain": [
       "<matplotlib.figure.Figure at 0x1041a9ef0>"
      ]
     },
     "metadata": {},
     "output_type": "display_data"
    }
   ],
   "source": [
    "one_facet_pivoted.plot(kind='bar', stacked=True)\n",
    "plt.legend(loc='center left', bbox_to_anchor=(1.0, 0.5))"
   ]
  },
  {
   "cell_type": "code",
   "execution_count": 13,
   "metadata": {
    "collapsed": false
   },
   "outputs": [
    {
     "data": {
      "image/png": "[encoded data removed]",
      "text/plain": [
       "<matplotlib.figure.Figure at 0x10e8f0ef0>"
      ]
     },
     "metadata": {},
     "output_type": "display_data"
    }
   ],
   "source": [
    "ax = one_facet_pivoted.plot()\n",
    "#plt.legend(loc='center left', bbox_to_anchor=(1.0, 0.5))\n",
    "one_facet.plot(kind='scatter', x='week', y='abundance sum', label='', ax=ax);"
   ]
  },
  {
   "cell_type": "code",
   "execution_count": 14,
   "metadata": {
    "collapsed": false
   },
   "outputs": [
    {
     "data": {
      "text/html": [
       "<div>\n",
       "<table border=\"1\" class=\"dataframe\">\n",
       "  <thead>\n",
       "    <tr style=\"text-align: right;\">\n",
       "      <th></th>\n",
       "      <th>ID</th>\n",
       "      <th>abundance sum</th>\n",
       "      <th>taxonomic level</th>\n",
       "      <th>taxonomic name</th>\n",
       "      <th>oxy</th>\n",
       "      <th>rep</th>\n",
       "      <th>week</th>\n",
       "      <th>project</th>\n",
       "    </tr>\n",
       "  </thead>\n",
       "  <tbody>\n",
       "    <tr>\n",
       "      <th>20</th>\n",
       "      <td>109_LOW13</td>\n",
       "      <td>0.549671</td>\n",
       "      <td>Genus</td>\n",
       "      <td>Methylobacter</td>\n",
       "      <td>Low</td>\n",
       "      <td>1</td>\n",
       "      <td>13</td>\n",
       "      <td>1056229</td>\n",
       "    </tr>\n",
       "    <tr>\n",
       "      <th>21</th>\n",
       "      <td>109_LOW13</td>\n",
       "      <td>0.003904</td>\n",
       "      <td>Genus</td>\n",
       "      <td>Methylovulum</td>\n",
       "      <td>Low</td>\n",
       "      <td>1</td>\n",
       "      <td>13</td>\n",
       "      <td>1056229</td>\n",
       "    </tr>\n",
       "    <tr>\n",
       "      <th>22</th>\n",
       "      <td>109_LOW13</td>\n",
       "      <td>0.011319</td>\n",
       "      <td>Genus</td>\n",
       "      <td>Methylomonas</td>\n",
       "      <td>Low</td>\n",
       "      <td>1</td>\n",
       "      <td>13</td>\n",
       "      <td>1056229</td>\n",
       "    </tr>\n",
       "    <tr>\n",
       "      <th>23</th>\n",
       "      <td>109_LOW13</td>\n",
       "      <td>0.008294</td>\n",
       "      <td>Genus</td>\n",
       "      <td>Methylosarcina</td>\n",
       "      <td>Low</td>\n",
       "      <td>1</td>\n",
       "      <td>13</td>\n",
       "      <td>1056229</td>\n",
       "    </tr>\n",
       "    <tr>\n",
       "      <th>56</th>\n",
       "      <td>121_LOW14</td>\n",
       "      <td>0.485900</td>\n",
       "      <td>Genus</td>\n",
       "      <td>Methylobacter</td>\n",
       "      <td>Low</td>\n",
       "      <td>1</td>\n",
       "      <td>14</td>\n",
       "      <td>1056253</td>\n",
       "    </tr>\n",
       "  </tbody>\n",
       "</table>\n",
       "</div>"
      ],
      "text/plain": [
       "           ID  abundance sum taxonomic level  taxonomic name  oxy  rep  week  \\\n",
       "20  109_LOW13       0.549671           Genus   Methylobacter  Low    1    13   \n",
       "21  109_LOW13       0.003904           Genus    Methylovulum  Low    1    13   \n",
       "22  109_LOW13       0.011319           Genus    Methylomonas  Low    1    13   \n",
       "23  109_LOW13       0.008294           Genus  Methylosarcina  Low    1    13   \n",
       "56  121_LOW14       0.485900           Genus   Methylobacter  Low    1    14   \n",
       "\n",
       "    project  \n",
       "20  1056229  \n",
       "21  1056229  \n",
       "22  1056229  \n",
       "23  1056229  \n",
       "56  1056253  "
      ]
     },
     "execution_count": 14,
     "metadata": {},
     "output_type": "execute_result"
    }
   ],
   "source": [
    "one_facet.head()"
   ]
  },
  {
   "cell_type": "code",
   "execution_count": 15,
   "metadata": {
    "collapsed": false
   },
   "outputs": [
    {
     "data": {
      "text/plain": [
       "<bound method FramePlotMethods.scatter of <pandas.tools.plotting.FramePlotMethods object at 0x10e8f0160>>"
      ]
     },
     "execution_count": 15,
     "metadata": {},
     "output_type": "execute_result"
    }
   ],
   "source": [
    "one_facet.plot.scatter"
   ]
  },
  {
   "cell_type": "code",
   "execution_count": 16,
   "metadata": {
    "collapsed": false
   },
   "outputs": [
    {
     "name": "stderr",
     "output_type": "stream",
     "text": [
      "-c:2: FutureWarning: sort(columns=....) is deprecated, use sort_values(by=.....)\n"
     ]
    },
    {
     "data": {
      "text/plain": [
       "<seaborn.axisgrid.FacetGrid at 0x10d21da90>"
      ]
     },
     "execution_count": 16,
     "metadata": {},
     "output_type": "execute_result"
    },
    {
     "data": {
      "image/png": "[encoded data removed]",
      "text/plain": [
       "<matplotlib.figure.Figure at 0x10e1f2ba8>"
      ]
     },
     "metadata": {},
     "output_type": "display_data"
    }
   ],
   "source": [
    "# Use Seaborn FacetGrid without facets:\n",
    "p = sns.FacetGrid(one_facet.sort('week'), hue = 'taxonomic name', size=4, aspect=1.5) #, hue_kws={\"marker\": markers})\n",
    "p.map(plt.scatter, 'week', 'abundance sum', s=80)\n",
    "p.map(plt.plot, 'week', 'abundance sum')"
   ]
  },
  {
   "cell_type": "code",
   "execution_count": 17,
   "metadata": {
    "collapsed": false
   },
   "outputs": [
    {
     "data": {
      "image/png": "[encoded data removed]",
      "text/plain": [
       "<matplotlib.figure.Figure at 0x10e908710>"
      ]
     },
     "metadata": {},
     "output_type": "display_data"
    }
   ],
   "source": [
    "fig, ax = plt.subplots(1, 1, figsize=(5, 6))\n",
    "for tup, df in one_facet.groupby('taxonomic name'):\n",
    "    df.plot.scatter(x='week', y='abundance sum', ax=ax)\n",
    "    "
   ]
  },
  {
   "cell_type": "code",
   "execution_count": 18,
   "metadata": {
    "collapsed": false
   },
   "outputs": [
    {
     "data": {
      "text/plain": [
       "<matplotlib.axes._subplots.AxesSubplot at 0x111dbac88>"
      ]
     },
     "execution_count": 18,
     "metadata": {},
     "output_type": "execute_result"
    },
    {
     "data": {
      "image/png": "[encoded data removed]",
      "text/plain": [
       "<matplotlib.figure.Figure at 0x10e9eefd0>"
      ]
     },
     "metadata": {},
     "output_type": "display_data"
    }
   ],
   "source": [
    "# don't want this: averaging across species. \n",
    "sns.pointplot(x=\"week\", y='abundance sum',data=one_facet)"
   ]
  },
  {
   "cell_type": "code",
   "execution_count": null,
   "metadata": {
    "collapsed": true
   },
   "outputs": [],
   "source": [
    "def facet_bar_plot(data, x, y, **kws): # groupby_col,\n",
    "        \"\"\"\n",
    "        Used to fill the subplots with data.\n",
    "\n",
    "        :param data: dataframe to plot\n",
    "        :param groupby: column to group on\n",
    "        :param xrotation: degrees to rotate x labels by\n",
    "        :param kws: kewyord arguments for plotting\n",
    "        :return:\n",
    "        \"\"\"\n",
    "        # pivot only supports one column for now.\n",
    "        # http://stackoverflow.com/questions/32805267/pandas-pivot-on-multiple-columns-gives-the-truth-value-of-a-dataframe-is-ambigu\n",
    "        \n",
    "        # Pass kwargs to heatmap  cmap used to be 'Blue'\n",
    "        sns.barplot(x=x, y=y, data=data, **kws)\n",
    "        #g.set_xticklabels(rotation=xrotation)"
   ]
  },
  {
   "cell_type": "raw",
   "metadata": {},
   "source": [
    "sns.barplot(x=\"day\", y=\"total_bill\", data=tips)"
   ]
  },
  {
   "cell_type": "code",
   "execution_count": null,
   "metadata": {
    "collapsed": false
   },
   "outputs": [],
   "source": [
    "facet_bar_plot(data=tips, x='day', y='total_bill')\n",
    "# groupby_col,"
   ]
  },
  {
   "cell_type": "code",
   "execution_count": null,
   "metadata": {
    "collapsed": true
   },
   "outputs": [],
   "source": [
    "def plot_heatmap(plot_data, col='week', row='oxy'):\n",
    "    with sns.plotting_context(font_scale=8):\n",
    "        g = sns.FacetGrid(plot_data,\n",
    "                          col=col,\n",
    "                          row=row,\n",
    "                          #size=size,\n",
    "                          #aspect=aspect,\n",
    "                          margin_titles=True)\n",
    "\n",
    "    # Add axes for the colorbar.  [left, bottom, width, height]\n",
    "    cbar_ax = g.fig.add_axes([.92, .3, .02, .4], title='fraction \\n of reads')\n",
    "\n",
    "    g = g.map_dataframe(facet_heatmap,\n",
    "                        cbar_ax=cbar_ax,\n",
    "                        # NEED vmax = MAX ABUNDANCE or each plot will have\n",
    "                        # its own color scale!\n",
    "                        vmin=0, vmax=max_abundance,\n",
    "                        annot=annotate,\n",
    "                        groupby=cols_in_facet,\n",
    "                        xrotation=xrotation)"
   ]
  },
  {
   "cell_type": "raw",
   "metadata": {},
   "source": [
    "   # todo: What happens if you submit a Genus for something you also\n",
    "    # submitted an order for???   For now assume the user is smarter than that.\n",
    "    plot_data = aggregate_mixed_taxonomy(dataframe=dataframe,\n",
    "                                          taxa_dict=taxa_dict,\n",
    "                                          main_dir=main_dir)\n",
    "\n",
    "    # store the maximum abundance level.  We will need to tell all the\n",
    "    # sub-heat maps to use this same maximum so they aren't each on their\n",
    "    # own scale.\n",
    "    max_abundance = plot_data['abundance sum'].max()\n",
    "\n",
    "    # The data is seperated by these two variables.\n",
    "    # The one not used as the facet will be used as the columns in the\n",
    "    # subplot.\n",
    "    if facet == 'week':\n",
    "\n",
    "        cols_in_facet = 'rep'\n",
    "    else:\n",
    "        cols_in_facet = 'week'\n",
    "\n",
    "    print('plot_data.head()')\n",
    "    print(plot_data.head())\n",
    "\n",
    "    def pivot_so_columns_are_plotting_variable(dataframe, groupby):\n",
    "        return dataframe.pivot(index='taxonomic name',\n",
    "                               columns=groupby,\n",
    "                               values='abundance sum')\n",
    "\n",
    "    def facet_heatmap(data, groupby, xrotation, **kws):\n",
    "        \"\"\"\n",
    "        Used to fill the subplots with data.\n",
    "\n",
    "        :param data: dataframe to plot\n",
    "        :param groupby: column to group on\n",
    "        :param xrotation: degrees to rotate x labels by\n",
    "        :param kws: kewyord arguments for plotting\n",
    "        :return:\n",
    "        \"\"\"\n",
    "        # pivot only supports one column for now.\n",
    "        # http://stackoverflow.com/questions/32805267/pandas-pivot-on-multiple-columns-gives-the-truth-value-of-a-dataframe-is-ambigu\n",
    "        facet_data = pivot_so_columns_are_plotting_variable(\n",
    "            dataframe=data, groupby=groupby)\n",
    "        # Pass kwargs to heatmap  cmap used to be 'Blue'\n",
    "        sns.heatmap(facet_data, cmap=\"YlGnBu\", **kws)\n",
    "        g.set_xticklabels(rotation=xrotation)\n",
    "\n",
    "    # todo: add a label at the bottom like \"replicate\" or \"week\"\n",
    "    # currently replicate is turned into facet_replicate but should just\n",
    "    # make a label that says replicate.  Week\n",
    "\n",
    "    # Control plot aesthetics depending on facet option.\n",
    "    if facet == 'week':\n",
    "        xrotation = 0\n",
    "        num_rows = len(plot_data['taxonomic name'].unique())\n",
    "        size = 2 * 0.2*num_rows\n",
    "        aspect = 1\n",
    "        space_for_cbar = 0.85\n",
    "        x_axis_label = 'replicate'\n",
    "\n",
    "    else:\n",
    "        xrotation = 90\n",
    "        # Calculate the size, aspect depending on the number of\n",
    "        #  rows per subplot\n",
    "        num_rows = len(plot_data['taxonomic name'].unique())\n",
    "        size = 0.9 + 0.2*num_rows\n",
    "        aspect = 1.2\n",
    "        space_for_cbar = 0.85\n",
    "        x_axis_label = 'week'\n",
    "\n",
    "    if size_spec:\n",
    "        size = size_spec\n",
    "    if aspect_spec:\n",
    "        aspect = aspect_spec\n",
    "\n",
    "    with sns.plotting_context(font_scale=8):\n",
    "        g = sns.FacetGrid(plot_data,\n",
    "                          col=facet,\n",
    "                          row='oxy',\n",
    "                          size=size,\n",
    "                          aspect=aspect,\n",
    "                          margin_titles=True)\n",
    "\n",
    "    # Add axes for the colorbar.  [left, bottom, width, height]\n",
    "    cbar_ax = g.fig.add_axes([.92, .3, .02, .4], title='fraction \\n of reads')\n",
    "\n",
    "    g = g.map_dataframe(facet_heatmap,\n",
    "                        cbar_ax=cbar_ax,\n",
    "                        # NEED vmax = MAX ABUNDANCE or each plot will have\n",
    "                        # its own color scale!\n",
    "                        vmin=0, vmax=max_abundance,\n",
    "                        annot=annotate,\n",
    "                        groupby=cols_in_facet,\n",
    "                        xrotation=xrotation)\n",
    "\n",
    "    g.set_axis_labels(x_axis_label)\n",
    "\n",
    "    # add space for x label\n",
    "    g.fig.subplots_adjust(bottom=0.2)\n",
    "\n",
    "    # todo: add an x-label for each facet (I want only 1)\n",
    "    # g.set_axis_labels(['x label', 'ylabel'])\n",
    "    # g.fig.subplots_adjust(top=0.2)\n",
    "    # g.fig.text(0.5, 0.1, s='armadillo') #, *args, **kwargs)\n",
    "    # g.fig.xlabel('ardvark')\n",
    "\n",
    "    # Add space so the colorbar doesn't overlap th plot.\n",
    "    g.fig.subplots_adjust(right=space_for_cbar)\n",
    "    # todo: still not enough room for\n",
    "    # Order-Burkholderiales_Methylophilales_Methylococcales--\n",
    "    # Phylum-Bacteroidetes--rep.pdf\n",
    "\n",
    "    # add a supertitle, you bet.\n",
    "    plt.subplots_adjust(top=0.80)\n",
    "    supertitle = taxa_dict_to_descriptive_string(taxa_dict)\n",
    "    g.fig.suptitle(supertitle, size=16)\n",
    "\n",
    "    # Also summarise # of taxa rows being grouped together.\n",
    "\n",
    "    # prepare filename and save.\n",
    "    plot_dir = elviz_utils.prepare_plot_dir(plot_dir)\n",
    "    print(\"plot directory: {}\".format(plot_dir))\n",
    "    filepath = plot_dir + supertitle\n",
    "    filepath += \"--{}\".format(facet)\n",
    "    if annotate:\n",
    "        filepath += \"--annotated\"\n",
    "    filepath += \".pdf\"\n",
    "    print(filepath)\n",
    "    g.fig.savefig(filepath)\n",
    "\n",
    "    return g\n"
   ]
  }
 ],
 "metadata": {
  "kernelspec": {
   "display_name": "IPython (Python 3)",
   "language": "python",
   "name": "python3"
  },
  "language_info": {
   "codemirror_mode": {
    "name": "ipython",
    "version": 3
   },
   "file_extension": ".py",
   "mimetype": "text/x-python",
   "name": "python",
   "nbconvert_exporter": "python",
   "pygments_lexer": "ipython3",
   "version": "3.5.1"
  }
 },
 "nbformat": 4,
 "nbformat_minor": 0
}
