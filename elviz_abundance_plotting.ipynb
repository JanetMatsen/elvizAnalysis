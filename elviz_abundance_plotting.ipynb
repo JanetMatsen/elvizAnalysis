{
 "cells": [
  {
   "cell_type": "code",
   "execution_count": 1,
   "metadata": {
    "collapsed": true
   },
   "outputs": [],
   "source": [
    "import matplotlib\n",
    "\n",
    "matplotlib.use('TkAgg')\n",
    "import matplotlib.pyplot as plt"
   ]
  },
  {
   "cell_type": "code",
   "execution_count": 2,
   "metadata": {
    "collapsed": false
   },
   "outputs": [],
   "source": [
    "#import numpy as np\n",
    "import os\n",
    "import pandas as pd\n",
    "import re\n",
    "import seaborn as sns\n",
    "#import matplotlib.pyplot as plt\n",
    "%matplotlib inline"
   ]
  },
  {
   "cell_type": "markdown",
   "metadata": {},
   "source": [
    "# Plotting"
   ]
  },
  {
   "cell_type": "code",
   "execution_count": 3,
   "metadata": {
    "collapsed": false
   },
   "outputs": [],
   "source": [
    "data_reduced_genus = pd.read_csv(\"./results/reduced_data--genus_only.csv\")"
   ]
  },
  {
   "cell_type": "code",
   "execution_count": 4,
   "metadata": {
    "collapsed": false
   },
   "outputs": [
    {
     "name": "stdout",
     "output_type": "stream",
     "text": [
      "['Methylobacter' 'Methylophilus' 'Methylosarcina' 'other']\n"
     ]
    },
    {
     "data": {
      "text/html": [
       "<div>\n",
       "<table border=\"1\" class=\"dataframe\">\n",
       "  <thead>\n",
       "    <tr style=\"text-align: right;\">\n",
       "      <th></th>\n",
       "      <th>ID</th>\n",
       "      <th>rep</th>\n",
       "      <th>week</th>\n",
       "      <th>oxy</th>\n",
       "      <th>Genus</th>\n",
       "      <th>Length</th>\n",
       "      <th>abundance</th>\n",
       "      <th>project</th>\n",
       "    </tr>\n",
       "  </thead>\n",
       "  <tbody>\n",
       "    <tr>\n",
       "      <th>0</th>\n",
       "      <td>106_HOW12</td>\n",
       "      <td>4</td>\n",
       "      <td>12</td>\n",
       "      <td>High</td>\n",
       "      <td>Methylobacter</td>\n",
       "      <td>4325001</td>\n",
       "      <td>0.701923</td>\n",
       "      <td>1056226</td>\n",
       "    </tr>\n",
       "    <tr>\n",
       "      <th>1</th>\n",
       "      <td>76_LOW10</td>\n",
       "      <td>4</td>\n",
       "      <td>10</td>\n",
       "      <td>Low</td>\n",
       "      <td>Methylobacter</td>\n",
       "      <td>6062067</td>\n",
       "      <td>0.701577</td>\n",
       "      <td>1056166</td>\n",
       "    </tr>\n",
       "    <tr>\n",
       "      <th>2</th>\n",
       "      <td>94_HOW11</td>\n",
       "      <td>4</td>\n",
       "      <td>11</td>\n",
       "      <td>High</td>\n",
       "      <td>Methylobacter</td>\n",
       "      <td>5268714</td>\n",
       "      <td>0.698849</td>\n",
       "      <td>1056202</td>\n",
       "    </tr>\n",
       "    <tr>\n",
       "      <th>3</th>\n",
       "      <td>82_HOW10</td>\n",
       "      <td>4</td>\n",
       "      <td>10</td>\n",
       "      <td>High</td>\n",
       "      <td>Methylobacter</td>\n",
       "      <td>5488758</td>\n",
       "      <td>0.693746</td>\n",
       "      <td>1056178</td>\n",
       "    </tr>\n",
       "    <tr>\n",
       "      <th>4</th>\n",
       "      <td>40_LOW7</td>\n",
       "      <td>4</td>\n",
       "      <td>7</td>\n",
       "      <td>Low</td>\n",
       "      <td>Methylobacter</td>\n",
       "      <td>6012817</td>\n",
       "      <td>0.668513</td>\n",
       "      <td>1056094</td>\n",
       "    </tr>\n",
       "  </tbody>\n",
       "</table>\n",
       "</div>"
      ],
      "text/plain": [
       "          ID  rep  week   oxy          Genus   Length  abundance  project\n",
       "0  106_HOW12    4    12  High  Methylobacter  4325001   0.701923  1056226\n",
       "1   76_LOW10    4    10   Low  Methylobacter  6062067   0.701577  1056166\n",
       "2   94_HOW11    4    11  High  Methylobacter  5268714   0.698849  1056202\n",
       "3   82_HOW10    4    10  High  Methylobacter  5488758   0.693746  1056178\n",
       "4    40_LOW7    4     7   Low  Methylobacter  6012817   0.668513  1056094"
      ]
     },
     "execution_count": 4,
     "metadata": {},
     "output_type": "execute_result"
    }
   ],
   "source": [
    "from abundance_utils import filter_by_abundance\n",
    "\n",
    "filter_by_abundance(data=data_reduced_genus, \n",
    "                    column='abundance', high=1, low=0.5).head()"
   ]
  },
  {
   "cell_type": "markdown",
   "metadata": {},
   "source": [
    "## Demo `plot_heatmap()`"
   ]
  },
  {
   "cell_type": "code",
   "execution_count": 5,
   "metadata": {
    "collapsed": false
   },
   "outputs": [
    {
     "ename": "TypeError",
     "evalue": "plot_heatmap() got an unexpected keyword argument 'data'",
     "output_type": "error",
     "traceback": [
      "\u001b[0;31m---------------------------------------------------------------------------\u001b[0m",
      "\u001b[0;31mTypeError\u001b[0m                                 Traceback (most recent call last)",
      "\u001b[0;32m<ipython-input-5-248d3a2d3912>\u001b[0m in \u001b[0;36m<module>\u001b[0;34m()\u001b[0m\n\u001b[1;32m      4\u001b[0m plot_heatmap(data=data_reduced_genus, high=0.6, low = 0.5, \n\u001b[1;32m      5\u001b[0m              \u001b[0moxy\u001b[0m\u001b[0;34m=\u001b[0m\u001b[0;34m'High'\u001b[0m\u001b[0;34m,\u001b[0m \u001b[0mrep\u001b[0m\u001b[0;34m=\u001b[0m\u001b[0;34m'all'\u001b[0m\u001b[0;34m,\u001b[0m\u001b[0;34m\u001b[0m\u001b[0m\n\u001b[0;32m----> 6\u001b[0;31m              plot_dir=\"./plots/facet_replicate\")\n\u001b[0m",
      "\u001b[0;31mTypeError\u001b[0m: plot_heatmap() got an unexpected keyword argument 'data'"
     ]
    }
   ],
   "source": [
    "from abundance_plot_utils import plot_heatmap\n",
    "\n",
    "# demo:\n",
    "plot_heatmap(data=data_reduced_genus, high=0.6, low = 0.5, \n",
    "             oxy='High', rep='all', \n",
    "             plot_dir=\"./plots/facet_replicate\")"
   ]
  },
  {
   "cell_type": "markdown",
   "metadata": {},
   "source": [
    "## Run `plot_heatmap()` across braod conditions"
   ]
  },
  {
   "cell_type": "raw",
   "metadata": {
    "collapsed": false
   },
   "source": [
    "# Loop through the ranges we want. \n",
    "oxy_conditions = ['Low', 'High']\n",
    "max_abundance = 1\n",
    "range_pairs = [(0.01, max_abundance), \n",
    "               (0.05, max_abundance), \n",
    "               (0.1, max_abundance), \n",
    "               (0.5, max_abundance)]\n",
    "for o in oxy_conditions:\n",
    "    for r in range_pairs:\n",
    "        #print \"oxygen:\", o\n",
    "        #print \"range:\", r\n",
    "        #print \"range (low):\", r[0]\n",
    "        plot_heatmap(data=data_reduced_genus, \n",
    "                     low =r[0], high=r[1], oxy=o, rep='all',\n",
    "                    plot_dir ='./plots/facet_replicate')"
   ]
  },
  {
   "cell_type": "code",
   "execution_count": null,
   "metadata": {
    "collapsed": false
   },
   "outputs": [],
   "source": [
    "#data_reduced_genus[data_reduced_genus['ID']=='79_HOW10'].head()"
   ]
  },
  {
   "cell_type": "code",
   "execution_count": null,
   "metadata": {
    "collapsed": false
   },
   "outputs": [],
   "source": [
    "#data_reduced_genus[data_reduced_genus['Genus']=='other'].head()"
   ]
  },
  {
   "cell_type": "code",
   "execution_count": null,
   "metadata": {
    "collapsed": false
   },
   "outputs": [],
   "source": [
    "#data_reduced_genus.columns"
   ]
  },
  {
   "cell_type": "markdown",
   "metadata": {
    "collapsed": true
   },
   "source": [
    "## `plot_across_phylogeny()`\n",
    "\n",
    "Reproduce Mila's plots which often have mixed phylogeny levels."
   ]
  },
  {
   "cell_type": "markdown",
   "metadata": {},
   "source": [
    "Import the data that was *not* reduced to Genus. "
   ]
  },
  {
   "cell_type": "code",
   "execution_count": null,
   "metadata": {
    "collapsed": false
   },
   "outputs": [],
   "source": [
    "data_reduced = pd.read_csv(\"./results/reduced_data--all_phylogeny_remains.csv\")"
   ]
  },
  {
   "cell_type": "code",
   "execution_count": null,
   "metadata": {
    "collapsed": false
   },
   "outputs": [],
   "source": [
    "from abundance_plot_utils import other_phylogeny_levels\n",
    "\n",
    "other_phylogeny_levels('Family')"
   ]
  },
  {
   "cell_type": "code",
   "execution_count": null,
   "metadata": {
    "collapsed": false
   },
   "outputs": [],
   "source": [
    "from abundance_plot_utils import sum_on_phylogeny"
   ]
  },
  {
   "cell_type": "code",
   "execution_count": null,
   "metadata": {
    "collapsed": false
   },
   "outputs": [],
   "source": [
    "tmp = sum_on_phylogeny(dataframe = data_reduced,\n",
    "                phylo_level = 'Phylum',\n",
    "                name = 'Bacteroidetes')"
   ]
  },
  {
   "cell_type": "code",
   "execution_count": null,
   "metadata": {
    "collapsed": false
   },
   "outputs": [],
   "source": [
    "tmp.head()"
   ]
  },
  {
   "cell_type": "code",
   "execution_count": null,
   "metadata": {
    "collapsed": false
   },
   "outputs": [],
   "source": [
    "type(tmp)"
   ]
  },
  {
   "cell_type": "code",
   "execution_count": null,
   "metadata": {
    "collapsed": false
   },
   "outputs": [],
   "source": [
    "tmp.shape"
   ]
  },
  {
   "cell_type": "code",
   "execution_count": null,
   "metadata": {
    "collapsed": false
   },
   "outputs": [],
   "source": [
    "from abundance_plot_utils import aggregate_mixed_phylogeny"
   ]
  },
  {
   "cell_type": "code",
   "execution_count": null,
   "metadata": {
    "collapsed": true
   },
   "outputs": [],
   "source": [
    "plot_1_spec_dict = {'Phylum':['Bacteroidetes'], \n",
    "                    'Order':['Burkholderiales','Methylophilales',\n",
    "                             'Methylococcales']}"
   ]
  },
  {
   "cell_type": "code",
   "execution_count": null,
   "metadata": {
    "collapsed": false
   },
   "outputs": [],
   "source": [
    "plot_1_data = aggregate_mixed_phylogeny(dataframe = \n",
    "                          pd.read_csv(\n",
    "        \"./results/reduced_data--all_phylogeny_remains.csv\"),\n",
    "                          phylo_dict = plot_1_spec_dict)"
   ]
  },
  {
   "cell_type": "code",
   "execution_count": null,
   "metadata": {
    "collapsed": false
   },
   "outputs": [],
   "source": [
    "plot_1_data.head()"
   ]
  },
  {
   "cell_type": "code",
   "execution_count": null,
   "metadata": {
    "collapsed": false
   },
   "outputs": [],
   "source": [
    "plot_1_data[['phylogenetic level', 'phylogenetic name']].drop_duplicates()"
   ]
  },
  {
   "cell_type": "code",
   "execution_count": null,
   "metadata": {
    "collapsed": false
   },
   "outputs": [],
   "source": [
    "plot_1_data.shape"
   ]
  },
  {
   "cell_type": "code",
   "execution_count": null,
   "metadata": {
    "collapsed": false
   },
   "outputs": [],
   "source": [
    "plot_1_data.shape"
   ]
  },
  {
   "cell_type": "code",
   "execution_count": null,
   "metadata": {
    "collapsed": false
   },
   "outputs": [],
   "source": [
    "from abundance_plot_utils import plot_across_phylogeny"
   ]
  },
  {
   "cell_type": "code",
   "execution_count": null,
   "metadata": {
    "collapsed": false
   },
   "outputs": [],
   "source": [
    "plot_1_spec_dict = {'Phylum':['Bacteroidetes'], \n",
    "                    'Order':['Burkholderiales', 'Methylophilales',\n",
    "                             'Methylococcales']}\n",
    "\n",
    "g = plot_across_phylogeny(dataframe = \n",
    "                          pd.read_csv(\n",
    "        \"./results/reduced_data--all_phylogeny_remains.csv\"),\n",
    "                          phylo_dict = plot_1_spec_dict)"
   ]
  },
  {
   "cell_type": "code",
   "execution_count": null,
   "metadata": {
    "collapsed": false
   },
   "outputs": [],
   "source": [
    "g.fig"
   ]
  },
  {
   "cell_type": "raw",
   "metadata": {
    "collapsed": true
   },
   "source": [
    "g.fig.savefig('abc.pdf')"
   ]
  },
  {
   "cell_type": "code",
   "execution_count": null,
   "metadata": {
    "collapsed": false
   },
   "outputs": [],
   "source": [
    "p_dicts = [\n",
    "    {'Phylum':['Bacteroidetes'], \n",
    "     'Order':['Burkholderiales', 'Methylophilales', 'Methylococcales']},\n",
    "        \n",
    "    {'Genus':['Methylobacter', 'Methylovulum', 'Methylomonas', 'Methylomicrobium', \n",
    "              'Methyloglobulus', 'Methylococcus', 'Methylocaldum', 'Methanosarcina']},\n",
    "    \n",
    "    {'Genus':['Methylotenera', 'Methylovorus', 'Methylophilus', 'Methylobacillus']}\n",
    "\n",
    "    ]"
   ]
  },
  {
   "cell_type": "code",
   "execution_count": null,
   "metadata": {
    "collapsed": false
   },
   "outputs": [],
   "source": [
    "for p_dict in p_dicts:\n",
    "    plot_across_phylogeny(dataframe = \n",
    "                          pd.read_csv(\"./results/reduced_data--all_phylogeny_remains.csv\"),\n",
    "                          phylo_dict = p_dict)\n",
    "    "
   ]
  },
  {
   "cell_type": "code",
   "execution_count": null,
   "metadata": {
    "collapsed": false
   },
   "outputs": [],
   "source": [
    "plot_across_phylogeny(dataframe = \n",
    "                          pd.read_csv(\"./results/reduced_data--all_phylogeny_remains.csv\"),\n",
    "                          phylo_dict = {'Genus':['Methylobacter', 'Methylovulum', \n",
    "                                                 'Methylomonas', 'Methylomicrobium',\n",
    "                                                 'Methyloglobulus', 'Methylococcus', \n",
    "                                                 'Methylocaldum', 'Methanosarcina',\n",
    "                                                 'Methylosarcina'\n",
    "                                                 ]})"
   ]
  },
  {
   "cell_type": "code",
   "execution_count": null,
   "metadata": {
    "collapsed": true
   },
   "outputs": [],
   "source": []
  }
 ],
 "metadata": {
  "kernelspec": {
   "display_name": "IPython (Python 3)",
   "language": "python",
   "name": "python3"
  },
  "language_info": {
   "codemirror_mode": {
    "name": "ipython",
    "version": 3
   },
   "file_extension": ".py",
   "mimetype": "text/x-python",
   "name": "python",
   "nbconvert_exporter": "python",
   "pygments_lexer": "ipython3",
   "version": "3.5.1"
  }
 },
 "nbformat": 4,
 "nbformat_minor": 0
}
