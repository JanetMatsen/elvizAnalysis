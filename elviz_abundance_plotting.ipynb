{
 "cells": [
  {
   "cell_type": "code",
   "execution_count": 1,
   "metadata": {
    "collapsed": true
   },
   "outputs": [],
   "source": [
    "import matplotlib\n",
    "\n",
    "matplotlib.use('TkAgg')\n",
    "import matplotlib.pyplot as plt"
   ]
  },
  {
   "cell_type": "code",
   "execution_count": 2,
   "metadata": {
    "collapsed": false
   },
   "outputs": [],
   "source": [
    "#import numpy as np\n",
    "import os\n",
    "import pandas as pd\n",
    "import re\n",
    "import seaborn as sns\n",
    "#import matplotlib.pyplot as plt\n",
    "%matplotlib inline"
   ]
  },
  {
   "cell_type": "markdown",
   "metadata": {},
   "source": [
    "# Plotting"
   ]
  },
  {
   "cell_type": "code",
   "execution_count": 3,
   "metadata": {
    "collapsed": false
   },
   "outputs": [],
   "source": [
    "data_reduced_genus = pd.read_csv(\"./results/reduced_data--genus_only.csv\")"
   ]
  },
  {
   "cell_type": "code",
   "execution_count": 4,
   "metadata": {
    "collapsed": false
   },
   "outputs": [
    {
     "name": "stdout",
     "output_type": "stream",
     "text": [
      "['Methylobacter' 'Methylophilus' 'Methylosarcina' 'other']\n"
     ]
    },
    {
     "data": {
      "text/html": [
       "<div>\n",
       "<table border=\"1\" class=\"dataframe\">\n",
       "  <thead>\n",
       "    <tr style=\"text-align: right;\">\n",
       "      <th></th>\n",
       "      <th>ID</th>\n",
       "      <th>rep</th>\n",
       "      <th>week</th>\n",
       "      <th>oxy</th>\n",
       "      <th>Genus</th>\n",
       "      <th>Length</th>\n",
       "      <th>abundance</th>\n",
       "      <th>project</th>\n",
       "    </tr>\n",
       "  </thead>\n",
       "  <tbody>\n",
       "    <tr>\n",
       "      <th>0</th>\n",
       "      <td>106_HOW12</td>\n",
       "      <td>4</td>\n",
       "      <td>12</td>\n",
       "      <td>High</td>\n",
       "      <td>Methylobacter</td>\n",
       "      <td>4325001</td>\n",
       "      <td>0.701923</td>\n",
       "      <td>1056226</td>\n",
       "    </tr>\n",
       "    <tr>\n",
       "      <th>1</th>\n",
       "      <td>76_LOW10</td>\n",
       "      <td>4</td>\n",
       "      <td>10</td>\n",
       "      <td>Low</td>\n",
       "      <td>Methylobacter</td>\n",
       "      <td>6062067</td>\n",
       "      <td>0.701577</td>\n",
       "      <td>1056166</td>\n",
       "    </tr>\n",
       "    <tr>\n",
       "      <th>2</th>\n",
       "      <td>94_HOW11</td>\n",
       "      <td>4</td>\n",
       "      <td>11</td>\n",
       "      <td>High</td>\n",
       "      <td>Methylobacter</td>\n",
       "      <td>5268714</td>\n",
       "      <td>0.698849</td>\n",
       "      <td>1056202</td>\n",
       "    </tr>\n",
       "    <tr>\n",
       "      <th>3</th>\n",
       "      <td>82_HOW10</td>\n",
       "      <td>4</td>\n",
       "      <td>10</td>\n",
       "      <td>High</td>\n",
       "      <td>Methylobacter</td>\n",
       "      <td>5488758</td>\n",
       "      <td>0.693746</td>\n",
       "      <td>1056178</td>\n",
       "    </tr>\n",
       "    <tr>\n",
       "      <th>4</th>\n",
       "      <td>40_LOW7</td>\n",
       "      <td>4</td>\n",
       "      <td>7</td>\n",
       "      <td>Low</td>\n",
       "      <td>Methylobacter</td>\n",
       "      <td>6012817</td>\n",
       "      <td>0.668513</td>\n",
       "      <td>1056094</td>\n",
       "    </tr>\n",
       "  </tbody>\n",
       "</table>\n",
       "</div>"
      ],
      "text/plain": [
       "          ID  rep  week   oxy          Genus   Length  abundance  project\n",
       "0  106_HOW12    4    12  High  Methylobacter  4325001   0.701923  1056226\n",
       "1   76_LOW10    4    10   Low  Methylobacter  6062067   0.701577  1056166\n",
       "2   94_HOW11    4    11  High  Methylobacter  5268714   0.698849  1056202\n",
       "3   82_HOW10    4    10  High  Methylobacter  5488758   0.693746  1056178\n",
       "4    40_LOW7    4     7   Low  Methylobacter  6012817   0.668513  1056094"
      ]
     },
     "execution_count": 4,
     "metadata": {},
     "output_type": "execute_result"
    }
   ],
   "source": [
    "from abundance_utils import filter_by_abundance\n",
    "\n",
    "filter_by_abundance(data=data_reduced_genus, \n",
    "                    column='abundance', high=1, low=0.5).head()"
   ]
  },
  {
   "cell_type": "markdown",
   "metadata": {},
   "source": [
    "## Demo `plot_heatmap()`"
   ]
  },
  {
   "cell_type": "code",
   "execution_count": 5,
   "metadata": {
    "collapsed": false
   },
   "outputs": [
    {
     "name": "stdout",
     "output_type": "stream",
     "text": [
      "keep only High oxygen samples\n",
      "['Methylobacter' 'Methylophilus' 'Methylosarcina' 'other']\n",
      "filename: High_oxygen--0.5_to_0.6_abundance\n"
     ]
    },
    {
     "name": "stderr",
     "output_type": "stream",
     "text": [
      "/Users/janet/.virtualenvs/meta4/lib/python3.5/site-packages/matplotlib/figure.py:1744: UserWarning: This figure includes Axes that are not compatible with tight_layout, so its results might be incorrect.\n",
      "  warnings.warn(\"This figure includes Axes that are not \"\n"
     ]
    },
    {
     "data": {
      "image/png": "[encoded data removed]",
      "text/plain": [
       "<matplotlib.figure.Figure at 0x1093c9470>"
      ]
     },
     "metadata": {},
     "output_type": "display_data"
    }
   ],
   "source": [
    "from abundance_plot_utils import plot_heatmap\n",
    "\n",
    "# demo:\n",
    "plot_heatmap(dataframe=data_reduced_genus, high=0.6, low = 0.5, \n",
    "             oxy='High', rep='all', \n",
    "             plot_dir=\"./plots/facet_replicate\")"
   ]
  },
  {
   "cell_type": "markdown",
   "metadata": {},
   "source": [
    "## Run `plot_heatmap()` across braod conditions"
   ]
  },
  {
   "cell_type": "raw",
   "metadata": {
    "collapsed": false
   },
   "source": [
    "# Loop through the ranges we want. \n",
    "oxy_conditions = ['Low', 'High']\n",
    "max_abundance = 1\n",
    "range_pairs = [(0.01, max_abundance), \n",
    "               (0.05, max_abundance), \n",
    "               (0.1, max_abundance), \n",
    "               (0.5, max_abundance)]\n",
    "for o in oxy_conditions:\n",
    "    for r in range_pairs:\n",
    "        #print \"oxygen:\", o\n",
    "        #print \"range:\", r\n",
    "        #print \"range (low):\", r[0]\n",
    "        plot_heatmap(data=data_reduced_genus, \n",
    "                     low =r[0], high=r[1], oxy=o, rep='all',\n",
    "                    plot_dir ='./plots/facet_replicate')"
   ]
  },
  {
   "cell_type": "code",
   "execution_count": 6,
   "metadata": {
    "collapsed": false
   },
   "outputs": [],
   "source": [
    "#data_reduced_genus[data_reduced_genus['ID']=='79_HOW10'].head()"
   ]
  },
  {
   "cell_type": "code",
   "execution_count": 7,
   "metadata": {
    "collapsed": false
   },
   "outputs": [],
   "source": [
    "#data_reduced_genus[data_reduced_genus['Genus']=='other'].head()"
   ]
  },
  {
   "cell_type": "code",
   "execution_count": 8,
   "metadata": {
    "collapsed": false
   },
   "outputs": [],
   "source": [
    "#data_reduced_genus.columns"
   ]
  },
  {
   "cell_type": "markdown",
   "metadata": {
    "collapsed": true
   },
   "source": [
    "## `plot_across_phylogeny()`\n",
    "\n",
    "Reproduce Mila's plots which often have mixed phylogeny levels."
   ]
  },
  {
   "cell_type": "markdown",
   "metadata": {},
   "source": [
    "Import the data that was *not* reduced to Genus. "
   ]
  },
  {
   "cell_type": "code",
   "execution_count": 9,
   "metadata": {
    "collapsed": false
   },
   "outputs": [],
   "source": [
    "data_reduced = pd.read_csv(\"./results/reduced_data--all_phylogeny_remains.csv\")"
   ]
  },
  {
   "cell_type": "code",
   "execution_count": 10,
   "metadata": {
    "collapsed": false
   },
   "outputs": [
    {
     "data": {
      "text/plain": [
       "['Kingdom', 'Phylum', 'Class', 'Order', 'Genus']"
      ]
     },
     "execution_count": 10,
     "metadata": {},
     "output_type": "execute_result"
    }
   ],
   "source": [
    "from abundance_plot_utils import other_phylogeny_levels\n",
    "\n",
    "other_phylogeny_levels('Family')"
   ]
  },
  {
   "cell_type": "code",
   "execution_count": 11,
   "metadata": {
    "collapsed": false
   },
   "outputs": [],
   "source": [
    "from abundance_plot_utils import sum_on_phylogeny"
   ]
  },
  {
   "cell_type": "code",
   "execution_count": 12,
   "metadata": {
    "collapsed": false
   },
   "outputs": [
    {
     "name": "stdout",
     "output_type": "stream",
     "text": [
      "Index(['Kingdom', 'Phylum', 'Class', 'Order', 'Family', 'Genus', 'Length',\n",
      "       'abundance', 'filepath', 'project', 'ID', 'oxy', 'rep', 'week'],\n",
      "      dtype='object')\n"
     ]
    }
   ],
   "source": [
    "tmp = sum_on_phylogeny(dataframe = data_reduced,\n",
    "                phylo_level = 'Phylum',\n",
    "                name = 'Bacteroidetes')"
   ]
  },
  {
   "cell_type": "code",
   "execution_count": 13,
   "metadata": {
    "collapsed": false
   },
   "outputs": [
    {
     "data": {
      "text/plain": [
       "Phylum         ID       \n",
       "Bacteroidetes  100_LOW12    0.016338\n",
       "               103_HOW12    0.020091\n",
       "               104_HOW12    0.084478\n",
       "               105_HOW12    0.002782\n",
       "               106_HOW12    0.004402\n",
       "Name: abundance, dtype: float64"
      ]
     },
     "execution_count": 13,
     "metadata": {},
     "output_type": "execute_result"
    }
   ],
   "source": [
    "tmp.head()"
   ]
  },
  {
   "cell_type": "code",
   "execution_count": 14,
   "metadata": {
    "collapsed": false
   },
   "outputs": [
    {
     "data": {
      "text/plain": [
       "pandas.core.series.Series"
      ]
     },
     "execution_count": 14,
     "metadata": {},
     "output_type": "execute_result"
    }
   ],
   "source": [
    "type(tmp)"
   ]
  },
  {
   "cell_type": "code",
   "execution_count": 15,
   "metadata": {
    "collapsed": false
   },
   "outputs": [
    {
     "data": {
      "text/plain": [
       "(88,)"
      ]
     },
     "execution_count": 15,
     "metadata": {},
     "output_type": "execute_result"
    }
   ],
   "source": [
    "tmp.shape"
   ]
  },
  {
   "cell_type": "code",
   "execution_count": 16,
   "metadata": {
    "collapsed": false
   },
   "outputs": [],
   "source": [
    "from abundance_plot_utils import aggregate_mixed_phylogeny"
   ]
  },
  {
   "cell_type": "code",
   "execution_count": 17,
   "metadata": {
    "collapsed": true
   },
   "outputs": [],
   "source": [
    "plot_1_spec_dict = {'Phylum':['Bacteroidetes'], \n",
    "                    'Order':['Burkholderiales','Methylophilales',\n",
    "                             'Methylococcales']}"
   ]
  },
  {
   "cell_type": "code",
   "execution_count": 18,
   "metadata": {
    "collapsed": false
   },
   "outputs": [
    {
     "name": "stdout",
     "output_type": "stream",
     "text": [
      "Bacteroidetes\n",
      "Index(['Kingdom', 'Phylum', 'Class', 'Order', 'Family', 'Genus', 'Length',\n",
      "       'abundance', 'filepath', 'project', 'ID', 'oxy', 'rep', 'week'],\n",
      "      dtype='object')\n",
      "reduced_rows.head(2)\n",
      "          Phylum         ID  abundance\n",
      "0  Bacteroidetes  100_LOW12   0.016338\n",
      "1  Bacteroidetes  103_HOW12   0.020091\n",
      "reduced_rows.head(2)\n",
      "          ID  abundance\n",
      "0  100_LOW12   0.016338\n",
      "1  103_HOW12   0.020091\n",
      "          ID  abundance sum phylogenetic level phylogenetic name\n",
      "0  100_LOW12       0.016338             Phylum     Bacteroidetes\n",
      "1  103_HOW12       0.020091             Phylum     Bacteroidetes\n",
      "Burkholderiales\n",
      "Index(['Kingdom', 'Phylum', 'Class', 'Order', 'Family', 'Genus', 'Length',\n",
      "       'abundance', 'filepath', 'project', 'ID', 'oxy', 'rep', 'week'],\n",
      "      dtype='object')\n",
      "reduced_rows.head(2)\n",
      "             Order         ID  abundance\n",
      "0  Burkholderiales  100_LOW12   0.058808\n",
      "1  Burkholderiales  103_HOW12   0.100325\n",
      "reduced_rows.head(2)\n",
      "          ID  abundance\n",
      "0  100_LOW12   0.058808\n",
      "1  103_HOW12   0.100325\n",
      "          ID  abundance sum phylogenetic level phylogenetic name\n",
      "0  100_LOW12       0.058808              Order   Burkholderiales\n",
      "1  103_HOW12       0.100325              Order   Burkholderiales\n",
      "Methylophilales\n",
      "Index(['Kingdom', 'Phylum', 'Class', 'Order', 'Family', 'Genus', 'Length',\n",
      "       'abundance', 'filepath', 'project', 'ID', 'oxy', 'rep', 'week'],\n",
      "      dtype='object')\n",
      "reduced_rows.head(2)\n",
      "             Order         ID  abundance\n",
      "0  Methylophilales  100_LOW12   0.103922\n",
      "1  Methylophilales  103_HOW12   0.514170\n",
      "reduced_rows.head(2)\n",
      "          ID  abundance\n",
      "0  100_LOW12   0.103922\n",
      "1  103_HOW12   0.514170\n",
      "          ID  abundance sum phylogenetic level phylogenetic name\n",
      "0  100_LOW12       0.103922              Order   Methylophilales\n",
      "1  103_HOW12       0.514170              Order   Methylophilales\n",
      "Methylococcales\n",
      "Index(['Kingdom', 'Phylum', 'Class', 'Order', 'Family', 'Genus', 'Length',\n",
      "       'abundance', 'filepath', 'project', 'ID', 'oxy', 'rep', 'week'],\n",
      "      dtype='object')\n",
      "reduced_rows.head(2)\n",
      "             Order         ID  abundance\n",
      "0  Methylococcales  100_LOW12   0.673723\n",
      "1  Methylococcales  103_HOW12   0.249763\n",
      "reduced_rows.head(2)\n",
      "          ID  abundance\n",
      "0  100_LOW12   0.673723\n",
      "1  103_HOW12   0.249763\n",
      "          ID  abundance sum phylogenetic level phylogenetic name\n",
      "0  100_LOW12       0.673723              Order   Methylococcales\n",
      "1  103_HOW12       0.249763              Order   Methylococcales\n",
      "dataframe.head()\n",
      "          ID  abundance sum phylogenetic level phylogenetic name\n",
      "0  100_LOW12       0.016338             Phylum     Bacteroidetes\n",
      "1  103_HOW12       0.020091             Phylum     Bacteroidetes\n",
      "2  104_HOW12       0.084478             Phylum     Bacteroidetes\n",
      "3  105_HOW12       0.002782             Phylum     Bacteroidetes\n",
      "4  106_HOW12       0.004402             Phylum     Bacteroidetes\n"
     ]
    }
   ],
   "source": [
    "plot_1_data = aggregate_mixed_phylogeny(dataframe = \n",
    "                          pd.read_csv(\n",
    "        \"./results/reduced_data--all_phylogeny_remains.csv\"),\n",
    "                          phylo_dict = plot_1_spec_dict)"
   ]
  },
  {
   "cell_type": "code",
   "execution_count": 19,
   "metadata": {
    "collapsed": false
   },
   "outputs": [
    {
     "data": {
      "text/html": [
       "<div>\n",
       "<table border=\"1\" class=\"dataframe\">\n",
       "  <thead>\n",
       "    <tr style=\"text-align: right;\">\n",
       "      <th></th>\n",
       "      <th>ID</th>\n",
       "      <th>abundance sum</th>\n",
       "      <th>phylogenetic level</th>\n",
       "      <th>phylogenetic name</th>\n",
       "      <th>oxy</th>\n",
       "      <th>rep</th>\n",
       "      <th>week</th>\n",
       "      <th>project</th>\n",
       "    </tr>\n",
       "  </thead>\n",
       "  <tbody>\n",
       "    <tr>\n",
       "      <th>0</th>\n",
       "      <td>100_LOW12</td>\n",
       "      <td>0.016338</td>\n",
       "      <td>Phylum</td>\n",
       "      <td>Bacteroidetes</td>\n",
       "      <td>Low</td>\n",
       "      <td>4</td>\n",
       "      <td>12</td>\n",
       "      <td>1056214</td>\n",
       "    </tr>\n",
       "    <tr>\n",
       "      <th>1</th>\n",
       "      <td>100_LOW12</td>\n",
       "      <td>0.058808</td>\n",
       "      <td>Order</td>\n",
       "      <td>Burkholderiales</td>\n",
       "      <td>Low</td>\n",
       "      <td>4</td>\n",
       "      <td>12</td>\n",
       "      <td>1056214</td>\n",
       "    </tr>\n",
       "    <tr>\n",
       "      <th>2</th>\n",
       "      <td>100_LOW12</td>\n",
       "      <td>0.103922</td>\n",
       "      <td>Order</td>\n",
       "      <td>Methylophilales</td>\n",
       "      <td>Low</td>\n",
       "      <td>4</td>\n",
       "      <td>12</td>\n",
       "      <td>1056214</td>\n",
       "    </tr>\n",
       "    <tr>\n",
       "      <th>3</th>\n",
       "      <td>100_LOW12</td>\n",
       "      <td>0.673723</td>\n",
       "      <td>Order</td>\n",
       "      <td>Methylococcales</td>\n",
       "      <td>Low</td>\n",
       "      <td>4</td>\n",
       "      <td>12</td>\n",
       "      <td>1056214</td>\n",
       "    </tr>\n",
       "    <tr>\n",
       "      <th>4</th>\n",
       "      <td>103_HOW12</td>\n",
       "      <td>0.020091</td>\n",
       "      <td>Phylum</td>\n",
       "      <td>Bacteroidetes</td>\n",
       "      <td>High</td>\n",
       "      <td>1</td>\n",
       "      <td>12</td>\n",
       "      <td>1056217</td>\n",
       "    </tr>\n",
       "  </tbody>\n",
       "</table>\n",
       "</div>"
      ],
      "text/plain": [
       "          ID  abundance sum phylogenetic level phylogenetic name   oxy  rep  \\\n",
       "0  100_LOW12       0.016338             Phylum     Bacteroidetes   Low    4   \n",
       "1  100_LOW12       0.058808              Order   Burkholderiales   Low    4   \n",
       "2  100_LOW12       0.103922              Order   Methylophilales   Low    4   \n",
       "3  100_LOW12       0.673723              Order   Methylococcales   Low    4   \n",
       "4  103_HOW12       0.020091             Phylum     Bacteroidetes  High    1   \n",
       "\n",
       "   week  project  \n",
       "0    12  1056214  \n",
       "1    12  1056214  \n",
       "2    12  1056214  \n",
       "3    12  1056214  \n",
       "4    12  1056217  "
      ]
     },
     "execution_count": 19,
     "metadata": {},
     "output_type": "execute_result"
    }
   ],
   "source": [
    "plot_1_data.head()"
   ]
  },
  {
   "cell_type": "code",
   "execution_count": 20,
   "metadata": {
    "collapsed": false
   },
   "outputs": [
    {
     "data": {
      "text/html": [
       "<div>\n",
       "<table border=\"1\" class=\"dataframe\">\n",
       "  <thead>\n",
       "    <tr style=\"text-align: right;\">\n",
       "      <th></th>\n",
       "      <th>phylogenetic level</th>\n",
       "      <th>phylogenetic name</th>\n",
       "    </tr>\n",
       "  </thead>\n",
       "  <tbody>\n",
       "    <tr>\n",
       "      <th>0</th>\n",
       "      <td>Phylum</td>\n",
       "      <td>Bacteroidetes</td>\n",
       "    </tr>\n",
       "    <tr>\n",
       "      <th>1</th>\n",
       "      <td>Order</td>\n",
       "      <td>Burkholderiales</td>\n",
       "    </tr>\n",
       "    <tr>\n",
       "      <th>2</th>\n",
       "      <td>Order</td>\n",
       "      <td>Methylophilales</td>\n",
       "    </tr>\n",
       "    <tr>\n",
       "      <th>3</th>\n",
       "      <td>Order</td>\n",
       "      <td>Methylococcales</td>\n",
       "    </tr>\n",
       "  </tbody>\n",
       "</table>\n",
       "</div>"
      ],
      "text/plain": [
       "  phylogenetic level phylogenetic name\n",
       "0             Phylum     Bacteroidetes\n",
       "1              Order   Burkholderiales\n",
       "2              Order   Methylophilales\n",
       "3              Order   Methylococcales"
      ]
     },
     "execution_count": 20,
     "metadata": {},
     "output_type": "execute_result"
    }
   ],
   "source": [
    "plot_1_data[['phylogenetic level', 'phylogenetic name']].drop_duplicates()"
   ]
  },
  {
   "cell_type": "code",
   "execution_count": 21,
   "metadata": {
    "collapsed": false
   },
   "outputs": [
    {
     "data": {
      "text/plain": [
       "(352, 8)"
      ]
     },
     "execution_count": 21,
     "metadata": {},
     "output_type": "execute_result"
    }
   ],
   "source": [
    "plot_1_data.shape"
   ]
  },
  {
   "cell_type": "code",
   "execution_count": 22,
   "metadata": {
    "collapsed": false
   },
   "outputs": [
    {
     "data": {
      "text/plain": [
       "(352, 8)"
      ]
     },
     "execution_count": 22,
     "metadata": {},
     "output_type": "execute_result"
    }
   ],
   "source": [
    "plot_1_data.shape"
   ]
  },
  {
   "cell_type": "code",
   "execution_count": null,
   "metadata": {
    "collapsed": false
   },
   "outputs": [],
   "source": [
    "from abundance_plot_utils import plot_across_phylogeny"
   ]
  },
  {
   "cell_type": "code",
   "execution_count": null,
   "metadata": {
    "collapsed": false
   },
   "outputs": [
    {
     "name": "stdout",
     "output_type": "stream",
     "text": [
      "Bacteroidetes\n",
      "Index(['Kingdom', 'Phylum', 'Class', 'Order', 'Family', 'Genus', 'Length',\n",
      "       'abundance', 'filepath', 'project', 'ID', 'oxy', 'rep', 'week'],\n",
      "      dtype='object')\n",
      "reduced_rows.head(2)\n",
      "          Phylum         ID  abundance\n",
      "0  Bacteroidetes  100_LOW12   0.016338\n",
      "1  Bacteroidetes  103_HOW12   0.020091\n",
      "reduced_rows.head(2)\n",
      "          ID  abundance\n",
      "0  100_LOW12   0.016338\n",
      "1  103_HOW12   0.020091\n",
      "          ID  abundance sum phylogenetic level phylogenetic name\n",
      "0  100_LOW12       0.016338             Phylum     Bacteroidetes\n",
      "1  103_HOW12       0.020091             Phylum     Bacteroidetes\n",
      "Burkholderiales\n",
      "Index(['Kingdom', 'Phylum', 'Class', 'Order', 'Family', 'Genus', 'Length',\n",
      "       'abundance', 'filepath', 'project', 'ID', 'oxy', 'rep', 'week'],\n",
      "      dtype='object')\n",
      "reduced_rows.head(2)\n",
      "             Order         ID  abundance\n",
      "0  Burkholderiales  100_LOW12   0.058808\n",
      "1  Burkholderiales  103_HOW12   0.100325\n",
      "reduced_rows.head(2)\n",
      "          ID  abundance\n",
      "0  100_LOW12   0.058808\n",
      "1  103_HOW12   0.100325\n",
      "          ID  abundance sum phylogenetic level phylogenetic name\n",
      "0  100_LOW12       0.058808              Order   Burkholderiales\n",
      "1  103_HOW12       0.100325              Order   Burkholderiales\n",
      "Methylophilales\n",
      "Index(['Kingdom', 'Phylum', 'Class', 'Order', 'Family', 'Genus', 'Length',\n",
      "       'abundance', 'filepath', 'project', 'ID', 'oxy', 'rep', 'week'],\n",
      "      dtype='object')\n",
      "reduced_rows.head(2)\n",
      "             Order         ID  abundance\n",
      "0  Methylophilales  100_LOW12   0.103922\n",
      "1  Methylophilales  103_HOW12   0.514170\n",
      "reduced_rows.head(2)\n",
      "          ID  abundance\n",
      "0  100_LOW12   0.103922\n",
      "1  103_HOW12   0.514170\n",
      "          ID  abundance sum phylogenetic level phylogenetic name\n",
      "0  100_LOW12       0.103922              Order   Methylophilales\n",
      "1  103_HOW12       0.514170              Order   Methylophilales\n",
      "Methylococcales\n",
      "Index(['Kingdom', 'Phylum', 'Class', 'Order', 'Family', 'Genus', 'Length',\n",
      "       'abundance', 'filepath', 'project', 'ID', 'oxy', 'rep', 'week'],\n",
      "      dtype='object')\n",
      "reduced_rows.head(2)\n",
      "             Order         ID  abundance\n",
      "0  Methylococcales  100_LOW12   0.673723\n",
      "1  Methylococcales  103_HOW12   0.249763\n",
      "reduced_rows.head(2)\n",
      "          ID  abundance\n",
      "0  100_LOW12   0.673723\n",
      "1  103_HOW12   0.249763\n",
      "          ID  abundance sum phylogenetic level phylogenetic name\n",
      "0  100_LOW12       0.673723              Order   Methylococcales\n",
      "1  103_HOW12       0.249763              Order   Methylococcales\n",
      "dataframe.head()\n",
      "          ID  abundance sum phylogenetic level phylogenetic name\n",
      "0  100_LOW12       0.016338             Phylum     Bacteroidetes\n",
      "1  103_HOW12       0.020091             Phylum     Bacteroidetes\n",
      "2  104_HOW12       0.084478             Phylum     Bacteroidetes\n",
      "3  105_HOW12       0.002782             Phylum     Bacteroidetes\n",
      "4  106_HOW12       0.004402             Phylum     Bacteroidetes\n",
      "plot_data.head()\n",
      "          ID  abundance sum phylogenetic level phylogenetic name   oxy  rep  \\\n",
      "0  100_LOW12       0.016338             Phylum     Bacteroidetes   Low    4   \n",
      "1  100_LOW12       0.058808              Order   Burkholderiales   Low    4   \n",
      "2  100_LOW12       0.103922              Order   Methylophilales   Low    4   \n",
      "3  100_LOW12       0.673723              Order   Methylococcales   Low    4   \n",
      "4  103_HOW12       0.020091             Phylum     Bacteroidetes  High    1   \n",
      "\n",
      "   week  project facet_replicate  \n",
      "0    12  1056214     replicate 4  \n",
      "1    12  1056214     replicate 4  \n",
      "2    12  1056214     replicate 4  \n",
      "3    12  1056214     replicate 4  \n",
      "4    12  1056217     replicate 1  \n",
      "> /Users/janet/elvizAnalysis/abundance_plot_utils.py(239)plot_across_phylogeny()\n",
      "-> facet_data = pivot_so_columns_are_plotting_variable(\n",
      "(Pdb) n\n",
      "> /Users/janet/elvizAnalysis/abundance_plot_utils.py(240)plot_across_phylogeny()\n",
      "-> dataframe=plot_data, groupby=cols_in_facet)\n",
      "(Pdb) n\n",
      "ValueError: Index contains duplicate entries, cannot reshape\n",
      "> /Users/janet/elvizAnalysis/abundance_plot_utils.py(240)plot_across_phylogeny()\n",
      "-> dataframe=plot_data, groupby=cols_in_facet)\n"
     ]
    }
   ],
   "source": [
    "plot_1_spec_dict = {'Phylum':['Bacteroidetes'], \n",
    "                    'Order':['Burkholderiales', 'Methylophilales',\n",
    "                             'Methylococcales']}\n",
    "\n",
    "g = plot_across_phylogeny(dataframe = \n",
    "                          pd.read_csv(\n",
    "        \"./results/reduced_data--all_phylogeny_remains.csv\"),\n",
    "                          phylo_dict = plot_1_spec_dict)"
   ]
  },
  {
   "cell_type": "code",
   "execution_count": null,
   "metadata": {
    "collapsed": false
   },
   "outputs": [],
   "source": [
    "g.fig"
   ]
  },
  {
   "cell_type": "raw",
   "metadata": {
    "collapsed": true
   },
   "source": [
    "g.fig.savefig('abc.pdf')"
   ]
  },
  {
   "cell_type": "code",
   "execution_count": null,
   "metadata": {
    "collapsed": false
   },
   "outputs": [],
   "source": [
    "p_dicts = [\n",
    "    {'Phylum':['Bacteroidetes'], \n",
    "     'Order':['Burkholderiales', 'Methylophilales', 'Methylococcales']},\n",
    "        \n",
    "    {'Genus':['Methylobacter', 'Methylovulum', 'Methylomonas', 'Methylomicrobium', \n",
    "              'Methyloglobulus', 'Methylococcus', 'Methylocaldum', 'Methanosarcina']},\n",
    "    \n",
    "    {'Genus':['Methylotenera', 'Methylovorus', 'Methylophilus', 'Methylobacillus']}\n",
    "\n",
    "    ]"
   ]
  },
  {
   "cell_type": "code",
   "execution_count": null,
   "metadata": {
    "collapsed": false
   },
   "outputs": [],
   "source": [
    "for p_dict in p_dicts:\n",
    "    plot_across_phylogeny(dataframe = \n",
    "                          pd.read_csv(\"./results/reduced_data--all_phylogeny_remains.csv\"),\n",
    "                          phylo_dict = p_dict)\n",
    "    "
   ]
  },
  {
   "cell_type": "code",
   "execution_count": null,
   "metadata": {
    "collapsed": false
   },
   "outputs": [],
   "source": [
    "plot_across_phylogeny(dataframe = \n",
    "                          pd.read_csv(\"./results/reduced_data--all_phylogeny_remains.csv\"),\n",
    "                          phylo_dict = {'Genus':['Methylobacter', 'Methylovulum', \n",
    "                                                 'Methylomonas', 'Methylomicrobium',\n",
    "                                                 'Methyloglobulus', 'Methylococcus', \n",
    "                                                 'Methylocaldum', 'Methanosarcina',\n",
    "                                                 'Methylosarcina'\n",
    "                                                 ]})"
   ]
  },
  {
   "cell_type": "code",
   "execution_count": null,
   "metadata": {
    "collapsed": true
   },
   "outputs": [],
   "source": []
  }
 ],
 "metadata": {
  "kernelspec": {
   "display_name": "IPython (Python 3)",
   "language": "python",
   "name": "python3"
  },
  "language_info": {
   "codemirror_mode": {
    "name": "ipython",
    "version": 3
   },
   "file_extension": ".py",
   "mimetype": "text/x-python",
   "name": "python",
   "nbconvert_exporter": "python",
   "pygments_lexer": "ipython3",
   "version": "3.5.1"
  }
 },
 "nbformat": 4,
 "nbformat_minor": 0
}
