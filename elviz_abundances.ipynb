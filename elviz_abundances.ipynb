{
 "cells": [
  {
   "cell_type": "code",
   "execution_count": 1,
   "metadata": {
    "collapsed": true
   },
   "outputs": [],
   "source": [
    "import numpy as np\n",
    "import os\n",
    "import pandas as pd\n",
    "import re\n",
    "import seaborn as sns\n",
    "import matplotlib.pyplot as plt\n",
    "%matplotlib inline"
   ]
  },
  {
   "cell_type": "code",
   "execution_count": 2,
   "metadata": {
    "collapsed": false
   },
   "outputs": [],
   "source": [
    "#pd.options.display.max_rows = 999\n",
    "#pd.get_option(\"display.max_rows\")"
   ]
  },
  {
   "cell_type": "code",
   "execution_count": 3,
   "metadata": {
    "collapsed": true
   },
   "outputs": [],
   "source": [
    "# Control whether to import the original data. \n",
    "import_original_data = True"
   ]
  },
  {
   "cell_type": "markdown",
   "metadata": {},
   "source": [
    "Mila:\n",
    "\n",
    "OK only four files needed to be corrected. I put them in your Meta4 folder under the name Elviz_Corrected\n",
    "\n",
    "The remaining four files indeed contained fewer contigs.\n",
    "\n",
    "Thanks!\n"
   ]
  },
  {
   "cell_type": "code",
   "execution_count": 4,
   "metadata": {
    "collapsed": false
   },
   "outputs": [
    {
     "name": "stdout",
     "output_type": "stream",
     "text": [
      "/usr/bin/python\n",
      "2.7.5 (default, Mar  9 2014, 22:15:05) \n",
      "[GCC 4.2.1 Compatible Apple LLVM 5.0 (clang-500.0.68)]\n"
     ]
    }
   ],
   "source": [
    "import sys\n",
    "print sys.executable \n",
    "print (sys.version)"
   ]
  },
  {
   "cell_type": "code",
   "execution_count": 5,
   "metadata": {
    "collapsed": false
   },
   "outputs": [],
   "source": [
    "sns.set(style=\"whitegrid\")"
   ]
  },
  {
   "cell_type": "code",
   "execution_count": 6,
   "metadata": {
    "collapsed": false
   },
   "outputs": [
    {
     "data": {
      "text/html": [
       "<div>\n",
       "<table border=\"1\" class=\"dataframe\">\n",
       "  <thead>\n",
       "    <tr style=\"text-align: right;\">\n",
       "      <th></th>\n",
       "      <th>ID</th>\n",
       "      <th>oxy</th>\n",
       "      <th>rep</th>\n",
       "      <th>week</th>\n",
       "      <th>project</th>\n",
       "    </tr>\n",
       "  </thead>\n",
       "  <tbody>\n",
       "    <tr>\n",
       "      <th>0</th>\n",
       "      <td>1_LOW4</td>\n",
       "      <td>Low</td>\n",
       "      <td>1</td>\n",
       "      <td>4</td>\n",
       "      <td>1056013</td>\n",
       "    </tr>\n",
       "    <tr>\n",
       "      <th>1</th>\n",
       "      <td>13_LOW5</td>\n",
       "      <td>Low</td>\n",
       "      <td>1</td>\n",
       "      <td>5</td>\n",
       "      <td>1056037</td>\n",
       "    </tr>\n",
       "    <tr>\n",
       "      <th>2</th>\n",
       "      <td>25_LOW6</td>\n",
       "      <td>Low</td>\n",
       "      <td>1</td>\n",
       "      <td>6</td>\n",
       "      <td>1056061</td>\n",
       "    </tr>\n",
       "    <tr>\n",
       "      <th>3</th>\n",
       "      <td>37_LOW7</td>\n",
       "      <td>Low</td>\n",
       "      <td>1</td>\n",
       "      <td>7</td>\n",
       "      <td>1056085</td>\n",
       "    </tr>\n",
       "    <tr>\n",
       "      <th>4</th>\n",
       "      <td>49_LOW8</td>\n",
       "      <td>Low</td>\n",
       "      <td>1</td>\n",
       "      <td>8</td>\n",
       "      <td>1056109</td>\n",
       "    </tr>\n",
       "  </tbody>\n",
       "</table>\n",
       "</div>"
      ],
      "text/plain": [
       "        ID  oxy  rep  week  project\n",
       "0   1_LOW4  Low    1     4  1056013\n",
       "1  13_LOW5  Low    1     5  1056037\n",
       "2  25_LOW6  Low    1     6  1056061\n",
       "3  37_LOW7  Low    1     7  1056085\n",
       "4  49_LOW8  Low    1     8  1056109"
      ]
     },
     "execution_count": 6,
     "metadata": {},
     "output_type": "execute_result"
    }
   ],
   "source": [
    "# Import the csv that translates the 127_HOW14 type labels to weeks and replicates.\n",
    "\n",
    "from elviz_utils import IMPORT_METAINFO_TYPES, read_sample_info\n",
    "sample_info = read_sample_info()\n",
    "\n",
    "sample_info.head()"
   ]
  },
  {
   "cell_type": "code",
   "execution_count": 7,
   "metadata": {
    "collapsed": false
   },
   "outputs": [
    {
     "name": "stdout",
     "output_type": "stream",
     "text": [
      "88\n"
     ]
    }
   ],
   "source": [
    "# loop over each file, collapse rows that share phylogeny data to the genus label,\n",
    "# save new .csv files, then append them all together in a separate step. \n",
    "#filepath = '/Volumes/Shares/Users/Janet/meta4/160121_elviz_files_updated/'\n",
    "filepath = './data'\n",
    "elviz_files = [f for f in os.listdir(filepath) if \".csv\" in f]\n",
    "print len(elviz_files)"
   ]
  },
  {
   "cell_type": "code",
   "execution_count": 8,
   "metadata": {
    "collapsed": false
   },
   "outputs": [],
   "source": [
    "from abundance_utils import read_and_reduce_elviz_csv"
   ]
  },
  {
   "cell_type": "code",
   "execution_count": 9,
   "metadata": {
    "collapsed": false
   },
   "outputs": [],
   "source": [
    "# test read_and_reduce_elviz_csv\n",
    "tmp = read_and_reduce_elviz_csv(filename = elviz_files[0], \n",
    "                                filepath=filepath,\n",
    "                               sample_info=sample_info)"
   ]
  },
  {
   "cell_type": "code",
   "execution_count": 10,
   "metadata": {
    "collapsed": false
   },
   "outputs": [
    {
     "data": {
      "text/html": [
       "<div>\n",
       "<table border=\"1\" class=\"dataframe\">\n",
       "  <thead>\n",
       "    <tr style=\"text-align: right;\">\n",
       "      <th></th>\n",
       "      <th>Kingdom</th>\n",
       "      <th>Phylum</th>\n",
       "      <th>Class</th>\n",
       "      <th>Order</th>\n",
       "      <th>Family</th>\n",
       "      <th>Genus</th>\n",
       "      <th>abundance</th>\n",
       "      <th>ID</th>\n",
       "      <th>project</th>\n",
       "      <th>oxy</th>\n",
       "      <th>rep</th>\n",
       "      <th>week</th>\n",
       "    </tr>\n",
       "  </thead>\n",
       "  <tbody>\n",
       "    <tr>\n",
       "      <th>642</th>\n",
       "      <td>Bacteria</td>\n",
       "      <td>Proteobacteria</td>\n",
       "      <td>Gammaproteobacteria</td>\n",
       "      <td>Methylococcales</td>\n",
       "      <td>Methylococcaceae</td>\n",
       "      <td>Methylobacter</td>\n",
       "      <td>0.275835</td>\n",
       "      <td>1_LOW4</td>\n",
       "      <td>1056013</td>\n",
       "      <td>NaN</td>\n",
       "      <td>NaN</td>\n",
       "      <td>NaN</td>\n",
       "    </tr>\n",
       "    <tr>\n",
       "      <th>494</th>\n",
       "      <td>Bacteria</td>\n",
       "      <td>Proteobacteria</td>\n",
       "      <td>Betaproteobacteria</td>\n",
       "      <td>Methylophilales</td>\n",
       "      <td>Methylophilaceae</td>\n",
       "      <td>Methylotenera</td>\n",
       "      <td>0.266572</td>\n",
       "      <td>1_LOW4</td>\n",
       "      <td>1056013</td>\n",
       "      <td>NaN</td>\n",
       "      <td>NaN</td>\n",
       "      <td>NaN</td>\n",
       "    </tr>\n",
       "    <tr>\n",
       "      <th>198</th>\n",
       "      <td>Bacteria</td>\n",
       "      <td>Bacteroidetes</td>\n",
       "      <td>Flavobacteriia</td>\n",
       "      <td>Flavobacteriales</td>\n",
       "      <td>Flavobacteriaceae</td>\n",
       "      <td>Flavobacterium</td>\n",
       "      <td>0.066042</td>\n",
       "      <td>1_LOW4</td>\n",
       "      <td>1056013</td>\n",
       "      <td>NaN</td>\n",
       "      <td>NaN</td>\n",
       "      <td>NaN</td>\n",
       "    </tr>\n",
       "    <tr>\n",
       "      <th>650</th>\n",
       "      <td>Bacteria</td>\n",
       "      <td>Proteobacteria</td>\n",
       "      <td>Gammaproteobacteria</td>\n",
       "      <td>Methylococcales</td>\n",
       "      <td>Methylococcaceae</td>\n",
       "      <td>other</td>\n",
       "      <td>0.057879</td>\n",
       "      <td>1_LOW4</td>\n",
       "      <td>1056013</td>\n",
       "      <td>NaN</td>\n",
       "      <td>NaN</td>\n",
       "      <td>NaN</td>\n",
       "    </tr>\n",
       "    <tr>\n",
       "      <th>478</th>\n",
       "      <td>Bacteria</td>\n",
       "      <td>Proteobacteria</td>\n",
       "      <td>Betaproteobacteria</td>\n",
       "      <td>Burkholderiales</td>\n",
       "      <td>Comamonadaceae</td>\n",
       "      <td>other</td>\n",
       "      <td>0.036590</td>\n",
       "      <td>1_LOW4</td>\n",
       "      <td>1056013</td>\n",
       "      <td>NaN</td>\n",
       "      <td>NaN</td>\n",
       "      <td>NaN</td>\n",
       "    </tr>\n",
       "  </tbody>\n",
       "</table>\n",
       "</div>"
      ],
      "text/plain": [
       "      Kingdom          Phylum                Class             Order  \\\n",
       "642  Bacteria  Proteobacteria  Gammaproteobacteria   Methylococcales   \n",
       "494  Bacteria  Proteobacteria   Betaproteobacteria   Methylophilales   \n",
       "198  Bacteria   Bacteroidetes       Flavobacteriia  Flavobacteriales   \n",
       "650  Bacteria  Proteobacteria  Gammaproteobacteria   Methylococcales   \n",
       "478  Bacteria  Proteobacteria   Betaproteobacteria   Burkholderiales   \n",
       "\n",
       "                Family           Genus  abundance      ID  project  oxy  rep  \\\n",
       "642   Methylococcaceae   Methylobacter   0.275835  1_LOW4  1056013  NaN  NaN   \n",
       "494   Methylophilaceae   Methylotenera   0.266572  1_LOW4  1056013  NaN  NaN   \n",
       "198  Flavobacteriaceae  Flavobacterium   0.066042  1_LOW4  1056013  NaN  NaN   \n",
       "650   Methylococcaceae           other   0.057879  1_LOW4  1056013  NaN  NaN   \n",
       "478     Comamonadaceae           other   0.036590  1_LOW4  1056013  NaN  NaN   \n",
       "\n",
       "     week  \n",
       "642   NaN  \n",
       "494   NaN  \n",
       "198   NaN  \n",
       "650   NaN  \n",
       "478   NaN  "
      ]
     },
     "execution_count": 10,
     "metadata": {},
     "output_type": "execute_result"
    }
   ],
   "source": [
    "tmp.head()"
   ]
  },
  {
   "cell_type": "code",
   "execution_count": 11,
   "metadata": {
    "collapsed": false
   },
   "outputs": [
    {
     "name": "stdout",
     "output_type": "stream",
     "text": [
      "['elviz_1056016_2_LOW4.csv', 'elviz_1056019_3_LOW4.csv', 'elviz_1056022_4_LOW4.csv']\n"
     ]
    }
   ],
   "source": [
    "# import the raw or raw-ish data. \n",
    "if import_original_data:\n",
    "    filepath = '/Users/janet/Documents/Lidstrom Lab Work/meta4/160125_Elviz_files_corrected'\n",
    "    elviz_files = [f for f in os.listdir(filepath) if \".csv\" in f]\n",
    "    print elviz_files[1:4]"
   ]
  },
  {
   "cell_type": "code",
   "execution_count": 12,
   "metadata": {
    "collapsed": false
   },
   "outputs": [],
   "source": [
    "if not os.path.exists('./results'):\n",
    "    os.makedirs('./results/')\n",
    "if not os.path.exists('./plots'):\n",
    "    os.makedirs('./plots/')"
   ]
  },
  {
   "cell_type": "code",
   "execution_count": 13,
   "metadata": {
    "collapsed": false
   },
   "outputs": [],
   "source": [
    "from abundance_utils import read_and_reduce_all"
   ]
  },
  {
   "cell_type": "code",
   "execution_count": 14,
   "metadata": {
    "collapsed": false
   },
   "outputs": [
    {
     "ename": "NameError",
     "evalue": "global name 'filepath' is not defined",
     "output_type": "error",
     "traceback": [
      "\u001b[0;31m---------------------------------------------------------------------------\u001b[0m",
      "\u001b[0;31mNameError\u001b[0m                                 Traceback (most recent call last)",
      "\u001b[0;32m<ipython-input-14-afaed964fc4e>\u001b[0m in \u001b[0;36m<module>\u001b[0;34m()\u001b[0m\n\u001b[1;32m      1\u001b[0m \u001b[0;32mif\u001b[0m \u001b[0mimport_original_data\u001b[0m\u001b[0;34m:\u001b[0m\u001b[0;34m\u001b[0m\u001b[0m\n\u001b[1;32m      2\u001b[0m     data_reduced = read_and_reduce_all(filename_list=elviz_files,\n\u001b[0;32m----> 3\u001b[0;31m                                       sample_info = sample_info)\n\u001b[0m\u001b[1;32m      4\u001b[0m     \u001b[0;32mprint\u001b[0m \u001b[0mdata_reduced\u001b[0m\u001b[0;34m.\u001b[0m\u001b[0msize\u001b[0m\u001b[0;34m\u001b[0m\u001b[0m\n\u001b[1;32m      5\u001b[0m \u001b[0;32melse\u001b[0m\u001b[0;34m:\u001b[0m\u001b[0;34m\u001b[0m\u001b[0m\n",
      "\u001b[0;32m/Users/janet/elvizAnalysis/abundance_utils.py\u001b[0m in \u001b[0;36mread_and_reduce_all\u001b[0;34m(filename_list, sample_info)\u001b[0m\n\u001b[1;32m     68\u001b[0m     \u001b[0;31m# Load in a first dataframe.  Will append the rest to it.\u001b[0m\u001b[0;34m\u001b[0m\u001b[0;34m\u001b[0m\u001b[0m\n\u001b[1;32m     69\u001b[0m     data_reduced = read_and_reduce_elviz_csv(filename = filename_list[0], \n\u001b[0;32m---> 70\u001b[0;31m                                              \u001b[0mfilepath\u001b[0m\u001b[0;34m=\u001b[0m\u001b[0mfilepath\u001b[0m\u001b[0;34m,\u001b[0m\u001b[0;34m\u001b[0m\u001b[0m\n\u001b[0m\u001b[1;32m     71\u001b[0m                                              sample_info=sample_info)\n\u001b[1;32m     72\u001b[0m     \u001b[0;31m# Loop over the rest of the files.\u001b[0m\u001b[0;34m\u001b[0m\u001b[0;34m\u001b[0m\u001b[0m\n",
      "\u001b[0;31mNameError\u001b[0m: global name 'filepath' is not defined"
     ]
    }
   ],
   "source": [
    "if import_original_data:\n",
    "    data_reduced = read_and_reduce_all(filename_list=elviz_files,\n",
    "                                       filepath=filepath,\n",
    "                                       sample_info = sample_info)\n",
    "    print data_reduced.size  \n",
    "else: \n",
    "    data_reduced = pd.read_csv(\"./results/reduced_data--all_phylogeny_remains.csv\")\n",
    "\n",
    "data_reduced.head()"
   ]
  },
  {
   "cell_type": "code",
   "execution_count": null,
   "metadata": {
    "collapsed": false
   },
   "outputs": [],
   "source": [
    "sample_info_augmented.sort_values(by='project',)\n",
    "sample_info_augmented.to_csv('data/sample_meta_info.tsv', sep='\\t', index=False)"
   ]
  },
  {
   "cell_type": "code",
   "execution_count": null,
   "metadata": {
    "collapsed": false
   },
   "outputs": [],
   "source": [
    "# Should have only 1 row per Id now. \n",
    "data_reduced[data_reduced['Genus']=='Methylophilus']\n",
    "\n",
    "if import_original_data:\n",
    "    data_reduced.to_csv(\"./results/reduced_data--all_phylogeny_remains.csv\", index=False)"
   ]
  },
  {
   "cell_type": "code",
   "execution_count": null,
   "metadata": {
    "collapsed": false
   },
   "outputs": [],
   "source": [
    "data_reduced.columns"
   ]
  },
  {
   "cell_type": "code",
   "execution_count": null,
   "metadata": {
    "collapsed": false
   },
   "outputs": [],
   "source": [
    "# make sure the abundances all sum to 1. \n",
    "for t, d in data_reduced.groupby('ID'):\n",
    "    print t, \":\", d['abundance'].sum()"
   ]
  },
  {
   "cell_type": "code",
   "execution_count": null,
   "metadata": {
    "collapsed": false
   },
   "outputs": [],
   "source": [
    "data_reduced.tail()"
   ]
  },
  {
   "cell_type": "code",
   "execution_count": null,
   "metadata": {
    "collapsed": false
   },
   "outputs": [],
   "source": [
    "# check number of sample imported.  Dave had a problem with the raw files 1/16/2015 using Python 3. \n",
    "len(data_reduced.ID.unique())"
   ]
  },
  {
   "cell_type": "code",
   "execution_count": null,
   "metadata": {
    "collapsed": false
   },
   "outputs": [],
   "source": [
    "data_reduced['sample_name'] = 'replicate '+ data_reduced['rep'].astype(str) +\": \" + data_reduced['oxy'] + ' O2'\n",
    "print data_reduced['sample_name'].unique()"
   ]
  },
  {
   "cell_type": "code",
   "execution_count": null,
   "metadata": {
    "collapsed": false
   },
   "outputs": [],
   "source": [
    "data_reduced.tail()"
   ]
  },
  {
   "cell_type": "code",
   "execution_count": null,
   "metadata": {
    "collapsed": false
   },
   "outputs": [],
   "source": [
    "# Write an excel for Mila.  One notebook for replicate.  Each page is a different ID/week. \n",
    "by_repl_and_week = data_reduced.groupby(['rep','week','oxy'])#.to_excel(writer,sheet_name='Sheet1')"
   ]
  },
  {
   "cell_type": "code",
   "execution_count": null,
   "metadata": {
    "collapsed": false
   },
   "outputs": [],
   "source": [
    "# The groupby returns tuples of the conditions and the data in a tuple. \n",
    "#for (rep, week, oxy), d in by_repl_and_week:\n",
    "#    print \"rep_\" + str(rep)\n",
    "#    print \"week_\" + str(week)\n",
    "#    print oxy\n",
    "#    print \"\""
   ]
  },
  {
   "cell_type": "code",
   "execution_count": null,
   "metadata": {
    "collapsed": false
   },
   "outputs": [],
   "source": [
    "data_reduced['rep'].unique()"
   ]
  },
  {
   "cell_type": "code",
   "execution_count": null,
   "metadata": {
    "collapsed": false
   },
   "outputs": [],
   "source": [
    "# write same dictionary in a loop\n",
    "excel_files = {}\n",
    "for ox in data_reduced['oxy'].unique():\n",
    "    for re in data_reduced['rep'].unique():\n",
    "        print ox, re\n",
    "        excel_files[(ox, re)] =  'elviz_binned--{}O2_rep{}.xlsx'.format(ox, re)\n",
    "  \n",
    "print excel_files"
   ]
  },
  {
   "cell_type": "code",
   "execution_count": null,
   "metadata": {
    "collapsed": false
   },
   "outputs": [],
   "source": [
    "# Turn off re-writ here:\n",
    "\n",
    "write_excel = True\n",
    "if import_original_data and write_excel:\n",
    "#if write_excel:\n",
    "    # make an excel writer for each file. \n",
    "    writer_dict = {}\n",
    "    for oxy in data_reduced['oxy'].unique():\n",
    "        for rep in data_reduced['rep'].unique():\n",
    "            #print ox, re\n",
    "            filename = 'elviz--{}O2_rep_{}.xlsx'.format(oxy, rep)\n",
    "            #print filename\n",
    "            writer_dict[(oxy, rep)] = pd.ExcelWriter(filename, engine='xlsxwriter')\n",
    "            #print writer_dict\n",
    "    print writer_dict\n",
    "    \n",
    "    # The groupby returns tuples of the conditions. \n",
    "    by_repl_and_week = data_reduced.groupby(['rep','week','oxy'])#.to_excel(writer,sheet_name='Sheet1')  \n",
    "    for (rep, week, oxy), d in by_repl_and_week:\n",
    "        # use the writer that matches the replicate:\n",
    "        print rep, week, oxy\n",
    "        writer = writer_dict[(oxy, rep)]\n",
    "        sheet_name = oxy + '_O2' +\"_rep_\" + str(rep)+\"_week_\" + str(week)\n",
    "        print sheet_name\n",
    "        d.reset_index()\n",
    "        #print d.columns\n",
    "        del d['index']\n",
    "        #print d.columns\n",
    "        d.to_excel(writer, sheet_name=sheet_name, index=False)\n",
    "        #writer.save()\n",
    "        print \"\"\n",
    "    \n",
    "    # close each writer.  This saves them. \n",
    "    for w_dict in writer_dict.values():\n",
    "        w_dict.close()\n"
   ]
  },
  {
   "cell_type": "code",
   "execution_count": null,
   "metadata": {
    "collapsed": false
   },
   "outputs": [],
   "source": [
    "data_reduced.week.head()"
   ]
  },
  {
   "cell_type": "code",
   "execution_count": null,
   "metadata": {
    "collapsed": false
   },
   "outputs": [],
   "source": [
    "data_reduced.head()"
   ]
  },
  {
   "cell_type": "code",
   "execution_count": null,
   "metadata": {
    "collapsed": false
   },
   "outputs": [],
   "source": [
    "# Another check that we have each ID's abundances summing to 1. \n",
    "for t, d in data_reduced.groupby('ID'):\n",
    "    if d['abundance'].sum() > 1.0001:\n",
    "        print t, \":\", d['abundance'].sum()"
   ]
  },
  {
   "cell_type": "code",
   "execution_count": null,
   "metadata": {
    "collapsed": false
   },
   "outputs": [],
   "source": [
    "data_reduced.head()"
   ]
  },
  {
   "cell_type": "code",
   "execution_count": null,
   "metadata": {
    "collapsed": false
   },
   "outputs": [],
   "source": [
    "# Further reduce data so only Genus is preserved. \n",
    "# drop the reads per kilobase or we will get more than 1 row for other.\n",
    "data_reduced_genus = data_reduced.copy()\n",
    "#del data_reduced_genus['reads per kilobase']\n",
    "print data_reduced_genus.head()\n",
    "data_reduced_genus = data_reduced_genus.groupby(['ID','rep','week','oxy','Genus']).sum().reset_index()\n",
    "data_reduced_genus.sort_values(by=['rep', 'abundance'], inplace=True, ascending=False)\n",
    "data_reduced_genus.tail(8)"
   ]
  },
  {
   "cell_type": "code",
   "execution_count": null,
   "metadata": {
    "collapsed": false
   },
   "outputs": [],
   "source": [
    "data_reduced_genus.columns"
   ]
  },
  {
   "cell_type": "code",
   "execution_count": null,
   "metadata": {
    "collapsed": false
   },
   "outputs": [],
   "source": [
    "data_reduced_genus.head()"
   ]
  },
  {
   "cell_type": "code",
   "execution_count": null,
   "metadata": {
    "collapsed": false
   },
   "outputs": [],
   "source": [
    "print data_reduced_genus[['rep','week', 'ID']].drop_duplicates()"
   ]
  },
  {
   "cell_type": "code",
   "execution_count": null,
   "metadata": {
    "collapsed": false
   },
   "outputs": [],
   "source": [
    "data_reduced_genus.head(3)"
   ]
  },
  {
   "cell_type": "code",
   "execution_count": null,
   "metadata": {
    "collapsed": false
   },
   "outputs": [],
   "source": [
    "by_repl_and_week_Genus = data_reduced_genus.groupby(['rep','week','oxy'])#.to_excel(writer,sheet_name='Sheet1')\n",
    "# check that replicates and week are in the right order: \n",
    "#for tup, d in by_repl_and_week_Genus:\n",
    "#    print tup"
   ]
  },
  {
   "cell_type": "code",
   "execution_count": null,
   "metadata": {
    "collapsed": false
   },
   "outputs": [],
   "source": [
    "# Turn off re-writ here:\n",
    "write_excel = True\n",
    "\n",
    "if write_excel:\n",
    "    # make an excel writer for each file. \n",
    "    writer_dict = {}\n",
    "    for oxy in data_reduced['oxy'].unique():\n",
    "        for rep in data_reduced['rep'].unique():\n",
    "            #print ox, re\n",
    "            filename = 'elviz--Genus_only--{}O2_rep_{}.xlsx'.format(oxy, rep)\n",
    "            #print filename\n",
    "            writer_dict[(oxy, rep)] = pd.ExcelWriter(filename, engine='xlsxwriter')\n",
    "            #print writer_dict\n",
    "    print writer_dict\n",
    "    \n",
    "    # The groupby returns tuples of the conditions. \n",
    "    by_repl_and_week = data_reduced_genus.groupby(['rep','week','oxy'])#.to_excel(writer,sheet_name='Sheet1')  \n",
    "    for (rep, week, oxy), d in by_repl_and_week:\n",
    "        # use the writer that matches the replicate:\n",
    "        print rep, week, oxy\n",
    "        writer = writer_dict[(oxy, rep)]\n",
    "        sheet_name = oxy + '_O2' +\"_rep_\" + str(rep)+\"_week_\" + str(week)\n",
    "        print sheet_name\n",
    "        d.reset_index(inplace=True)\n",
    "        del d['index']\n",
    "        #print d.columns\n",
    "        del d['level_0']\n",
    "        d.to_excel(writer, sheet_name=sheet_name, index=False)\n",
    "        #writer.save()\n",
    "        print \"\"\n",
    "    \n",
    "    # close each writer.  This saves them. \n",
    "    for w_dict in writer_dict.values():\n",
    "        w_dict.close()\n"
   ]
  },
  {
   "cell_type": "code",
   "execution_count": null,
   "metadata": {
    "collapsed": false
   },
   "outputs": [],
   "source": [
    "# Demo of simple plot.  Trim rows with abundance some percent.  Plot only one week/oxygen combo. \n",
    "def plot_by_abundance(data, abundance):\n",
    "    d_plot = data[data['abundance'] > abundance]\n",
    "    d_plot = pd.pivot_table(d_plot, values='abundance', index=['week'], columns='Genus') #.reset_index()\n",
    "    print d_plot.head()\n",
    "    d_plot.plot(kind='bar',stacked=True)\n",
    "    sns.despine()\n",
    "    #plt.legend(loc=2)\n",
    "plot_by_abundance(data=data_reduced_genus[\n",
    "        np.logical_and(\n",
    "            data_reduced_genus['rep']==1, \n",
    "            data_reduced_genus['oxy']==\"Low\")], abundance=0.02)"
   ]
  },
  {
   "cell_type": "code",
   "execution_count": null,
   "metadata": {
    "collapsed": true
   },
   "outputs": [],
   "source": [
    "# Begin to generalize.  Want to be able to subset by oxygen and replicate. \n",
    "def subset_data_by_rep_and_oxy(data, rep, oxy):\n",
    "    return data[\n",
    "        np.logical_and(\n",
    "            data_reduced_genus['rep']==rep, \n",
    "            data_reduced_genus['oxy']==oxy)]"
   ]
  },
  {
   "cell_type": "code",
   "execution_count": null,
   "metadata": {
    "collapsed": false
   },
   "outputs": [],
   "source": [
    "# Make an individual plot with the new subset_data_by_rep_and_oxy() function\n",
    "def plot_by_abundance(data, abundance):\n",
    "    d_plot = data[data['abundance'] > abundance]\n",
    "    d_plot = pd.pivot_table(d_plot, values='abundance', index=['week'], columns='Genus') #.reset_index()\n",
    "    #print d_plot.head()\n",
    "    d_plot.plot(kind='bar',stacked=True)\n",
    "    sns.despine()\n",
    "    #plt.legend(loc=2)\n",
    "plot_by_abundance(subset_data_by_rep_and_oxy(data= data_reduced_genus, rep=1, oxy='High'), abundance=0.02)"
   ]
  },
  {
   "cell_type": "code",
   "execution_count": null,
   "metadata": {
    "collapsed": false
   },
   "outputs": [],
   "source": [
    "# set up a figure with four subplots. \n",
    "fig, axs = plt.subplots(2, 4, figsize=(8, 6))  # ax belongs to fig. \n",
    "print fig\n",
    "print axs"
   ]
  },
  {
   "cell_type": "code",
   "execution_count": null,
   "metadata": {
    "collapsed": false
   },
   "outputs": [],
   "source": [
    "g = data_reduced_genus.groupby(['rep', 'oxy'])\n",
    "for t, dg in g:\n",
    "    print t #, dg\n",
    "    #print t[0]"
   ]
  },
  {
   "cell_type": "code",
   "execution_count": null,
   "metadata": {
    "collapsed": true
   },
   "outputs": [],
   "source": [
    "row_dict = {(1, 'High') : 2,\n",
    "                (1, 'Low')  : 1,\n",
    "                (2, 'High') : 2,\n",
    "                (2, 'Low')  : 1,\n",
    "                (3, 'High') : 2,\n",
    "                (3, 'Low')  : 1,\n",
    "                (4, 'High') : 2,\n",
    "                (4, 'Low')  : 1}"
   ]
  },
  {
   "cell_type": "code",
   "execution_count": null,
   "metadata": {
    "collapsed": false
   },
   "outputs": [],
   "source": [
    "print axs\n",
    "print \"\"\n",
    "axs[(1-1)][2-1]"
   ]
  },
  {
   "cell_type": "code",
   "execution_count": null,
   "metadata": {
    "collapsed": false
   },
   "outputs": [],
   "source": [
    "#axd = {1:axs[0], 2:axs[1], 3:axs[2], 4:axs[3]}\n",
    "title_list = ''\n",
    "\n",
    "for t, df in g:\n",
    "    #print t\n",
    "    #print 'plot row:', row_dict[t]\n",
    "    #print 'plot column:', t[0]\n",
    "    df.plot(kind='scatter', ax=axs[row_dict[t]-1][t[0]-1], x='week', y='abundance', title='meow')\n",
    "\n",
    "sns.despine()  # Removes the boxes around the plots."
   ]
  },
  {
   "cell_type": "code",
   "execution_count": null,
   "metadata": {
    "collapsed": false
   },
   "outputs": [],
   "source": [
    "fig"
   ]
  },
  {
   "cell_type": "code",
   "execution_count": null,
   "metadata": {
    "collapsed": false
   },
   "outputs": [],
   "source": [
    "# set up a figure with four subplots. \n",
    "fig, axs = plt.subplots(2, 4, figsize=(12, 10))  # ax belongs to fig. \n",
    "#print fig\n",
    "#print axs\n",
    "\n",
    "# set up groupby \n",
    "\n",
    "d_plot = data_reduced_genus[data_reduced_genus['abundance'] > 0.05]\n",
    "g = d_plot.groupby(['rep', 'oxy'])\n",
    "\n",
    "#axd = {1:axs[0], 2:axs[1], 3:axs[2], 4:axs[3]}\n",
    "title_list = ''\n",
    "\n",
    "row_dict = {(1, 'High') : 2, (2, 'High') : 2, (3, 'High') : 2, (4, 'High') : 2,\n",
    "            (1, 'Low')  : 1, (2, 'Low')  : 1, (3, 'Low')  : 1, (4, 'Low')  : 1}\n",
    "\n",
    "for tup, df in g:\n",
    "    # cast the data\n",
    "    #print tup # tuple\n",
    "    data_pivoted = pd.pivot_table(df, values='abundance', \n",
    "                                        index=['week'],  # drops all the other columns. \n",
    "                                        columns='Genus') \n",
    "    #print data_pivoted.head()\n",
    "    #df.groupby('Kingdom', 'Phylum', 'Class', 'Order', 'Family', 'Genus', 'ID', 'oxy', 'rep')\n",
    "    #print axs[row_dict[tup]-1][tup[0]-1]\n",
    "    data_pivoted.plot(kind='bar', ax=axs[row_dict[tup]-1][tup[0]-1], stacked=True)  # don't specify x b/c there is only 1 index. \n"
   ]
  },
  {
   "cell_type": "code",
   "execution_count": null,
   "metadata": {
    "collapsed": true
   },
   "outputs": [],
   "source": [
    "# fig  # shows the figure."
   ]
  },
  {
   "cell_type": "code",
   "execution_count": null,
   "metadata": {
    "collapsed": false,
    "scrolled": true
   },
   "outputs": [],
   "source": [
    "## We can get the last one out, but we want all of them out and want them to have shared colors. \n",
    "# set up a figure with four subplots. \n",
    "fig, axs = plt.subplots(2, 4, figsize=(12, 10))  # ax belongs to fig. \n",
    "#print fig\n",
    "print axs\n",
    "\n",
    "# set up groupby \n",
    "\n",
    "d_plot = data_reduced_genus[data_reduced_genus['abundance'] > 0.05]\n",
    "g = d_plot.groupby(['rep', 'oxy'])\n",
    "\n",
    "#axd = {1:axs[0], 2:axs[1], 3:axs[2], 4:axs[3]}\n",
    "title_list = ''\n",
    "\n",
    "row_dict = {(1, 'High') : 2, (2, 'High') : 2, (3, 'High') : 2, (4, 'High') : 2,\n",
    "            (1, 'Low')  : 1, (2, 'Low')  : 1, (3, 'Low')  : 1, (4, 'Low')  : 1}\n",
    "\n",
    "for tup, df in g:\n",
    "    # cast the data\n",
    "    #print tup # tuple\n",
    "    data_pivoted = pd.pivot_table(df, values='abundance', \n",
    "                                        index=['week'],  # drops all the other columns. \n",
    "                                        columns='Genus') \n",
    "    #print data_pivoted.head()\n",
    "    #df.groupby('Kingdom', 'Phylum', 'Class', 'Order', 'Family', 'Genus', 'ID', 'oxy', 'rep')\n",
    "    #print axs[row_dict[tup]-1][tup[0]-1]\n",
    "    data_pivoted.plot(kind='bar', ax=axs[row_dict[tup]-1][tup[0]-1], stacked=True)  # don't specify x b/c there is only 1 index. \n",
    "\n",
    "plt.legend(loc = 'lower center', bbox_to_anchor = (0,-0.1,1,1),\n",
    "            bbox_transform = plt.gcf().transFigure )            \n",
    "#legend = plt.legend(loc='upper center', shadow=True, fontsize='x-large')   \n",
    "#fig.legend(bbox_to_anchor=(1.05, 0), loc='lower left', borderaxespad=0.)\n",
    "#         # it will place the legend on the outer right-hand side of the last axes    "
   ]
  },
  {
   "cell_type": "code",
   "execution_count": null,
   "metadata": {
    "collapsed": false
   },
   "outputs": [],
   "source": [
    "import itertools\n",
    "methods=['method 1', 'method2', 'method 3', 'method 4']\n",
    "times = range(0, 100, 10)\n",
    "data = pd.DataFrame(list(itertools.product(methods, times, times)))\n",
    "data.columns = ['method', 'dtsi','rtsi']\n",
    "data['nw_score'] = np.random.sample(data.shape[0])\n",
    "print data.head()"
   ]
  },
  {
   "cell_type": "code",
   "execution_count": null,
   "metadata": {
    "collapsed": false
   },
   "outputs": [],
   "source": [
    "# preview of pivot that happens:  (note use of pivot_table, not pivot.  Aggregating across duplicate rows somehow.)\n",
    "data.pivot_table(index=\"dtsi\", columns='rtsi', values='nw_score').head()"
   ]
  },
  {
   "cell_type": "code",
   "execution_count": null,
   "metadata": {
    "collapsed": false
   },
   "outputs": [],
   "source": [
    "data['dtsi'].unique()  # x-values\n",
    "# rtsi are y-values\n",
    "# cast "
   ]
  },
  {
   "cell_type": "code",
   "execution_count": null,
   "metadata": {
    "collapsed": false
   },
   "outputs": [],
   "source": [
    "data_reduced_genus.head()"
   ]
  },
  {
   "cell_type": "code",
   "execution_count": null,
   "metadata": {
    "collapsed": false
   },
   "outputs": [],
   "source": [
    "# Make a heat map.  Then we aren't confused by colors, and overwhelmed by the # of labels. \n",
    "d_plot = data_reduced_genus[data_reduced_genus['abundance'] > 0.05]\n",
    "\n",
    "def facet_heatmap(data, color, **kws):\n",
    "    data = data.pivot(index='Genus', columns='week', values='abundance')\n",
    "    sns.heatmap(data, cmap='Blues', **kws)  # <-- Pass kwargs to heatmap\n",
    "\n",
    "with sns.plotting_context(font_scale=5.5):\n",
    "    g = sns.FacetGrid(d_plot[d_plot['oxy']=='Low'], \n",
    "                      col=\"rep\", size=3, aspect=1)\n",
    "\n",
    "cbar_ax = g.fig.add_axes([.92, .3, .02, .4])  # <-- Create a colorbar axes\n",
    "\n",
    "g = g.map_dataframe(facet_heatmap,\n",
    "                    cbar_ax=cbar_ax,\n",
    "                    vmin=0, vmax=1)  # <-- Specify the colorbar axes and limits\n",
    "\n",
    "g.set_titles(col_template=\"{col_name}\", fontweight='bold', fontsize=18)\n",
    "g.fig.subplots_adjust(right=.9)  # <-- Add space so the colorbar doesn't overlap the plot"
   ]
  },
  {
   "cell_type": "code",
   "execution_count": null,
   "metadata": {
    "collapsed": false
   },
   "outputs": [],
   "source": [
    "def filter_by_abundance(data, column, high, low):\n",
    "    '''Return only rows where genera have one value of abundance in range(low, high)'''\n",
    "    species_to_keep = data[(data[column] <= high) & (data[column] >= low)]['Genus'].unique()\n",
    "    print species_to_keep[0:5]# \n",
    "    return data[data['Genus'].isin(species_to_keep)]\n",
    "    #return data[data['Genus'] in species_to_keep]\n",
    "\n",
    "filter_by_abundance(data=data_reduced_genus, column='abundance', high=1, low=0.5).head()"
   ]
  },
  {
   "cell_type": "code",
   "execution_count": null,
   "metadata": {
    "collapsed": false
   },
   "outputs": [],
   "source": [
    "# Make a heat map.  Then we aren't confused by colors, and overwhelmed by the # of labels. \n",
    "d_plot = filter_by_abundance(data=data_reduced_genus, column='abundance', high=.8, low=0.1)\n",
    "\n",
    "def facet_heatmap(data, color, **kws):\n",
    "    data = data.pivot(index='Genus', columns='week', values='abundance')\n",
    "    sns.heatmap(data, cmap=\"YlGnBu\", **kws)  # <-- Pass kwargs to heatmap  cmap used to be 'Blue'\n",
    "\n",
    "with sns.plotting_context(font_scale=7):\n",
    "    g = sns.FacetGrid(d_plot[d_plot['oxy']=='Low'], \n",
    "                      col=\"rep\", size=3, aspect=1)\n",
    "\n",
    "cbar_ax = g.fig.add_axes([.92, .3, .02, .4])  # <-- Create a colorbar axes\n",
    "\n",
    "g = g.map_dataframe(facet_heatmap,\n",
    "                    cbar_ax=cbar_ax,\n",
    "                    vmin=0, vmax=max(d_plot.abundance))  # <-- Specify the colorbar axes and limits\n",
    "\n",
    "g.set_titles(col_template=\"{col_name}\", fontweight='bold', fontsize=18)\n",
    "g.fig.subplots_adjust(right=.9)  # <-- Add space so the colorbar doesn't overlap the plot"
   ]
  },
  {
   "cell_type": "code",
   "execution_count": null,
   "metadata": {
    "collapsed": false
   },
   "outputs": [],
   "source": [
    "def plot_heatmap(data, high, low, oxy, rep): \n",
    "    # get rid of oxygen levels and replicates if specified.\n",
    "    if oxy is not 'all':\n",
    "        print \"keep only {} oxygen samples\".format(oxy)\n",
    "        data = data[data['oxy']==oxy]\n",
    "    if rep is not 'all':\n",
    "        print \"keep only replicate levels:\", rep\n",
    "        data = data[data['rep'].isin(rep)]        \n",
    "    data = filter_by_abundance(data=data, column='abundance', high=high, low=low)\n",
    "    data['facet_replicate'] = 'replicate ' + data['rep'].astype(str)\n",
    "    \n",
    "    # make height of the plot a function of the number of rows (Genera):\n",
    "    num_data_rows = len(data['Genus'].unique())\n",
    "    plot_size = 2 +  num_data_rows/7\n",
    "    plot_aspect = 2\n",
    "    if num_data_rows > 6:\n",
    "        plot_aspect = .85\n",
    "    if num_data_rows > 9:\n",
    "        plot_aspect = .65\n",
    "    if num_data_rows > 9:\n",
    "        plot_aspect = .6\n",
    "    \n",
    "    def facet_heatmap(data, color, **kws):\n",
    "        data = data.pivot(index='Genus', columns='week', values='abundance')\n",
    "        sns.heatmap(data, cmap=\"YlGnBu\", **kws)  # <-- Pass kwargs to heatmap  cmap used to be 'Blue'\n",
    "    \n",
    "    with sns.plotting_context(font_scale=7):\n",
    "        g = sns.FacetGrid(data, col='facet_replicate', size=plot_size, aspect=plot_aspect)\n",
    "    \n",
    "    cbar_ax = g.fig.add_axes([.92, .3, .02, .4])  # <-- Create a colorbar axes\n",
    "    \n",
    "    g = g.map_dataframe(facet_heatmap,\n",
    "                        cbar_ax=cbar_ax,\n",
    "                        vmin=0, vmax=max(data.abundance))  # <-- Specify the colorbar axes and limits\n",
    "    \n",
    "    g.set_titles(col_template=\"{col_name}\", fontweight='bold', fontsize=18)\n",
    "    g.set_axis_labels('week')\n",
    "    g.fig.subplots_adjust(right=.9)  # <-- Add space so the colorbar doesn't overlap the plot\n",
    "    \n",
    "    # add a supertitle. \n",
    "    plt.subplots_adjust(top=0.80)\n",
    "    supertitle = str(low) + ' < abundance < ' + str(high) + ', {} oxygen'.format(oxy) \n",
    "    g.fig.suptitle(supertitle, size=14)\n",
    "    \n",
    "    # write a filename and save.\n",
    "    plot_dir = './plots/'\n",
    "    filename = oxy + \"_oxygen--{0}_to_{1}_abundance\".format(low,high)\n",
    "    print 'filename:', filename\n",
    "    g.savefig(plot_dir + filename + '.pdf')\n",
    "\n",
    "# demo:\n",
    "plot_heatmap(data=data_reduced_genus, high=0.6, low = 0.5, oxy='High', rep='all')"
   ]
  },
  {
   "cell_type": "code",
   "execution_count": null,
   "metadata": {
    "collapsed": false
   },
   "outputs": [],
   "source": [
    "plot_heatmap(data=data_reduced_genus, high=1, low = 0.1, oxy='High', rep='all')"
   ]
  },
  {
   "cell_type": "code",
   "execution_count": null,
   "metadata": {
    "collapsed": false
   },
   "outputs": [],
   "source": [
    "plot_heatmap(data=data_reduced_genus, high=.5, low = 0.02, oxy='Low', rep='all')"
   ]
  },
  {
   "cell_type": "code",
   "execution_count": null,
   "metadata": {
    "collapsed": false
   },
   "outputs": [],
   "source": [
    "# Loop through the ranges we want. \n",
    "oxy_conditions = ['Low', 'High']\n",
    "range_pairs = [(0.01, 1), (0.05, 1), (0.1, 1), (0.5, 1)]\n",
    "for o in oxy_conditions:\n",
    "    for r in range_pairs:\n",
    "        #print \"oxygen:\", o\n",
    "        #print \"range:\", r\n",
    "        #print \"range (low):\", r[0]\n",
    "        plot_heatmap(data=data_reduced_genus, low =r[0], high=r[1], oxy=o, rep='all')"
   ]
  },
  {
   "cell_type": "code",
   "execution_count": null,
   "metadata": {
    "collapsed": false
   },
   "outputs": [],
   "source": [
    "# Loop through the ranges we want. \n",
    "oxy_conditions = ['Low', 'High']\n",
    "max_abundance = 0.6\n",
    "range_pairs = [(0.01, max_abundance), (0.05, max_abundance), (0.1, max_abundance), (0.5, max_abundance)]\n",
    "for o in oxy_conditions:\n",
    "    for r in range_pairs:\n",
    "        #print \"oxygen:\", o\n",
    "        #print \"range:\", r\n",
    "        #print \"range (low):\", r[0]\n",
    "        plot_heatmap(data=data_reduced_genus, low =r[0], high=r[1], oxy=o, rep='all')"
   ]
  },
  {
   "cell_type": "raw",
   "metadata": {
    "collapsed": false
   },
   "source": [
    "# INC: map custom colors on.\n",
    "data_files = ['a', 'b', 'c', 'd']\n",
    "# colors: http://colorbrewer2.org/?type=diverging&scheme=RdYlBu&n=9\n",
    "colorblind_safe_9 = [(215,48,39 ), # red\n",
    "                    (244,109,67 ), # orange\n",
    "                    (253,174,97 ), # light orange\n",
    "                    (254,224,144), # orange-yellow\n",
    "                    (255,255,191), # yellow \n",
    "                    (224,243,248), # very light blue\n",
    "                    (171,217,233), # lighter blue\n",
    "                    (116,173,209), # light blue\n",
    "                    (69,117,180 )] # blue\n",
    "print colorblind_safe_9\n",
    "#colors = dict(zip(data_files, mpl_colors))\n",
    "#print colors"
   ]
  },
  {
   "cell_type": "code",
   "execution_count": null,
   "metadata": {
    "collapsed": true
   },
   "outputs": [],
   "source": []
  }
 ],
 "metadata": {
  "kernelspec": {
   "display_name": "Python 2",
   "language": "python",
   "name": "python2"
  },
  "language_info": {
   "codemirror_mode": {
    "name": "ipython",
    "version": 2
   },
   "file_extension": ".py",
   "mimetype": "text/x-python",
   "name": "python",
   "nbconvert_exporter": "python",
   "pygments_lexer": "ipython2",
   "version": "2.7.5"
  }
 },
 "nbformat": 4,
 "nbformat_minor": 0
}
