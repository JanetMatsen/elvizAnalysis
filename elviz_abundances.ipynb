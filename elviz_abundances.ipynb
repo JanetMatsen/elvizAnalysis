{
 "cells": [
  {
   "cell_type": "code",
   "execution_count": 1,
   "metadata": {
    "collapsed": true
   },
   "outputs": [],
   "source": [
    "import numpy as np\n",
    "import os\n",
    "import pandas as pd\n",
    "import re\n",
    "import seaborn as sns\n",
    "import matplotlib.pyplot as plt\n",
    "%matplotlib inline"
   ]
  },
  {
   "cell_type": "code",
   "execution_count": 2,
   "metadata": {
    "collapsed": false
   },
   "outputs": [],
   "source": [
    "#pd.options.display.max_rows = 999\n",
    "#pd.get_option(\"display.max_rows\")"
   ]
  },
  {
   "cell_type": "code",
   "execution_count": 3,
   "metadata": {
    "collapsed": true
   },
   "outputs": [],
   "source": [
    "# Control whether to import the original data. \n",
    "import_original_data = True\n",
    "write_excel = True"
   ]
  },
  {
   "cell_type": "markdown",
   "metadata": {},
   "source": [
    "Mila:\n",
    "\n",
    "OK only four files needed to be corrected. I put them in your Meta4 folder under the name Elviz_Corrected\n",
    "\n",
    "The remaining four files indeed contained fewer contigs.\n",
    "\n",
    "Thanks!\n"
   ]
  },
  {
   "cell_type": "code",
   "execution_count": 4,
   "metadata": {
    "collapsed": false
   },
   "outputs": [
    {
     "name": "stdout",
     "output_type": "stream",
     "text": [
      "/usr/bin/python\n",
      "2.7.5 (default, Mar  9 2014, 22:15:05) \n",
      "[GCC 4.2.1 Compatible Apple LLVM 5.0 (clang-500.0.68)]\n"
     ]
    }
   ],
   "source": [
    "import sys\n",
    "print sys.executable \n",
    "print (sys.version)"
   ]
  },
  {
   "cell_type": "code",
   "execution_count": 5,
   "metadata": {
    "collapsed": false
   },
   "outputs": [
    {
     "name": "stdout",
     "output_type": "stream",
     "text": [
      "/Users/janet/elvizAnalysis\n"
     ]
    }
   ],
   "source": [
    "print os.getcwd()"
   ]
  },
  {
   "cell_type": "code",
   "execution_count": 6,
   "metadata": {
    "collapsed": false
   },
   "outputs": [],
   "source": [
    "sns.set(style=\"whitegrid\")"
   ]
  },
  {
   "cell_type": "code",
   "execution_count": 7,
   "metadata": {
    "collapsed": false
   },
   "outputs": [],
   "source": [
    "# Import the csv that translates the 127_HOW14 type labels to weeks and replicates.\n",
    "\n",
    "from elviz_utils import IMPORT_METAINFO_TYPES, read_sample_info"
   ]
  },
  {
   "cell_type": "code",
   "execution_count": 8,
   "metadata": {
    "collapsed": false
   },
   "outputs": [
    {
     "data": {
      "text/html": [
       "<div>\n",
       "<table border=\"1\" class=\"dataframe\">\n",
       "  <thead>\n",
       "    <tr style=\"text-align: right;\">\n",
       "      <th></th>\n",
       "      <th>ID</th>\n",
       "      <th>oxy</th>\n",
       "      <th>rep</th>\n",
       "      <th>week</th>\n",
       "      <th>project</th>\n",
       "    </tr>\n",
       "  </thead>\n",
       "  <tbody>\n",
       "    <tr>\n",
       "      <th>0</th>\n",
       "      <td>1_LOW4</td>\n",
       "      <td>Low</td>\n",
       "      <td>1</td>\n",
       "      <td>4</td>\n",
       "      <td>1056013</td>\n",
       "    </tr>\n",
       "    <tr>\n",
       "      <th>1</th>\n",
       "      <td>13_LOW5</td>\n",
       "      <td>Low</td>\n",
       "      <td>1</td>\n",
       "      <td>5</td>\n",
       "      <td>1056037</td>\n",
       "    </tr>\n",
       "    <tr>\n",
       "      <th>2</th>\n",
       "      <td>25_LOW6</td>\n",
       "      <td>Low</td>\n",
       "      <td>1</td>\n",
       "      <td>6</td>\n",
       "      <td>1056061</td>\n",
       "    </tr>\n",
       "    <tr>\n",
       "      <th>3</th>\n",
       "      <td>37_LOW7</td>\n",
       "      <td>Low</td>\n",
       "      <td>1</td>\n",
       "      <td>7</td>\n",
       "      <td>1056085</td>\n",
       "    </tr>\n",
       "    <tr>\n",
       "      <th>4</th>\n",
       "      <td>49_LOW8</td>\n",
       "      <td>Low</td>\n",
       "      <td>1</td>\n",
       "      <td>8</td>\n",
       "      <td>1056109</td>\n",
       "    </tr>\n",
       "  </tbody>\n",
       "</table>\n",
       "</div>"
      ],
      "text/plain": [
       "        ID  oxy  rep  week  project\n",
       "0   1_LOW4  Low    1     4  1056013\n",
       "1  13_LOW5  Low    1     5  1056037\n",
       "2  25_LOW6  Low    1     6  1056061\n",
       "3  37_LOW7  Low    1     7  1056085\n",
       "4  49_LOW8  Low    1     8  1056109"
      ]
     },
     "execution_count": 8,
     "metadata": {},
     "output_type": "execute_result"
    }
   ],
   "source": [
    "sample_info = read_sample_info()\n",
    "\n",
    "sample_info.head()"
   ]
  },
  {
   "cell_type": "code",
   "execution_count": 9,
   "metadata": {
    "collapsed": false
   },
   "outputs": [
    {
     "name": "stdout",
     "output_type": "stream",
     "text": [
      "88\n",
      "      88\r\n"
     ]
    }
   ],
   "source": [
    "# loop over each file, collapse rows that share phylogeny data to the genus label,\n",
    "# save new .csv files, then append them all together in a separate step. \n",
    "#filepath = '/Volumes/Shares/Users/Janet/meta4/160121_elviz_files_updated/'\n",
    "filepath = './data'\n",
    "elviz_files = [f for f in os.listdir(filepath) if \".csv\" in f]\n",
    "print len(elviz_files)\n",
    "!ls ./data/*.csv | wc -l"
   ]
  },
  {
   "cell_type": "code",
   "execution_count": 10,
   "metadata": {
    "collapsed": false
   },
   "outputs": [],
   "source": [
    "from abundance_utils import read_and_reduce_elviz_csv"
   ]
  },
  {
   "cell_type": "code",
   "execution_count": 11,
   "metadata": {
    "collapsed": false
   },
   "outputs": [],
   "source": [
    "# test read_and_reduce_elviz_csv\n",
    "tmp = read_and_reduce_elviz_csv(filename = elviz_files[0],\n",
    "                                    #'elviz_1056076_32_HOW6.csv', \n",
    "                                filepath=filepath,\n",
    "                               sample_info=sample_info)"
   ]
  },
  {
   "cell_type": "code",
   "execution_count": 12,
   "metadata": {
    "collapsed": false
   },
   "outputs": [],
   "source": [
    "# test read_and_reduce_elviz_csv\n",
    "tmp = read_and_reduce_elviz_csv(filename = elviz_files[0], \n",
    "                                filepath=filepath,\n",
    "                               sample_info=sample_info)"
   ]
  },
  {
   "cell_type": "code",
   "execution_count": 13,
   "metadata": {
    "collapsed": false
   },
   "outputs": [
    {
     "data": {
      "text/html": [
       "<div>\n",
       "<table border=\"1\" class=\"dataframe\">\n",
       "  <thead>\n",
       "    <tr style=\"text-align: right;\">\n",
       "      <th></th>\n",
       "      <th>Kingdom</th>\n",
       "      <th>Phylum</th>\n",
       "      <th>Class</th>\n",
       "      <th>Order</th>\n",
       "      <th>Family</th>\n",
       "      <th>Genus</th>\n",
       "      <th>abundance</th>\n",
       "      <th>ID</th>\n",
       "      <th>oxy</th>\n",
       "      <th>rep</th>\n",
       "      <th>week</th>\n",
       "      <th>project</th>\n",
       "    </tr>\n",
       "  </thead>\n",
       "  <tbody>\n",
       "    <tr>\n",
       "      <th>642</th>\n",
       "      <td>Bacteria</td>\n",
       "      <td>Proteobacteria</td>\n",
       "      <td>Gammaproteobacteria</td>\n",
       "      <td>Methylococcales</td>\n",
       "      <td>Methylococcaceae</td>\n",
       "      <td>Methylobacter</td>\n",
       "      <td>0.275835</td>\n",
       "      <td>1_LOW4</td>\n",
       "      <td>Low</td>\n",
       "      <td>1</td>\n",
       "      <td>4</td>\n",
       "      <td>1056013</td>\n",
       "    </tr>\n",
       "    <tr>\n",
       "      <th>494</th>\n",
       "      <td>Bacteria</td>\n",
       "      <td>Proteobacteria</td>\n",
       "      <td>Betaproteobacteria</td>\n",
       "      <td>Methylophilales</td>\n",
       "      <td>Methylophilaceae</td>\n",
       "      <td>Methylotenera</td>\n",
       "      <td>0.266572</td>\n",
       "      <td>1_LOW4</td>\n",
       "      <td>Low</td>\n",
       "      <td>1</td>\n",
       "      <td>4</td>\n",
       "      <td>1056013</td>\n",
       "    </tr>\n",
       "    <tr>\n",
       "      <th>198</th>\n",
       "      <td>Bacteria</td>\n",
       "      <td>Bacteroidetes</td>\n",
       "      <td>Flavobacteriia</td>\n",
       "      <td>Flavobacteriales</td>\n",
       "      <td>Flavobacteriaceae</td>\n",
       "      <td>Flavobacterium</td>\n",
       "      <td>0.066042</td>\n",
       "      <td>1_LOW4</td>\n",
       "      <td>Low</td>\n",
       "      <td>1</td>\n",
       "      <td>4</td>\n",
       "      <td>1056013</td>\n",
       "    </tr>\n",
       "    <tr>\n",
       "      <th>650</th>\n",
       "      <td>Bacteria</td>\n",
       "      <td>Proteobacteria</td>\n",
       "      <td>Gammaproteobacteria</td>\n",
       "      <td>Methylococcales</td>\n",
       "      <td>Methylococcaceae</td>\n",
       "      <td>other</td>\n",
       "      <td>0.057879</td>\n",
       "      <td>1_LOW4</td>\n",
       "      <td>Low</td>\n",
       "      <td>1</td>\n",
       "      <td>4</td>\n",
       "      <td>1056013</td>\n",
       "    </tr>\n",
       "    <tr>\n",
       "      <th>478</th>\n",
       "      <td>Bacteria</td>\n",
       "      <td>Proteobacteria</td>\n",
       "      <td>Betaproteobacteria</td>\n",
       "      <td>Burkholderiales</td>\n",
       "      <td>Comamonadaceae</td>\n",
       "      <td>other</td>\n",
       "      <td>0.036590</td>\n",
       "      <td>1_LOW4</td>\n",
       "      <td>Low</td>\n",
       "      <td>1</td>\n",
       "      <td>4</td>\n",
       "      <td>1056013</td>\n",
       "    </tr>\n",
       "  </tbody>\n",
       "</table>\n",
       "</div>"
      ],
      "text/plain": [
       "      Kingdom          Phylum                Class             Order  \\\n",
       "642  Bacteria  Proteobacteria  Gammaproteobacteria   Methylococcales   \n",
       "494  Bacteria  Proteobacteria   Betaproteobacteria   Methylophilales   \n",
       "198  Bacteria   Bacteroidetes       Flavobacteriia  Flavobacteriales   \n",
       "650  Bacteria  Proteobacteria  Gammaproteobacteria   Methylococcales   \n",
       "478  Bacteria  Proteobacteria   Betaproteobacteria   Burkholderiales   \n",
       "\n",
       "                Family           Genus  abundance      ID  oxy  rep  week  \\\n",
       "642   Methylococcaceae   Methylobacter   0.275835  1_LOW4  Low    1     4   \n",
       "494   Methylophilaceae   Methylotenera   0.266572  1_LOW4  Low    1     4   \n",
       "198  Flavobacteriaceae  Flavobacterium   0.066042  1_LOW4  Low    1     4   \n",
       "650   Methylococcaceae           other   0.057879  1_LOW4  Low    1     4   \n",
       "478     Comamonadaceae           other   0.036590  1_LOW4  Low    1     4   \n",
       "\n",
       "     project  \n",
       "642  1056013  \n",
       "494  1056013  \n",
       "198  1056013  \n",
       "650  1056013  \n",
       "478  1056013  "
      ]
     },
     "execution_count": 13,
     "metadata": {},
     "output_type": "execute_result"
    }
   ],
   "source": [
    "tmp.head()"
   ]
  },
  {
   "cell_type": "code",
   "execution_count": 14,
   "metadata": {
    "collapsed": false
   },
   "outputs": [
    {
     "name": "stdout",
     "output_type": "stream",
     "text": [
      "['elviz_1056016_2_LOW4.csv', 'elviz_1056019_3_LOW4.csv', 'elviz_1056022_4_LOW4.csv']\n"
     ]
    }
   ],
   "source": [
    "# import the raw or raw-ish data. \n",
    "if import_original_data:\n",
    "    filepath = '/Users/janet/Documents/Lidstrom Lab Work/meta4/160125_Elviz_files_corrected'\n",
    "    elviz_files = [f for f in os.listdir(filepath) if \".csv\" in f]\n",
    "    print elviz_files[1:4]"
   ]
  },
  {
   "cell_type": "code",
   "execution_count": 15,
   "metadata": {
    "collapsed": false
   },
   "outputs": [],
   "source": [
    "if not os.path.exists('./results'):\n",
    "    os.makedirs('./results/')\n",
    "if not os.path.exists('./plots'):\n",
    "    os.makedirs('./plots/')"
   ]
  },
  {
   "cell_type": "code",
   "execution_count": 16,
   "metadata": {
    "collapsed": false
   },
   "outputs": [],
   "source": [
    "from abundance_utils import read_and_reduce_all"
   ]
  },
  {
   "cell_type": "code",
   "execution_count": 17,
   "metadata": {
    "collapsed": false
   },
   "outputs": [
    {
     "name": "stdout",
     "output_type": "stream",
     "text": [
      "elviz_1056016_2_LOW4.csv\n",
      "elviz_1056019_3_LOW4.csv\n",
      "elviz_1056022_4_LOW4.csv\n",
      "elviz_1056025_7_HOW4.csv\n",
      "elviz_1056028_8_HOW4.csv\n",
      "elviz_1056031_9_HOW4.csv\n",
      "elviz_1056034_10_HOW4.csv\n",
      "elviz_1056037_13_LOW5.csv\n",
      "elviz_1056040_14_LOW5.csv\n",
      "elviz_1056043_15_LOW5.csv\n",
      "elviz_1056046_16_LOW5.csv\n",
      "elviz_1056049_19_HOW5.csv\n",
      "elviz_1056052_20_HOW5.csv\n",
      "elviz_1056055_21_HOW5.csv\n",
      "elviz_1056058_22_HOW5.csv\n",
      "elviz_1056061_25_LOW6.csv\n",
      "elviz_1056064_26_LOW6.csv\n",
      "elviz_1056067_27_LOW6.csv\n",
      "elviz_1056070_28_LOW6.csv\n",
      "elviz_1056073_31_HOW6.csv\n",
      "elviz_1056076_32_HOW6.csv\n",
      "elviz_1056079_33_HOW6.csv\n",
      "elviz_1056082_34_HOW6.csv\n",
      "elviz_1056085_37_LOW7.csv\n",
      "elviz_1056088_38_LOW7.csv\n",
      "elviz_1056091_39_LOW7.csv\n",
      "elviz_1056094_40_LOW7.csv\n",
      "elviz_1056097_43_HOW7.csv\n",
      "elviz_1056100_44_HOW7.csv\n",
      "elviz_1056103_45_HOW7.csv\n",
      "elviz_1056106_46_HOW7.csv\n",
      "elviz_1056109_49_LOW8.csv\n",
      "elviz_1056112_50_LOW8.csv\n",
      "elviz_1056115_51_LOW8.csv\n",
      "elviz_1056118_52_LOW8.csv\n",
      "elviz_1056121_55_HOW8.csv\n",
      "elviz_1056124_56_HOW8.csv\n",
      "elviz_1056127_57_HOW8.csv\n",
      "elviz_1056130_58_HOW8.csv\n",
      "elviz_1056133_61_LOW9.csv\n",
      "elviz_1056136_62_LOW9.csv\n",
      "elviz_1056139_63_LOW9.csv\n",
      "elviz_1056142_64_LOW9.csv\n",
      "elviz_1056145_67_HOW9.csv\n",
      "elviz_1056148_68_HOW9.csv\n",
      "elviz_1056151_69_HOW9.csv\n",
      "elviz_1056154_70_HOW9.csv\n",
      "elviz_1056157_73_LOW10.csv\n",
      "elviz_1056160_74_LOW10.csv\n",
      "elviz_1056163_75_LOW10.csv\n",
      "elviz_1056166_76_LOW10.csv\n",
      "elviz_1056169_79_HOW10.csv\n",
      "elviz_1056172_80_HOW10.csv\n",
      "elviz_1056175_81_HOW10.csv\n",
      "elviz_1056178_82_HOW10.csv\n",
      "elviz_1056181_85_LOW11.csv\n",
      "elviz_1056184_86_LOW11.csv\n",
      "elviz_1056187_87_LOW11.csv\n",
      "elviz_1056190_88_LOW11.csv\n",
      "elviz_1056193_91_HOW11.csv\n",
      "elviz_1056196_92_HOW11.csv\n",
      "elviz_1056199_93_HOW11.csv\n",
      "elviz_1056202_94_HOW11.csv\n",
      "elviz_1056205_97_LOW12.csv\n",
      "elviz_1056208_98_LOW12.csv\n",
      "elviz_1056211_99_LOW12.csv\n",
      "elviz_1056214_100_LOW12.csv\n",
      "elviz_1056217_103_HOW12.csv\n",
      "elviz_1056220_104_HOW12.csv\n",
      "elviz_1056223_105_HOW12.csv\n",
      "elviz_1056226_106_HOW12.csv\n",
      "elviz_1056229_109_LOW13.csv\n",
      "elviz_1056232_110_LOW13.csv\n",
      "elviz_1056235_111_LOW13.csv\n",
      "elviz_1056238_112_LOW13.csv\n",
      "elviz_1056241_115_HOW13.csv\n",
      "elviz_1056244_116_HOW13.csv\n",
      "elviz_1056247_117_HOW13.csv\n",
      "elviz_1056250_118_HOW13.csv\n",
      "elviz_1056253_121_LOW14.csv\n",
      "elviz_1056256_122_LOW14.csv\n",
      "elviz_1056259_123_LOW14.csv\n",
      "elviz_1056262_124_LOW14.csv\n",
      "elviz_1056265_127_HOW14.csv\n",
      "elviz_1056268_128_HOW14.csv\n",
      "elviz_1056271_129_HOW14.csv\n",
      "elviz_1056274_130_HOW14.csv\n",
      "775164\n"
     ]
    },
    {
     "data": {
      "text/html": [
       "<div>\n",
       "<table border=\"1\" class=\"dataframe\">\n",
       "  <thead>\n",
       "    <tr style=\"text-align: right;\">\n",
       "      <th></th>\n",
       "      <th>Kingdom</th>\n",
       "      <th>Phylum</th>\n",
       "      <th>Class</th>\n",
       "      <th>Order</th>\n",
       "      <th>Family</th>\n",
       "      <th>Genus</th>\n",
       "      <th>abundance</th>\n",
       "      <th>ID</th>\n",
       "      <th>oxy</th>\n",
       "      <th>rep</th>\n",
       "      <th>week</th>\n",
       "      <th>project</th>\n",
       "      <th>sample_name</th>\n",
       "    </tr>\n",
       "  </thead>\n",
       "  <tbody>\n",
       "    <tr>\n",
       "      <th>642</th>\n",
       "      <td>Bacteria</td>\n",
       "      <td>Proteobacteria</td>\n",
       "      <td>Gammaproteobacteria</td>\n",
       "      <td>Methylococcales</td>\n",
       "      <td>Methylococcaceae</td>\n",
       "      <td>Methylobacter</td>\n",
       "      <td>0.275835</td>\n",
       "      <td>1_LOW4</td>\n",
       "      <td>Low</td>\n",
       "      <td>1</td>\n",
       "      <td>4</td>\n",
       "      <td>1056013</td>\n",
       "      <td>replicate 1: Low O2</td>\n",
       "    </tr>\n",
       "    <tr>\n",
       "      <th>494</th>\n",
       "      <td>Bacteria</td>\n",
       "      <td>Proteobacteria</td>\n",
       "      <td>Betaproteobacteria</td>\n",
       "      <td>Methylophilales</td>\n",
       "      <td>Methylophilaceae</td>\n",
       "      <td>Methylotenera</td>\n",
       "      <td>0.266572</td>\n",
       "      <td>1_LOW4</td>\n",
       "      <td>Low</td>\n",
       "      <td>1</td>\n",
       "      <td>4</td>\n",
       "      <td>1056013</td>\n",
       "      <td>replicate 1: Low O2</td>\n",
       "    </tr>\n",
       "    <tr>\n",
       "      <th>198</th>\n",
       "      <td>Bacteria</td>\n",
       "      <td>Bacteroidetes</td>\n",
       "      <td>Flavobacteriia</td>\n",
       "      <td>Flavobacteriales</td>\n",
       "      <td>Flavobacteriaceae</td>\n",
       "      <td>Flavobacterium</td>\n",
       "      <td>0.066042</td>\n",
       "      <td>1_LOW4</td>\n",
       "      <td>Low</td>\n",
       "      <td>1</td>\n",
       "      <td>4</td>\n",
       "      <td>1056013</td>\n",
       "      <td>replicate 1: Low O2</td>\n",
       "    </tr>\n",
       "    <tr>\n",
       "      <th>650</th>\n",
       "      <td>Bacteria</td>\n",
       "      <td>Proteobacteria</td>\n",
       "      <td>Gammaproteobacteria</td>\n",
       "      <td>Methylococcales</td>\n",
       "      <td>Methylococcaceae</td>\n",
       "      <td>other</td>\n",
       "      <td>0.057879</td>\n",
       "      <td>1_LOW4</td>\n",
       "      <td>Low</td>\n",
       "      <td>1</td>\n",
       "      <td>4</td>\n",
       "      <td>1056013</td>\n",
       "      <td>replicate 1: Low O2</td>\n",
       "    </tr>\n",
       "    <tr>\n",
       "      <th>478</th>\n",
       "      <td>Bacteria</td>\n",
       "      <td>Proteobacteria</td>\n",
       "      <td>Betaproteobacteria</td>\n",
       "      <td>Burkholderiales</td>\n",
       "      <td>Comamonadaceae</td>\n",
       "      <td>other</td>\n",
       "      <td>0.036590</td>\n",
       "      <td>1_LOW4</td>\n",
       "      <td>Low</td>\n",
       "      <td>1</td>\n",
       "      <td>4</td>\n",
       "      <td>1056013</td>\n",
       "      <td>replicate 1: Low O2</td>\n",
       "    </tr>\n",
       "  </tbody>\n",
       "</table>\n",
       "</div>"
      ],
      "text/plain": [
       "      Kingdom          Phylum                Class             Order  \\\n",
       "642  Bacteria  Proteobacteria  Gammaproteobacteria   Methylococcales   \n",
       "494  Bacteria  Proteobacteria   Betaproteobacteria   Methylophilales   \n",
       "198  Bacteria   Bacteroidetes       Flavobacteriia  Flavobacteriales   \n",
       "650  Bacteria  Proteobacteria  Gammaproteobacteria   Methylococcales   \n",
       "478  Bacteria  Proteobacteria   Betaproteobacteria   Burkholderiales   \n",
       "\n",
       "                Family           Genus  abundance      ID  oxy  rep  week  \\\n",
       "642   Methylococcaceae   Methylobacter   0.275835  1_LOW4  Low    1     4   \n",
       "494   Methylophilaceae   Methylotenera   0.266572  1_LOW4  Low    1     4   \n",
       "198  Flavobacteriaceae  Flavobacterium   0.066042  1_LOW4  Low    1     4   \n",
       "650   Methylococcaceae           other   0.057879  1_LOW4  Low    1     4   \n",
       "478     Comamonadaceae           other   0.036590  1_LOW4  Low    1     4   \n",
       "\n",
       "     project          sample_name  \n",
       "642  1056013  replicate 1: Low O2  \n",
       "494  1056013  replicate 1: Low O2  \n",
       "198  1056013  replicate 1: Low O2  \n",
       "650  1056013  replicate 1: Low O2  \n",
       "478  1056013  replicate 1: Low O2  "
      ]
     },
     "execution_count": 17,
     "metadata": {},
     "output_type": "execute_result"
    }
   ],
   "source": [
    "if import_original_data:\n",
    "    data_reduced = read_and_reduce_all(filename_list=elviz_files,\n",
    "                                       filepath=filepath,\n",
    "                                       sample_info = sample_info)\n",
    "    print data_reduced.size  \n",
    "else: \n",
    "    data_reduced = pd.read_csv(\"./results/reduced_data--all_phylogeny_remains.csv\")\n",
    "\n",
    "data_reduced.head()"
   ]
  },
  {
   "cell_type": "code",
   "execution_count": 18,
   "metadata": {
    "collapsed": false
   },
   "outputs": [],
   "source": [
    "if import_original_data:\n",
    "    data_reduced.to_csv(\"./results/reduced_data--all_phylogeny_remains.csv\", index=False)"
   ]
  },
  {
   "cell_type": "code",
   "execution_count": 19,
   "metadata": {
    "collapsed": false
   },
   "outputs": [
    {
     "data": {
      "text/html": [
       "<div>\n",
       "<table border=\"1\" class=\"dataframe\">\n",
       "  <thead>\n",
       "    <tr style=\"text-align: right;\">\n",
       "      <th></th>\n",
       "      <th>Kingdom</th>\n",
       "      <th>Phylum</th>\n",
       "      <th>Class</th>\n",
       "      <th>Order</th>\n",
       "      <th>Family</th>\n",
       "      <th>Genus</th>\n",
       "      <th>abundance</th>\n",
       "      <th>ID</th>\n",
       "      <th>oxy</th>\n",
       "      <th>rep</th>\n",
       "      <th>week</th>\n",
       "      <th>project</th>\n",
       "      <th>sample_name</th>\n",
       "    </tr>\n",
       "  </thead>\n",
       "  <tbody>\n",
       "    <tr>\n",
       "      <th>493</th>\n",
       "      <td>Bacteria</td>\n",
       "      <td>Proteobacteria</td>\n",
       "      <td>Betaproteobacteria</td>\n",
       "      <td>Methylophilales</td>\n",
       "      <td>Methylophilaceae</td>\n",
       "      <td>Methylophilus</td>\n",
       "      <td>0.001669</td>\n",
       "      <td>1_LOW4</td>\n",
       "      <td>Low</td>\n",
       "      <td>1</td>\n",
       "      <td>4</td>\n",
       "      <td>1056013</td>\n",
       "      <td>replicate 1: Low O2</td>\n",
       "    </tr>\n",
       "    <tr>\n",
       "      <th>515</th>\n",
       "      <td>Bacteria</td>\n",
       "      <td>Proteobacteria</td>\n",
       "      <td>Betaproteobacteria</td>\n",
       "      <td>Methylophilales</td>\n",
       "      <td>Methylophilaceae</td>\n",
       "      <td>Methylophilus</td>\n",
       "      <td>0.001356</td>\n",
       "      <td>2_LOW4</td>\n",
       "      <td>Low</td>\n",
       "      <td>2</td>\n",
       "      <td>4</td>\n",
       "      <td>1056016</td>\n",
       "      <td>replicate 2: Low O2</td>\n",
       "    </tr>\n",
       "    <tr>\n",
       "      <th>499</th>\n",
       "      <td>Bacteria</td>\n",
       "      <td>Proteobacteria</td>\n",
       "      <td>Betaproteobacteria</td>\n",
       "      <td>Methylophilales</td>\n",
       "      <td>Methylophilaceae</td>\n",
       "      <td>Methylophilus</td>\n",
       "      <td>0.001524</td>\n",
       "      <td>3_LOW4</td>\n",
       "      <td>Low</td>\n",
       "      <td>3</td>\n",
       "      <td>4</td>\n",
       "      <td>1056019</td>\n",
       "      <td>replicate 3: Low O2</td>\n",
       "    </tr>\n",
       "    <tr>\n",
       "      <th>468</th>\n",
       "      <td>Bacteria</td>\n",
       "      <td>Proteobacteria</td>\n",
       "      <td>Betaproteobacteria</td>\n",
       "      <td>Methylophilales</td>\n",
       "      <td>Methylophilaceae</td>\n",
       "      <td>Methylophilus</td>\n",
       "      <td>0.000997</td>\n",
       "      <td>4_LOW4</td>\n",
       "      <td>Low</td>\n",
       "      <td>4</td>\n",
       "      <td>4</td>\n",
       "      <td>1056022</td>\n",
       "      <td>replicate 4: Low O2</td>\n",
       "    </tr>\n",
       "    <tr>\n",
       "      <th>577</th>\n",
       "      <td>Bacteria</td>\n",
       "      <td>Proteobacteria</td>\n",
       "      <td>Betaproteobacteria</td>\n",
       "      <td>Methylophilales</td>\n",
       "      <td>Methylophilaceae</td>\n",
       "      <td>Methylophilus</td>\n",
       "      <td>0.001864</td>\n",
       "      <td>7_HOW4</td>\n",
       "      <td>High</td>\n",
       "      <td>1</td>\n",
       "      <td>4</td>\n",
       "      <td>1056025</td>\n",
       "      <td>replicate 1: High O2</td>\n",
       "    </tr>\n",
       "  </tbody>\n",
       "</table>\n",
       "</div>"
      ],
      "text/plain": [
       "      Kingdom          Phylum               Class            Order  \\\n",
       "493  Bacteria  Proteobacteria  Betaproteobacteria  Methylophilales   \n",
       "515  Bacteria  Proteobacteria  Betaproteobacteria  Methylophilales   \n",
       "499  Bacteria  Proteobacteria  Betaproteobacteria  Methylophilales   \n",
       "468  Bacteria  Proteobacteria  Betaproteobacteria  Methylophilales   \n",
       "577  Bacteria  Proteobacteria  Betaproteobacteria  Methylophilales   \n",
       "\n",
       "               Family          Genus  abundance      ID   oxy  rep  week  \\\n",
       "493  Methylophilaceae  Methylophilus   0.001669  1_LOW4   Low    1     4   \n",
       "515  Methylophilaceae  Methylophilus   0.001356  2_LOW4   Low    2     4   \n",
       "499  Methylophilaceae  Methylophilus   0.001524  3_LOW4   Low    3     4   \n",
       "468  Methylophilaceae  Methylophilus   0.000997  4_LOW4   Low    4     4   \n",
       "577  Methylophilaceae  Methylophilus   0.001864  7_HOW4  High    1     4   \n",
       "\n",
       "     project           sample_name  \n",
       "493  1056013   replicate 1: Low O2  \n",
       "515  1056016   replicate 2: Low O2  \n",
       "499  1056019   replicate 3: Low O2  \n",
       "468  1056022   replicate 4: Low O2  \n",
       "577  1056025  replicate 1: High O2  "
      ]
     },
     "execution_count": 19,
     "metadata": {},
     "output_type": "execute_result"
    }
   ],
   "source": [
    "# Should have only 1 row per Id now. \n",
    "data_reduced[data_reduced['Genus']=='Methylophilus'].head()"
   ]
  },
  {
   "cell_type": "code",
   "execution_count": 20,
   "metadata": {
    "collapsed": false,
    "scrolled": true
   },
   "outputs": [
    {
     "data": {
      "text/plain": [
       "{('High', 1): 'elviz_binned--HighO2_rep1.xlsx',\n",
       " ('High', 2): 'elviz_binned--HighO2_rep2.xlsx',\n",
       " ('High', 3): 'elviz_binned--HighO2_rep3.xlsx',\n",
       " ('High', 4): 'elviz_binned--HighO2_rep4.xlsx',\n",
       " ('Low', 1): 'elviz_binned--LowO2_rep1.xlsx',\n",
       " ('Low', 2): 'elviz_binned--LowO2_rep2.xlsx',\n",
       " ('Low', 3): 'elviz_binned--LowO2_rep3.xlsx',\n",
       " ('Low', 4): 'elviz_binned--LowO2_rep4.xlsx'}"
      ]
     },
     "execution_count": 20,
     "metadata": {},
     "output_type": "execute_result"
    }
   ],
   "source": [
    "from abundance_utils import prepare_excel_dictionary\n",
    "  \n",
    "prepare_excel_dictionary(dataframe = data_reduced)"
   ]
  },
  {
   "cell_type": "code",
   "execution_count": 21,
   "metadata": {
    "collapsed": false
   },
   "outputs": [],
   "source": [
    "#from abundance_utils import prepare_excel_writer_dict \n",
    "#prepare_excel_writer_dict(dataframe = data_reduced)\n",
    "\n",
    "#from abundance_utils import write_excel\n",
    "  \n",
    "#write_excel(dataframe = data_reduced)"
   ]
  },
  {
   "cell_type": "code",
   "execution_count": 22,
   "metadata": {
    "collapsed": false
   },
   "outputs": [],
   "source": [
    "if write_excel:\n",
    "    from abundance_utils import write_excel_files\n",
    "    write_excel_files(dataframe = data_reduced, filepath = './results')"
   ]
  },
  {
   "cell_type": "code",
   "execution_count": 23,
   "metadata": {
    "collapsed": false
   },
   "outputs": [
    {
     "data": {
      "text/plain": [
       "642    4\n",
       "494    4\n",
       "198    4\n",
       "650    4\n",
       "478    4\n",
       "Name: week, dtype: int64"
      ]
     },
     "execution_count": 23,
     "metadata": {},
     "output_type": "execute_result"
    }
   ],
   "source": [
    "data_reduced.week.head()"
   ]
  },
  {
   "cell_type": "code",
   "execution_count": 24,
   "metadata": {
    "collapsed": false
   },
   "outputs": [
    {
     "data": {
      "text/html": [
       "<div>\n",
       "<table border=\"1\" class=\"dataframe\">\n",
       "  <thead>\n",
       "    <tr style=\"text-align: right;\">\n",
       "      <th></th>\n",
       "      <th>Kingdom</th>\n",
       "      <th>Phylum</th>\n",
       "      <th>Class</th>\n",
       "      <th>Order</th>\n",
       "      <th>Family</th>\n",
       "      <th>Genus</th>\n",
       "      <th>abundance</th>\n",
       "      <th>ID</th>\n",
       "      <th>oxy</th>\n",
       "      <th>rep</th>\n",
       "      <th>week</th>\n",
       "      <th>project</th>\n",
       "      <th>sample_name</th>\n",
       "    </tr>\n",
       "  </thead>\n",
       "  <tbody>\n",
       "    <tr>\n",
       "      <th>642</th>\n",
       "      <td>Bacteria</td>\n",
       "      <td>Proteobacteria</td>\n",
       "      <td>Gammaproteobacteria</td>\n",
       "      <td>Methylococcales</td>\n",
       "      <td>Methylococcaceae</td>\n",
       "      <td>Methylobacter</td>\n",
       "      <td>0.275835</td>\n",
       "      <td>1_LOW4</td>\n",
       "      <td>Low</td>\n",
       "      <td>1</td>\n",
       "      <td>4</td>\n",
       "      <td>1056013</td>\n",
       "      <td>replicate 1: Low O2</td>\n",
       "    </tr>\n",
       "    <tr>\n",
       "      <th>494</th>\n",
       "      <td>Bacteria</td>\n",
       "      <td>Proteobacteria</td>\n",
       "      <td>Betaproteobacteria</td>\n",
       "      <td>Methylophilales</td>\n",
       "      <td>Methylophilaceae</td>\n",
       "      <td>Methylotenera</td>\n",
       "      <td>0.266572</td>\n",
       "      <td>1_LOW4</td>\n",
       "      <td>Low</td>\n",
       "      <td>1</td>\n",
       "      <td>4</td>\n",
       "      <td>1056013</td>\n",
       "      <td>replicate 1: Low O2</td>\n",
       "    </tr>\n",
       "    <tr>\n",
       "      <th>198</th>\n",
       "      <td>Bacteria</td>\n",
       "      <td>Bacteroidetes</td>\n",
       "      <td>Flavobacteriia</td>\n",
       "      <td>Flavobacteriales</td>\n",
       "      <td>Flavobacteriaceae</td>\n",
       "      <td>Flavobacterium</td>\n",
       "      <td>0.066042</td>\n",
       "      <td>1_LOW4</td>\n",
       "      <td>Low</td>\n",
       "      <td>1</td>\n",
       "      <td>4</td>\n",
       "      <td>1056013</td>\n",
       "      <td>replicate 1: Low O2</td>\n",
       "    </tr>\n",
       "    <tr>\n",
       "      <th>650</th>\n",
       "      <td>Bacteria</td>\n",
       "      <td>Proteobacteria</td>\n",
       "      <td>Gammaproteobacteria</td>\n",
       "      <td>Methylococcales</td>\n",
       "      <td>Methylococcaceae</td>\n",
       "      <td>other</td>\n",
       "      <td>0.057879</td>\n",
       "      <td>1_LOW4</td>\n",
       "      <td>Low</td>\n",
       "      <td>1</td>\n",
       "      <td>4</td>\n",
       "      <td>1056013</td>\n",
       "      <td>replicate 1: Low O2</td>\n",
       "    </tr>\n",
       "    <tr>\n",
       "      <th>478</th>\n",
       "      <td>Bacteria</td>\n",
       "      <td>Proteobacteria</td>\n",
       "      <td>Betaproteobacteria</td>\n",
       "      <td>Burkholderiales</td>\n",
       "      <td>Comamonadaceae</td>\n",
       "      <td>other</td>\n",
       "      <td>0.036590</td>\n",
       "      <td>1_LOW4</td>\n",
       "      <td>Low</td>\n",
       "      <td>1</td>\n",
       "      <td>4</td>\n",
       "      <td>1056013</td>\n",
       "      <td>replicate 1: Low O2</td>\n",
       "    </tr>\n",
       "  </tbody>\n",
       "</table>\n",
       "</div>"
      ],
      "text/plain": [
       "      Kingdom          Phylum                Class             Order  \\\n",
       "642  Bacteria  Proteobacteria  Gammaproteobacteria   Methylococcales   \n",
       "494  Bacteria  Proteobacteria   Betaproteobacteria   Methylophilales   \n",
       "198  Bacteria   Bacteroidetes       Flavobacteriia  Flavobacteriales   \n",
       "650  Bacteria  Proteobacteria  Gammaproteobacteria   Methylococcales   \n",
       "478  Bacteria  Proteobacteria   Betaproteobacteria   Burkholderiales   \n",
       "\n",
       "                Family           Genus  abundance      ID  oxy  rep  week  \\\n",
       "642   Methylococcaceae   Methylobacter   0.275835  1_LOW4  Low    1     4   \n",
       "494   Methylophilaceae   Methylotenera   0.266572  1_LOW4  Low    1     4   \n",
       "198  Flavobacteriaceae  Flavobacterium   0.066042  1_LOW4  Low    1     4   \n",
       "650   Methylococcaceae           other   0.057879  1_LOW4  Low    1     4   \n",
       "478     Comamonadaceae           other   0.036590  1_LOW4  Low    1     4   \n",
       "\n",
       "     project          sample_name  \n",
       "642  1056013  replicate 1: Low O2  \n",
       "494  1056013  replicate 1: Low O2  \n",
       "198  1056013  replicate 1: Low O2  \n",
       "650  1056013  replicate 1: Low O2  \n",
       "478  1056013  replicate 1: Low O2  "
      ]
     },
     "execution_count": 24,
     "metadata": {},
     "output_type": "execute_result"
    }
   ],
   "source": [
    "data_reduced.head()"
   ]
  },
  {
   "cell_type": "code",
   "execution_count": 25,
   "metadata": {
    "collapsed": false
   },
   "outputs": [
    {
     "name": "stdout",
     "output_type": "stream",
     "text": [
      "      Kingdom          Phylum                Class             Order  \\\n",
      "642  Bacteria  Proteobacteria  Gammaproteobacteria   Methylococcales   \n",
      "494  Bacteria  Proteobacteria   Betaproteobacteria   Methylophilales   \n",
      "198  Bacteria   Bacteroidetes       Flavobacteriia  Flavobacteriales   \n",
      "650  Bacteria  Proteobacteria  Gammaproteobacteria   Methylococcales   \n",
      "478  Bacteria  Proteobacteria   Betaproteobacteria   Burkholderiales   \n",
      "\n",
      "                Family           Genus  abundance      ID  oxy  rep  week  \\\n",
      "642   Methylococcaceae   Methylobacter   0.275835  1_LOW4  Low    1     4   \n",
      "494   Methylophilaceae   Methylotenera   0.266572  1_LOW4  Low    1     4   \n",
      "198  Flavobacteriaceae  Flavobacterium   0.066042  1_LOW4  Low    1     4   \n",
      "650   Methylococcaceae           other   0.057879  1_LOW4  Low    1     4   \n",
      "478     Comamonadaceae           other   0.036590  1_LOW4  Low    1     4   \n",
      "\n",
      "     project          sample_name  \n",
      "642  1056013  replicate 1: Low O2  \n",
      "494  1056013  replicate 1: Low O2  \n",
      "198  1056013  replicate 1: Low O2  \n",
      "650  1056013  replicate 1: Low O2  \n",
      "478  1056013  replicate 1: Low O2  \n",
      "Index([u'Kingdom', u'Phylum', u'Class', u'Order', u'Family', u'Genus',\n",
      "       u'abundance', u'ID', u'oxy', u'rep', u'week', u'project',\n",
      "       u'sample_name'],\n",
      "      dtype='object')\n"
     ]
    },
    {
     "data": {
      "text/html": [
       "<div>\n",
       "<table border=\"1\" class=\"dataframe\">\n",
       "  <thead>\n",
       "    <tr style=\"text-align: right;\">\n",
       "      <th></th>\n",
       "      <th>ID</th>\n",
       "      <th>rep</th>\n",
       "      <th>week</th>\n",
       "      <th>oxy</th>\n",
       "      <th>Genus</th>\n",
       "      <th>abundance</th>\n",
       "      <th>project</th>\n",
       "    </tr>\n",
       "  </thead>\n",
       "  <tbody>\n",
       "    <tr>\n",
       "      <th>42795</th>\n",
       "      <td>76_LOW10</td>\n",
       "      <td>4</td>\n",
       "      <td>10</td>\n",
       "      <td>Low</td>\n",
       "      <td>Methylobacter</td>\n",
       "      <td>0.774854</td>\n",
       "      <td>1056166</td>\n",
       "    </tr>\n",
       "    <tr>\n",
       "      <th>45854</th>\n",
       "      <td>82_HOW10</td>\n",
       "      <td>4</td>\n",
       "      <td>10</td>\n",
       "      <td>High</td>\n",
       "      <td>Methylobacter</td>\n",
       "      <td>0.770596</td>\n",
       "      <td>1056178</td>\n",
       "    </tr>\n",
       "    <tr>\n",
       "      <th>2432</th>\n",
       "      <td>106_HOW12</td>\n",
       "      <td>4</td>\n",
       "      <td>12</td>\n",
       "      <td>High</td>\n",
       "      <td>Methylobacter</td>\n",
       "      <td>0.759018</td>\n",
       "      <td>1056226</td>\n",
       "    </tr>\n",
       "    <tr>\n",
       "      <th>26673</th>\n",
       "      <td>40_LOW7</td>\n",
       "      <td>4</td>\n",
       "      <td>7</td>\n",
       "      <td>Low</td>\n",
       "      <td>Methylobacter</td>\n",
       "      <td>0.757622</td>\n",
       "      <td>1056094</td>\n",
       "    </tr>\n",
       "    <tr>\n",
       "      <th>50889</th>\n",
       "      <td>94_HOW11</td>\n",
       "      <td>4</td>\n",
       "      <td>11</td>\n",
       "      <td>High</td>\n",
       "      <td>Methylobacter</td>\n",
       "      <td>0.745955</td>\n",
       "      <td>1056202</td>\n",
       "    </tr>\n",
       "  </tbody>\n",
       "</table>\n",
       "</div>"
      ],
      "text/plain": [
       "              ID  rep  week   oxy          Genus  abundance  project\n",
       "42795   76_LOW10    4    10   Low  Methylobacter   0.774854  1056166\n",
       "45854   82_HOW10    4    10  High  Methylobacter   0.770596  1056178\n",
       "2432   106_HOW12    4    12  High  Methylobacter   0.759018  1056226\n",
       "26673    40_LOW7    4     7   Low  Methylobacter   0.757622  1056094\n",
       "50889   94_HOW11    4    11  High  Methylobacter   0.745955  1056202"
      ]
     },
     "execution_count": 25,
     "metadata": {},
     "output_type": "execute_result"
    }
   ],
   "source": [
    "from abundance_utils import reduce_to_genus_only\n",
    "data_reduced_genus = reduce_to_genus_only(data_reduced)\n",
    "data_reduced_genus.head()"
   ]
  },
  {
   "cell_type": "raw",
   "metadata": {
    "collapsed": false
   },
   "source": [
    "# Further reduce data so only Genus is preserved. \n",
    "# drop the reads per kilobase or we will get more than 1 row for other.\n",
    "data_reduced_genus = data_reduced.copy()\n",
    "#del data_reduced_genus['reads per kilobase']\n",
    "print data_reduced_genus.head()\n",
    "data_reduced_genus = data_reduced_genus.groupby(['ID','rep','week','oxy','Genus']).sum().reset_index()\n",
    "data_reduced_genus.sort_values(by=['rep', 'abundance'], inplace=True, ascending=False)\n",
    "data_reduced_genus.tail(8)"
   ]
  },
  {
   "cell_type": "code",
   "execution_count": 26,
   "metadata": {
    "collapsed": false
   },
   "outputs": [
    {
     "name": "stdout",
     "output_type": "stream",
     "text": [
      "       rep  week         ID\n",
      "42795    4    10   76_LOW10\n",
      "45854    4    10   82_HOW10\n",
      "2432     4    12  106_HOW12\n",
      "26673    4     7    40_LOW7\n",
      "50889    4    11   94_HOW11\n",
      "318      4    12  100_LOW12\n",
      "5131     4    13  112_LOW13\n",
      "9575     4    14  124_LOW14\n",
      "48111    4    11   88_LOW11\n",
      "32409    4     8    52_LOW8\n",
      "7268     4    13  118_HOW13\n",
      "20097    4     6    28_LOW6\n",
      "29215    4     7    46_HOW7\n",
      "34997    4     8    58_HOW8\n",
      "37446    4     9    64_LOW9\n",
      "11786    4    14  130_HOW14\n",
      "23361    4     6    34_HOW6\n",
      "3539     4     4    10_HOW4\n",
      "40417    4     9    70_HOW9\n",
      "14258    4     5    16_LOW5\n",
      "30452    4     4     4_LOW4\n",
      "17501    4     5    22_HOW5\n",
      "36833    3     9    63_LOW9\n",
      "31758    3     8    51_LOW8\n",
      "42235    3    10   75_LOW10\n",
      "47588    3    11   87_LOW11\n",
      "4556     3    13  111_LOW13\n",
      "8992     3    14  123_LOW14\n",
      "45253    3    10   81_HOW10\n",
      "25372    3     7    39_LOW7\n",
      "...    ...   ...        ...\n",
      "8372     2    14  122_LOW14\n",
      "1419     2    12  104_HOW12\n",
      "49845    2    11   92_HOW11\n",
      "36184    2     9    62_LOW9\n",
      "13051    2     5    14_LOW5\n",
      "48696    2     4     8_HOW4\n",
      "20785    2     4     2_LOW4\n",
      "16257    2     5    20_HOW5\n",
      "18148    1     6    25_LOW6\n",
      "38131    1     9    67_HOW9\n",
      "24022    1     7    37_LOW7\n",
      "29830    1     8    49_LOW8\n",
      "46424    1    11   85_LOW11\n",
      "41082    1    10   73_LOW10\n",
      "49255    1    11   91_HOW11\n",
      "2945     1    13  109_LOW13\n",
      "51413    1    12   97_LOW12\n",
      "10132    1    14  127_HOW14\n",
      "7813     1    14  121_LOW14\n",
      "5681     1    13  115_HOW13\n",
      "12421    1     5    13_LOW5\n",
      "35555    1     9    61_LOW9\n",
      "867      1    12  103_HOW12\n",
      "43978    1     4     7_HOW4\n",
      "21493    1     6    31_HOW6\n",
      "14935    1     5    19_HOW5\n",
      "27341    1     7    43_HOW7\n",
      "15640    1     4     1_LOW4\n",
      "43551    1    10   79_HOW10\n",
      "33482    1     8    55_HOW8\n",
      "\n",
      "[88 rows x 3 columns]\n"
     ]
    }
   ],
   "source": [
    "print data_reduced_genus[['rep','week', 'ID']].drop_duplicates()"
   ]
  },
  {
   "cell_type": "code",
   "execution_count": 27,
   "metadata": {
    "collapsed": false
   },
   "outputs": [
    {
     "data": {
      "text/html": [
       "<div>\n",
       "<table border=\"1\" class=\"dataframe\">\n",
       "  <thead>\n",
       "    <tr style=\"text-align: right;\">\n",
       "      <th></th>\n",
       "      <th>ID</th>\n",
       "      <th>rep</th>\n",
       "      <th>week</th>\n",
       "      <th>oxy</th>\n",
       "      <th>Genus</th>\n",
       "      <th>abundance</th>\n",
       "      <th>project</th>\n",
       "    </tr>\n",
       "  </thead>\n",
       "  <tbody>\n",
       "    <tr>\n",
       "      <th>42795</th>\n",
       "      <td>76_LOW10</td>\n",
       "      <td>4</td>\n",
       "      <td>10</td>\n",
       "      <td>Low</td>\n",
       "      <td>Methylobacter</td>\n",
       "      <td>0.774854</td>\n",
       "      <td>1056166</td>\n",
       "    </tr>\n",
       "    <tr>\n",
       "      <th>45854</th>\n",
       "      <td>82_HOW10</td>\n",
       "      <td>4</td>\n",
       "      <td>10</td>\n",
       "      <td>High</td>\n",
       "      <td>Methylobacter</td>\n",
       "      <td>0.770596</td>\n",
       "      <td>1056178</td>\n",
       "    </tr>\n",
       "    <tr>\n",
       "      <th>2432</th>\n",
       "      <td>106_HOW12</td>\n",
       "      <td>4</td>\n",
       "      <td>12</td>\n",
       "      <td>High</td>\n",
       "      <td>Methylobacter</td>\n",
       "      <td>0.759018</td>\n",
       "      <td>1056226</td>\n",
       "    </tr>\n",
       "  </tbody>\n",
       "</table>\n",
       "</div>"
      ],
      "text/plain": [
       "              ID  rep  week   oxy          Genus  abundance  project\n",
       "42795   76_LOW10    4    10   Low  Methylobacter   0.774854  1056166\n",
       "45854   82_HOW10    4    10  High  Methylobacter   0.770596  1056178\n",
       "2432   106_HOW12    4    12  High  Methylobacter   0.759018  1056226"
      ]
     },
     "execution_count": 27,
     "metadata": {},
     "output_type": "execute_result"
    }
   ],
   "source": [
    "data_reduced_genus.head(3)"
   ]
  },
  {
   "cell_type": "code",
   "execution_count": 28,
   "metadata": {
    "collapsed": false
   },
   "outputs": [],
   "source": [
    "by_repl_and_week_Genus = data_reduced_genus.groupby(['rep','week','oxy'])#.to_excel(writer,sheet_name='Sheet1')\n",
    "# check that replicates and week are in the right order: \n",
    "#for tup, d in by_repl_and_week_Genus:\n",
    "#    print tup"
   ]
  },
  {
   "cell_type": "code",
   "execution_count": 29,
   "metadata": {
    "collapsed": false
   },
   "outputs": [],
   "source": [
    "if write_excel:\n",
    "    write_excel_files(dataframe= data_reduced_genus, \n",
    "             filepath = './results', \n",
    "             by_genus=True)"
   ]
  },
  {
   "cell_type": "markdown",
   "metadata": {},
   "source": [
    "# NOT DONE TIDYING UP STUFF BELOW\n",
    "\n",
    "And moving it to modules."
   ]
  },
  {
   "cell_type": "code",
   "execution_count": null,
   "metadata": {
    "collapsed": false
   },
   "outputs": [],
   "source": [
    "# Demo of simple plot.  Trim rows with abundance some percent.  Plot only one week/oxygen combo. \n",
    "def plot_by_abundance(data, abundance):\n",
    "    d_plot = data[data['abundance'] > abundance]\n",
    "    d_plot = pd.pivot_table(d_plot, values='abundance', index=['week'], columns='Genus') #.reset_index()\n",
    "    print d_plot.head()\n",
    "    d_plot.plot(kind='bar',stacked=True)\n",
    "    sns.despine()\n",
    "    #plt.legend(loc=2)\n",
    "plot_by_abundance(data=data_reduced_genus[\n",
    "        np.logical_and(\n",
    "            data_reduced_genus['rep']==1, \n",
    "            data_reduced_genus['oxy']==\"Low\")], abundance=0.02)"
   ]
  },
  {
   "cell_type": "code",
   "execution_count": null,
   "metadata": {
    "collapsed": true
   },
   "outputs": [],
   "source": [
    "# Begin to generalize.  Want to be able to subset by oxygen and replicate. \n",
    "def subset_data_by_rep_and_oxy(data, rep, oxy):\n",
    "    return data[\n",
    "        np.logical_and(\n",
    "            data_reduced_genus['rep']==rep, \n",
    "            data_reduced_genus['oxy']==oxy)]"
   ]
  },
  {
   "cell_type": "code",
   "execution_count": null,
   "metadata": {
    "collapsed": false
   },
   "outputs": [],
   "source": [
    "# Make an individual plot with the new subset_data_by_rep_and_oxy() function\n",
    "def plot_by_abundance(data, abundance):\n",
    "    d_plot = data[data['abundance'] > abundance]\n",
    "    d_plot = pd.pivot_table(d_plot, values='abundance', index=['week'], columns='Genus') #.reset_index()\n",
    "    #print d_plot.head()\n",
    "    d_plot.plot(kind='bar',stacked=True)\n",
    "    sns.despine()\n",
    "    #plt.legend(loc=2)\n",
    "plot_by_abundance(subset_data_by_rep_and_oxy(data= data_reduced_genus, rep=1, oxy='High'), abundance=0.02)"
   ]
  },
  {
   "cell_type": "code",
   "execution_count": null,
   "metadata": {
    "collapsed": false
   },
   "outputs": [],
   "source": [
    "# set up a figure with four subplots. \n",
    "fig, axs = plt.subplots(2, 4, figsize=(8, 6))  # ax belongs to fig. \n",
    "print fig\n",
    "print axs"
   ]
  },
  {
   "cell_type": "code",
   "execution_count": null,
   "metadata": {
    "collapsed": false
   },
   "outputs": [],
   "source": [
    "g = data_reduced_genus.groupby(['rep', 'oxy'])\n",
    "for t, dg in g:\n",
    "    print t #, dg\n",
    "    #print t[0]"
   ]
  },
  {
   "cell_type": "code",
   "execution_count": null,
   "metadata": {
    "collapsed": true
   },
   "outputs": [],
   "source": [
    "row_dict = {(1, 'High') : 2,\n",
    "                (1, 'Low')  : 1,\n",
    "                (2, 'High') : 2,\n",
    "                (2, 'Low')  : 1,\n",
    "                (3, 'High') : 2,\n",
    "                (3, 'Low')  : 1,\n",
    "                (4, 'High') : 2,\n",
    "                (4, 'Low')  : 1}"
   ]
  },
  {
   "cell_type": "code",
   "execution_count": null,
   "metadata": {
    "collapsed": false
   },
   "outputs": [],
   "source": [
    "print axs\n",
    "print \"\"\n",
    "axs[(1-1)][2-1]"
   ]
  },
  {
   "cell_type": "code",
   "execution_count": null,
   "metadata": {
    "collapsed": false
   },
   "outputs": [],
   "source": [
    "#axd = {1:axs[0], 2:axs[1], 3:axs[2], 4:axs[3]}\n",
    "title_list = ''\n",
    "\n",
    "for t, df in g:\n",
    "    #print t\n",
    "    #print 'plot row:', row_dict[t]\n",
    "    #print 'plot column:', t[0]\n",
    "    df.plot(kind='scatter', ax=axs[row_dict[t]-1][t[0]-1], x='week', y='abundance', title='meow')\n",
    "\n",
    "sns.despine()  # Removes the boxes around the plots."
   ]
  },
  {
   "cell_type": "code",
   "execution_count": null,
   "metadata": {
    "collapsed": false
   },
   "outputs": [],
   "source": [
    "fig"
   ]
  },
  {
   "cell_type": "code",
   "execution_count": null,
   "metadata": {
    "collapsed": false
   },
   "outputs": [],
   "source": [
    "# set up a figure with four subplots. \n",
    "fig, axs = plt.subplots(2, 4, figsize=(12, 10))  # ax belongs to fig. \n",
    "#print fig\n",
    "#print axs\n",
    "\n",
    "# set up groupby \n",
    "\n",
    "d_plot = data_reduced_genus[data_reduced_genus['abundance'] > 0.05]\n",
    "g = d_plot.groupby(['rep', 'oxy'])\n",
    "\n",
    "#axd = {1:axs[0], 2:axs[1], 3:axs[2], 4:axs[3]}\n",
    "title_list = ''\n",
    "\n",
    "row_dict = {(1, 'High') : 2, (2, 'High') : 2, (3, 'High') : 2, (4, 'High') : 2,\n",
    "            (1, 'Low')  : 1, (2, 'Low')  : 1, (3, 'Low')  : 1, (4, 'Low')  : 1}\n",
    "\n",
    "for tup, df in g:\n",
    "    # cast the data\n",
    "    #print tup # tuple\n",
    "    data_pivoted = pd.pivot_table(df, values='abundance', \n",
    "                                        index=['week'],  # drops all the other columns. \n",
    "                                        columns='Genus') \n",
    "    #print data_pivoted.head()\n",
    "    #df.groupby('Kingdom', 'Phylum', 'Class', 'Order', 'Family', 'Genus', 'ID', 'oxy', 'rep')\n",
    "    #print axs[row_dict[tup]-1][tup[0]-1]\n",
    "    data_pivoted.plot(kind='bar', ax=axs[row_dict[tup]-1][tup[0]-1], stacked=True)  # don't specify x b/c there is only 1 index. \n"
   ]
  },
  {
   "cell_type": "code",
   "execution_count": null,
   "metadata": {
    "collapsed": true
   },
   "outputs": [],
   "source": [
    "# fig  # shows the figure."
   ]
  },
  {
   "cell_type": "code",
   "execution_count": null,
   "metadata": {
    "collapsed": false,
    "scrolled": true
   },
   "outputs": [],
   "source": [
    "## We can get the last one out, but we want all of them out and want them to have shared colors. \n",
    "# set up a figure with four subplots. \n",
    "fig, axs = plt.subplots(2, 4, figsize=(12, 10))  # ax belongs to fig. \n",
    "#print fig\n",
    "print axs\n",
    "\n",
    "# set up groupby \n",
    "\n",
    "d_plot = data_reduced_genus[data_reduced_genus['abundance'] > 0.05]\n",
    "g = d_plot.groupby(['rep', 'oxy'])\n",
    "\n",
    "#axd = {1:axs[0], 2:axs[1], 3:axs[2], 4:axs[3]}\n",
    "title_list = ''\n",
    "\n",
    "row_dict = {(1, 'High') : 2, (2, 'High') : 2, (3, 'High') : 2, (4, 'High') : 2,\n",
    "            (1, 'Low')  : 1, (2, 'Low')  : 1, (3, 'Low')  : 1, (4, 'Low')  : 1}\n",
    "\n",
    "for tup, df in g:\n",
    "    # cast the data\n",
    "    #print tup # tuple\n",
    "    data_pivoted = pd.pivot_table(df, values='abundance', \n",
    "                                        index=['week'],  # drops all the other columns. \n",
    "                                        columns='Genus') \n",
    "    #print data_pivoted.head()\n",
    "    #df.groupby('Kingdom', 'Phylum', 'Class', 'Order', 'Family', 'Genus', 'ID', 'oxy', 'rep')\n",
    "    #print axs[row_dict[tup]-1][tup[0]-1]\n",
    "    data_pivoted.plot(kind='bar', ax=axs[row_dict[tup]-1][tup[0]-1], stacked=True)  # don't specify x b/c there is only 1 index. \n",
    "\n",
    "plt.legend(loc = 'lower center', bbox_to_anchor = (0,-0.1,1,1),\n",
    "            bbox_transform = plt.gcf().transFigure )            \n",
    "#legend = plt.legend(loc='upper center', shadow=True, fontsize='x-large')   \n",
    "#fig.legend(bbox_to_anchor=(1.05, 0), loc='lower left', borderaxespad=0.)\n",
    "#         # it will place the legend on the outer right-hand side of the last axes    "
   ]
  },
  {
   "cell_type": "code",
   "execution_count": null,
   "metadata": {
    "collapsed": false
   },
   "outputs": [],
   "source": [
    "import itertools\n",
    "methods=['method 1', 'method2', 'method 3', 'method 4']\n",
    "times = range(0, 100, 10)\n",
    "data = pd.DataFrame(list(itertools.product(methods, times, times)))\n",
    "data.columns = ['method', 'dtsi','rtsi']\n",
    "data['nw_score'] = np.random.sample(data.shape[0])\n",
    "print data.head()"
   ]
  },
  {
   "cell_type": "code",
   "execution_count": null,
   "metadata": {
    "collapsed": false
   },
   "outputs": [],
   "source": [
    "# preview of pivot that happens:  (note use of pivot_table, not pivot.  Aggregating across duplicate rows somehow.)\n",
    "data.pivot_table(index=\"dtsi\", columns='rtsi', values='nw_score').head()"
   ]
  },
  {
   "cell_type": "code",
   "execution_count": null,
   "metadata": {
    "collapsed": false
   },
   "outputs": [],
   "source": [
    "data['dtsi'].unique()  # x-values\n",
    "# rtsi are y-values\n",
    "# cast "
   ]
  },
  {
   "cell_type": "code",
   "execution_count": null,
   "metadata": {
    "collapsed": false
   },
   "outputs": [],
   "source": [
    "data_reduced_genus.head()"
   ]
  },
  {
   "cell_type": "code",
   "execution_count": null,
   "metadata": {
    "collapsed": false
   },
   "outputs": [],
   "source": [
    "# Make a heat map.  Then we aren't confused by colors, and overwhelmed by the # of labels. \n",
    "d_plot = data_reduced_genus[data_reduced_genus['abundance'] > 0.05]\n",
    "\n",
    "def facet_heatmap(data, color, **kws):\n",
    "    data = data.pivot(index='Genus', columns='week', values='abundance')\n",
    "    sns.heatmap(data, cmap='Blues', **kws)  # <-- Pass kwargs to heatmap\n",
    "\n",
    "with sns.plotting_context(font_scale=5.5):\n",
    "    g = sns.FacetGrid(d_plot[d_plot['oxy']=='Low'], \n",
    "                      col=\"rep\", size=3, aspect=1)\n",
    "\n",
    "cbar_ax = g.fig.add_axes([.92, .3, .02, .4])  # <-- Create a colorbar axes\n",
    "\n",
    "g = g.map_dataframe(facet_heatmap,\n",
    "                    cbar_ax=cbar_ax,\n",
    "                    vmin=0, vmax=1)  # <-- Specify the colorbar axes and limits\n",
    "\n",
    "g.set_titles(col_template=\"{col_name}\", fontweight='bold', fontsize=18)\n",
    "g.fig.subplots_adjust(right=.9)  # <-- Add space so the colorbar doesn't overlap the plot"
   ]
  },
  {
   "cell_type": "code",
   "execution_count": null,
   "metadata": {
    "collapsed": false
   },
   "outputs": [],
   "source": [
    "def filter_by_abundance(data, column, high, low):\n",
    "    '''Return only rows where genera have one value of abundance in range(low, high)'''\n",
    "    species_to_keep = data[(data[column] <= high) & (data[column] >= low)]['Genus'].unique()\n",
    "    print species_to_keep[0:5]# \n",
    "    return data[data['Genus'].isin(species_to_keep)]\n",
    "    #return data[data['Genus'] in species_to_keep]\n",
    "\n",
    "filter_by_abundance(data=data_reduced_genus, column='abundance', high=1, low=0.5).head()"
   ]
  },
  {
   "cell_type": "code",
   "execution_count": null,
   "metadata": {
    "collapsed": false
   },
   "outputs": [],
   "source": [
    "# Make a heat map.  Then we aren't confused by colors, and overwhelmed by the # of labels. \n",
    "d_plot = filter_by_abundance(data=data_reduced_genus, column='abundance', high=.8, low=0.1)\n",
    "\n",
    "def facet_heatmap(data, color, **kws):\n",
    "    data = data.pivot(index='Genus', columns='week', values='abundance')\n",
    "    sns.heatmap(data, cmap=\"YlGnBu\", **kws)  # <-- Pass kwargs to heatmap  cmap used to be 'Blue'\n",
    "\n",
    "with sns.plotting_context(font_scale=7):\n",
    "    g = sns.FacetGrid(d_plot[d_plot['oxy']=='Low'], \n",
    "                      col=\"rep\", size=3, aspect=1)\n",
    "\n",
    "cbar_ax = g.fig.add_axes([.92, .3, .02, .4])  # <-- Create a colorbar axes\n",
    "\n",
    "g = g.map_dataframe(facet_heatmap,\n",
    "                    cbar_ax=cbar_ax,\n",
    "                    vmin=0, vmax=max(d_plot.abundance))  # <-- Specify the colorbar axes and limits\n",
    "\n",
    "g.set_titles(col_template=\"{col_name}\", fontweight='bold', fontsize=18)\n",
    "g.fig.subplots_adjust(right=.9)  # <-- Add space so the colorbar doesn't overlap the plot"
   ]
  },
  {
   "cell_type": "code",
   "execution_count": null,
   "metadata": {
    "collapsed": false
   },
   "outputs": [],
   "source": [
    "def plot_heatmap(data, high, low, oxy, rep): \n",
    "    # get rid of oxygen levels and replicates if specified.\n",
    "    if oxy is not 'all':\n",
    "        print \"keep only {} oxygen samples\".format(oxy)\n",
    "        data = data[data['oxy']==oxy]\n",
    "    if rep is not 'all':\n",
    "        print \"keep only replicate levels:\", rep\n",
    "        data = data[data['rep'].isin(rep)]        \n",
    "    data = filter_by_abundance(data=data, column='abundance', high=high, low=low)\n",
    "    data['facet_replicate'] = 'replicate ' + data['rep'].astype(str)\n",
    "    \n",
    "    # make height of the plot a function of the number of rows (Genera):\n",
    "    num_data_rows = len(data['Genus'].unique())\n",
    "    plot_size = 2 +  num_data_rows/7\n",
    "    plot_aspect = 2\n",
    "    if num_data_rows > 6:\n",
    "        plot_aspect = .85\n",
    "    if num_data_rows > 9:\n",
    "        plot_aspect = .65\n",
    "    if num_data_rows > 9:\n",
    "        plot_aspect = .6\n",
    "    \n",
    "    def facet_heatmap(data, color, **kws):\n",
    "        data = data.pivot(index='Genus', columns='week', values='abundance')\n",
    "        sns.heatmap(data, cmap=\"YlGnBu\", **kws)  # <-- Pass kwargs to heatmap  cmap used to be 'Blue'\n",
    "    \n",
    "    with sns.plotting_context(font_scale=7):\n",
    "        g = sns.FacetGrid(data, col='facet_replicate', size=plot_size, aspect=plot_aspect)\n",
    "    \n",
    "    cbar_ax = g.fig.add_axes([.92, .3, .02, .4])  # <-- Create a colorbar axes\n",
    "    \n",
    "    g = g.map_dataframe(facet_heatmap,\n",
    "                        cbar_ax=cbar_ax,\n",
    "                        vmin=0, vmax=max(data.abundance))  # <-- Specify the colorbar axes and limits\n",
    "    \n",
    "    g.set_titles(col_template=\"{col_name}\", fontweight='bold', fontsize=18)\n",
    "    g.set_axis_labels('week')\n",
    "    g.fig.subplots_adjust(right=.9)  # <-- Add space so the colorbar doesn't overlap the plot\n",
    "    \n",
    "    # add a supertitle. \n",
    "    plt.subplots_adjust(top=0.80)\n",
    "    supertitle = str(low) + ' < abundance < ' + str(high) + ', {} oxygen'.format(oxy) \n",
    "    g.fig.suptitle(supertitle, size=14)\n",
    "    \n",
    "    # write a filename and save.\n",
    "    plot_dir = './plots/'\n",
    "    filename = oxy + \"_oxygen--{0}_to_{1}_abundance\".format(low,high)\n",
    "    print 'filename:', filename\n",
    "    g.savefig(plot_dir + filename + '.pdf')\n",
    "\n",
    "# demo:\n",
    "plot_heatmap(data=data_reduced_genus, high=0.6, low = 0.5, oxy='High', rep='all')"
   ]
  },
  {
   "cell_type": "code",
   "execution_count": null,
   "metadata": {
    "collapsed": false
   },
   "outputs": [],
   "source": [
    "plot_heatmap(data=data_reduced_genus, high=1, low = 0.1, oxy='High', rep='all')"
   ]
  },
  {
   "cell_type": "code",
   "execution_count": null,
   "metadata": {
    "collapsed": false
   },
   "outputs": [],
   "source": [
    "plot_heatmap(data=data_reduced_genus, high=.5, low = 0.02, oxy='Low', rep='all')"
   ]
  },
  {
   "cell_type": "code",
   "execution_count": null,
   "metadata": {
    "collapsed": false
   },
   "outputs": [],
   "source": [
    "# Loop through the ranges we want. \n",
    "oxy_conditions = ['Low', 'High']\n",
    "range_pairs = [(0.01, 1), (0.05, 1), (0.1, 1), (0.5, 1)]\n",
    "for o in oxy_conditions:\n",
    "    for r in range_pairs:\n",
    "        #print \"oxygen:\", o\n",
    "        #print \"range:\", r\n",
    "        #print \"range (low):\", r[0]\n",
    "        plot_heatmap(data=data_reduced_genus, low =r[0], high=r[1], oxy=o, rep='all')"
   ]
  },
  {
   "cell_type": "code",
   "execution_count": null,
   "metadata": {
    "collapsed": false
   },
   "outputs": [],
   "source": [
    "# Loop through the ranges we want. \n",
    "oxy_conditions = ['Low', 'High']\n",
    "max_abundance = 0.6\n",
    "range_pairs = [(0.01, max_abundance), (0.05, max_abundance), (0.1, max_abundance), (0.5, max_abundance)]\n",
    "for o in oxy_conditions:\n",
    "    for r in range_pairs:\n",
    "        #print \"oxygen:\", o\n",
    "        #print \"range:\", r\n",
    "        #print \"range (low):\", r[0]\n",
    "        plot_heatmap(data=data_reduced_genus, low =r[0], high=r[1], oxy=o, rep='all')"
   ]
  },
  {
   "cell_type": "raw",
   "metadata": {
    "collapsed": false
   },
   "source": [
    "# INC: map custom colors on.\n",
    "data_files = ['a', 'b', 'c', 'd']\n",
    "# colors: http://colorbrewer2.org/?type=diverging&scheme=RdYlBu&n=9\n",
    "colorblind_safe_9 = [(215,48,39 ), # red\n",
    "                    (244,109,67 ), # orange\n",
    "                    (253,174,97 ), # light orange\n",
    "                    (254,224,144), # orange-yellow\n",
    "                    (255,255,191), # yellow \n",
    "                    (224,243,248), # very light blue\n",
    "                    (171,217,233), # lighter blue\n",
    "                    (116,173,209), # light blue\n",
    "                    (69,117,180 )] # blue\n",
    "print colorblind_safe_9\n",
    "#colors = dict(zip(data_files, mpl_colors))\n",
    "#print colors"
   ]
  },
  {
   "cell_type": "code",
   "execution_count": null,
   "metadata": {
    "collapsed": true
   },
   "outputs": [],
   "source": []
  }
 ],
 "metadata": {
  "kernelspec": {
   "display_name": "Python 2",
   "language": "python",
   "name": "python2"
  },
  "language_info": {
   "codemirror_mode": {
    "name": "ipython",
    "version": 2
   },
   "file_extension": ".py",
   "mimetype": "text/x-python",
   "name": "python",
   "nbconvert_exporter": "python",
   "pygments_lexer": "ipython2",
   "version": "2.7.5"
  }
 },
 "nbformat": 4,
 "nbformat_minor": 0
}
