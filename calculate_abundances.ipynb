{
 "cells": [
  {
   "cell_type": "code",
   "execution_count": 1,
   "metadata": {
    "collapsed": true
   },
   "outputs": [],
   "source": [
    "import matplotlib\n",
    "\n",
    "matplotlib.use('TkAgg')\n",
    "import matplotlib.pyplot as plt"
   ]
  },
  {
   "cell_type": "code",
   "execution_count": 2,
   "metadata": {
    "collapsed": false
   },
   "outputs": [],
   "source": [
    "#import numpy as np\n",
    "import os\n",
    "import pandas as pd\n",
    "import re\n",
    "import seaborn as sns\n",
    "#import matplotlib.pyplot as plt\n",
    "%matplotlib inline"
   ]
  },
  {
   "cell_type": "code",
   "execution_count": 3,
   "metadata": {
    "collapsed": true
   },
   "outputs": [],
   "source": [
    "# Control whether to import the original data. \n",
    "import_original_data = True\n",
    "write_excel = True"
   ]
  },
  {
   "cell_type": "markdown",
   "metadata": {},
   "source": [
    "Mila:\n",
    "\n",
    "OK only four files needed to be corrected. I put them in your Meta4 folder under the name Elviz_Corrected\n",
    "\n",
    "The remaining four files indeed contained fewer contigs.\n",
    "\n",
    "Thanks!\n"
   ]
  },
  {
   "cell_type": "code",
   "execution_count": 4,
   "metadata": {
    "collapsed": false
   },
   "outputs": [
    {
     "name": "stdout",
     "output_type": "stream",
     "text": [
      "/Users/janet/.virtualenvs/meta4/bin/python3\n",
      "3.5.1 (v3.5.1:37a07cee5969, Dec  5 2015, 21:12:44) \n",
      "[GCC 4.2.1 (Apple Inc. build 5666) (dot 3)]\n"
     ]
    }
   ],
   "source": [
    "import sys\n",
    "print(sys.executable)\n",
    "print(sys.version)"
   ]
  },
  {
   "cell_type": "code",
   "execution_count": 5,
   "metadata": {
    "collapsed": false
   },
   "outputs": [
    {
     "name": "stdout",
     "output_type": "stream",
     "text": [
      "/Users/janet/elvizAnalysis\n"
     ]
    }
   ],
   "source": [
    "print(os.getcwd())"
   ]
  },
  {
   "cell_type": "code",
   "execution_count": 6,
   "metadata": {
    "collapsed": false
   },
   "outputs": [],
   "source": [
    "sns.set(style=\"whitegrid\")"
   ]
  },
  {
   "cell_type": "code",
   "execution_count": 7,
   "metadata": {
    "collapsed": false
   },
   "outputs": [],
   "source": [
    "# Import the csv that translates the 127_HOW14 type labels to weeks and replicates.\n",
    "\n",
    "from elviz_utils import IMPORT_METAINFO_TYPES, read_sample_info"
   ]
  },
  {
   "cell_type": "code",
   "execution_count": 8,
   "metadata": {
    "collapsed": false
   },
   "outputs": [
    {
     "data": {
      "text/html": [
       "<div>\n",
       "<table border=\"1\" class=\"dataframe\">\n",
       "  <thead>\n",
       "    <tr style=\"text-align: right;\">\n",
       "      <th></th>\n",
       "      <th>ID</th>\n",
       "      <th>oxy</th>\n",
       "      <th>rep</th>\n",
       "      <th>week</th>\n",
       "      <th>project</th>\n",
       "    </tr>\n",
       "  </thead>\n",
       "  <tbody>\n",
       "    <tr>\n",
       "      <th>0</th>\n",
       "      <td>1_LOW4</td>\n",
       "      <td>Low</td>\n",
       "      <td>1</td>\n",
       "      <td>4</td>\n",
       "      <td>1056013</td>\n",
       "    </tr>\n",
       "    <tr>\n",
       "      <th>1</th>\n",
       "      <td>13_LOW5</td>\n",
       "      <td>Low</td>\n",
       "      <td>1</td>\n",
       "      <td>5</td>\n",
       "      <td>1056037</td>\n",
       "    </tr>\n",
       "    <tr>\n",
       "      <th>2</th>\n",
       "      <td>25_LOW6</td>\n",
       "      <td>Low</td>\n",
       "      <td>1</td>\n",
       "      <td>6</td>\n",
       "      <td>1056061</td>\n",
       "    </tr>\n",
       "    <tr>\n",
       "      <th>3</th>\n",
       "      <td>37_LOW7</td>\n",
       "      <td>Low</td>\n",
       "      <td>1</td>\n",
       "      <td>7</td>\n",
       "      <td>1056085</td>\n",
       "    </tr>\n",
       "    <tr>\n",
       "      <th>4</th>\n",
       "      <td>49_LOW8</td>\n",
       "      <td>Low</td>\n",
       "      <td>1</td>\n",
       "      <td>8</td>\n",
       "      <td>1056109</td>\n",
       "    </tr>\n",
       "  </tbody>\n",
       "</table>\n",
       "</div>"
      ],
      "text/plain": [
       "        ID  oxy  rep  week  project\n",
       "0   1_LOW4  Low    1     4  1056013\n",
       "1  13_LOW5  Low    1     5  1056037\n",
       "2  25_LOW6  Low    1     6  1056061\n",
       "3  37_LOW7  Low    1     7  1056085\n",
       "4  49_LOW8  Low    1     8  1056109"
      ]
     },
     "execution_count": 8,
     "metadata": {},
     "output_type": "execute_result"
    }
   ],
   "source": [
    "sample_info = read_sample_info()\n",
    "\n",
    "sample_info.head()"
   ]
  },
  {
   "cell_type": "code",
   "execution_count": 9,
   "metadata": {
    "collapsed": false
   },
   "outputs": [],
   "source": [
    "from abundance_utils import read_and_reduce_elviz_csv\n",
    "\n",
    "#read_and_reduce_elviz_csv(\n",
    "#    filename = 'elviz-contigs-1056169.csv', \n",
    "#    filepath=filepath,\n",
    "#    sample_info = sample_info)"
   ]
  },
  {
   "cell_type": "code",
   "execution_count": 10,
   "metadata": {
    "collapsed": false
   },
   "outputs": [
    {
     "name": "stdout",
     "output_type": "stream",
     "text": [
      "['elviz-contigs-1056016.csv', 'elviz-contigs-1056019.csv', 'elviz-contigs-1056022.csv']\n"
     ]
    }
   ],
   "source": [
    "# import the raw or raw-ish data. \n",
    "if import_original_data:\n",
    "    filepath = './raw_data'\n",
    "    elviz_files = [f for f in os.listdir(filepath) if \".csv\" in f]\n",
    "    print(elviz_files[1:4])"
   ]
  },
  {
   "cell_type": "code",
   "execution_count": 11,
   "metadata": {
    "collapsed": false
   },
   "outputs": [],
   "source": [
    "#if not os.path.exists('./results'):\n",
    "#    os.makedirs('./results/')\n",
    "#if not os.path.exists('./plots'):\n",
    "#    os.makedirs('./plots/')\n",
    "\n",
    "from abundance_utils import make_directory\n",
    "\n",
    "make_directory(dirpath=\"./plots\")\n",
    "make_directory(dirpath='results')"
   ]
  },
  {
   "cell_type": "code",
   "execution_count": 12,
   "metadata": {
    "collapsed": false
   },
   "outputs": [],
   "source": [
    "from abundance_utils import read_and_reduce_all"
   ]
  },
  {
   "cell_type": "code",
   "execution_count": 13,
   "metadata": {
    "collapsed": true
   },
   "outputs": [],
   "source": [
    "from abundance_utils import project_number_from_filename"
   ]
  },
  {
   "cell_type": "code",
   "execution_count": 14,
   "metadata": {
    "collapsed": false
   },
   "outputs": [
    {
     "data": {
      "text/plain": [
       "1056013"
      ]
     },
     "execution_count": 14,
     "metadata": {},
     "output_type": "execute_result"
    }
   ],
   "source": [
    "project_number_from_filename(elviz_files[0])"
   ]
  },
  {
   "cell_type": "code",
   "execution_count": 15,
   "metadata": {
    "collapsed": false
   },
   "outputs": [
    {
     "name": "stdout",
     "output_type": "stream",
     "text": [
      "elviz-contigs-1056016.csv\n",
      "elviz-contigs-1056019.csv\n",
      "elviz-contigs-1056022.csv\n",
      "elviz-contigs-1056025.csv\n",
      "elviz-contigs-1056028.csv\n",
      "elviz-contigs-1056031.csv\n",
      "elviz-contigs-1056034.csv\n",
      "elviz-contigs-1056037.csv\n",
      "elviz-contigs-1056040.csv\n",
      "elviz-contigs-1056043.csv\n",
      "elviz-contigs-1056046.csv\n",
      "elviz-contigs-1056049.csv\n",
      "elviz-contigs-1056052.csv\n",
      "elviz-contigs-1056055.csv\n",
      "elviz-contigs-1056058.csv\n",
      "elviz-contigs-1056061.csv\n",
      "elviz-contigs-1056064.csv\n",
      "elviz-contigs-1056067.csv\n",
      "elviz-contigs-1056070.csv\n",
      "elviz-contigs-1056073.csv\n",
      "elviz-contigs-1056076.csv\n",
      "elviz-contigs-1056079.csv\n",
      "elviz-contigs-1056082.csv\n",
      "elviz-contigs-1056085.csv\n",
      "elviz-contigs-1056088.csv\n",
      "elviz-contigs-1056091.csv\n",
      "elviz-contigs-1056094.csv\n",
      "elviz-contigs-1056097.csv\n",
      "elviz-contigs-1056100.csv\n",
      "elviz-contigs-1056103.csv\n",
      "elviz-contigs-1056106.csv\n",
      "elviz-contigs-1056109.csv\n",
      "elviz-contigs-1056112.csv\n",
      "elviz-contigs-1056115.csv\n",
      "elviz-contigs-1056118.csv\n",
      "elviz-contigs-1056121.csv\n",
      "elviz-contigs-1056124.csv\n",
      "elviz-contigs-1056127.csv\n",
      "elviz-contigs-1056130.csv\n",
      "elviz-contigs-1056133.csv\n",
      "elviz-contigs-1056136.csv\n",
      "elviz-contigs-1056139.csv\n",
      "elviz-contigs-1056142.csv\n",
      "elviz-contigs-1056145.csv\n",
      "elviz-contigs-1056148.csv\n",
      "elviz-contigs-1056151.csv\n",
      "elviz-contigs-1056154.csv\n",
      "elviz-contigs-1056157.csv\n",
      "elviz-contigs-1056160.csv\n",
      "elviz-contigs-1056163.csv\n",
      "elviz-contigs-1056166.csv\n",
      "elviz-contigs-1056169.csv\n",
      "elviz-contigs-1056172.csv\n",
      "elviz-contigs-1056175.csv\n",
      "elviz-contigs-1056178.csv\n",
      "elviz-contigs-1056181.csv\n",
      "elviz-contigs-1056184.csv\n",
      "elviz-contigs-1056187.csv\n",
      "elviz-contigs-1056190.csv\n",
      "elviz-contigs-1056193.csv\n",
      "elviz-contigs-1056196.csv\n",
      "elviz-contigs-1056199.csv\n",
      "elviz-contigs-1056202.csv\n",
      "elviz-contigs-1056205.csv\n",
      "elviz-contigs-1056208.csv\n",
      "elviz-contigs-1056211.csv\n",
      "elviz-contigs-1056214.csv\n",
      "elviz-contigs-1056217.csv\n",
      "elviz-contigs-1056220.csv\n",
      "elviz-contigs-1056223.csv\n",
      "elviz-contigs-1056226.csv\n",
      "elviz-contigs-1056229.csv\n",
      "elviz-contigs-1056232.csv\n",
      "elviz-contigs-1056235.csv\n",
      "elviz-contigs-1056238.csv\n",
      "elviz-contigs-1056241.csv\n",
      "elviz-contigs-1056244.csv\n",
      "elviz-contigs-1056247.csv\n",
      "elviz-contigs-1056250.csv\n",
      "elviz-contigs-1056253.csv\n",
      "elviz-contigs-1056256.csv\n",
      "elviz-contigs-1056259.csv\n",
      "elviz-contigs-1056262.csv\n",
      "elviz-contigs-1056265.csv\n",
      "elviz-contigs-1056268.csv\n",
      "elviz-contigs-1056271.csv\n",
      "elviz-contigs-1056274.csv\n",
      "906570\n"
     ]
    },
    {
     "data": {
      "text/html": [
       "<div>\n",
       "<table border=\"1\" class=\"dataframe\">\n",
       "  <thead>\n",
       "    <tr style=\"text-align: right;\">\n",
       "      <th></th>\n",
       "      <th>Kingdom</th>\n",
       "      <th>Phylum</th>\n",
       "      <th>Class</th>\n",
       "      <th>Order</th>\n",
       "      <th>Family</th>\n",
       "      <th>Genus</th>\n",
       "      <th>Length</th>\n",
       "      <th>abundance</th>\n",
       "      <th>filepath</th>\n",
       "      <th>project</th>\n",
       "      <th>ID</th>\n",
       "      <th>oxy</th>\n",
       "      <th>rep</th>\n",
       "      <th>week</th>\n",
       "    </tr>\n",
       "  </thead>\n",
       "  <tbody>\n",
       "    <tr>\n",
       "      <th>0</th>\n",
       "      <td>Bacteria</td>\n",
       "      <td>Proteobacteria</td>\n",
       "      <td>Gammaproteobacteria</td>\n",
       "      <td>Methylococcales</td>\n",
       "      <td>Methylococcaceae</td>\n",
       "      <td>Methylobacter</td>\n",
       "      <td>9948861</td>\n",
       "      <td>0.228531</td>\n",
       "      <td>./raw_data/elviz-contigs-1056013.csv</td>\n",
       "      <td>1056013</td>\n",
       "      <td>1_LOW4</td>\n",
       "      <td>Low</td>\n",
       "      <td>1</td>\n",
       "      <td>4</td>\n",
       "    </tr>\n",
       "    <tr>\n",
       "      <th>1</th>\n",
       "      <td>Bacteria</td>\n",
       "      <td>Proteobacteria</td>\n",
       "      <td>Betaproteobacteria</td>\n",
       "      <td>Methylophilales</td>\n",
       "      <td>Methylophilaceae</td>\n",
       "      <td>Methylotenera</td>\n",
       "      <td>5066955</td>\n",
       "      <td>0.220860</td>\n",
       "      <td>./raw_data/elviz-contigs-1056013.csv</td>\n",
       "      <td>1056013</td>\n",
       "      <td>1_LOW4</td>\n",
       "      <td>Low</td>\n",
       "      <td>1</td>\n",
       "      <td>4</td>\n",
       "    </tr>\n",
       "    <tr>\n",
       "      <th>2</th>\n",
       "      <td>Bacteria</td>\n",
       "      <td>Bacteroidetes</td>\n",
       "      <td>Flavobacteriia</td>\n",
       "      <td>Flavobacteriales</td>\n",
       "      <td>Flavobacteriaceae</td>\n",
       "      <td>Flavobacterium</td>\n",
       "      <td>4654774</td>\n",
       "      <td>0.054719</td>\n",
       "      <td>./raw_data/elviz-contigs-1056013.csv</td>\n",
       "      <td>1056013</td>\n",
       "      <td>1_LOW4</td>\n",
       "      <td>Low</td>\n",
       "      <td>1</td>\n",
       "      <td>4</td>\n",
       "    </tr>\n",
       "    <tr>\n",
       "      <th>3</th>\n",
       "      <td>Bacteria</td>\n",
       "      <td>Proteobacteria</td>\n",
       "      <td>Gammaproteobacteria</td>\n",
       "      <td>Methylococcales</td>\n",
       "      <td>Methylococcaceae</td>\n",
       "      <td>other</td>\n",
       "      <td>3046340</td>\n",
       "      <td>0.047956</td>\n",
       "      <td>./raw_data/elviz-contigs-1056013.csv</td>\n",
       "      <td>1056013</td>\n",
       "      <td>1_LOW4</td>\n",
       "      <td>Low</td>\n",
       "      <td>1</td>\n",
       "      <td>4</td>\n",
       "    </tr>\n",
       "    <tr>\n",
       "      <th>4</th>\n",
       "      <td>Bacteria</td>\n",
       "      <td>Proteobacteria</td>\n",
       "      <td>Gammaproteobacteria</td>\n",
       "      <td></td>\n",
       "      <td></td>\n",
       "      <td>other</td>\n",
       "      <td>5620690</td>\n",
       "      <td>0.040903</td>\n",
       "      <td>./raw_data/elviz-contigs-1056013.csv</td>\n",
       "      <td>1056013</td>\n",
       "      <td>1_LOW4</td>\n",
       "      <td>Low</td>\n",
       "      <td>1</td>\n",
       "      <td>4</td>\n",
       "    </tr>\n",
       "  </tbody>\n",
       "</table>\n",
       "</div>"
      ],
      "text/plain": [
       "    Kingdom          Phylum                Class             Order  \\\n",
       "0  Bacteria  Proteobacteria  Gammaproteobacteria   Methylococcales   \n",
       "1  Bacteria  Proteobacteria   Betaproteobacteria   Methylophilales   \n",
       "2  Bacteria   Bacteroidetes       Flavobacteriia  Flavobacteriales   \n",
       "3  Bacteria  Proteobacteria  Gammaproteobacteria   Methylococcales   \n",
       "4  Bacteria  Proteobacteria  Gammaproteobacteria                     \n",
       "\n",
       "              Family           Genus   Length  abundance  \\\n",
       "0   Methylococcaceae   Methylobacter  9948861   0.228531   \n",
       "1   Methylophilaceae   Methylotenera  5066955   0.220860   \n",
       "2  Flavobacteriaceae  Flavobacterium  4654774   0.054719   \n",
       "3   Methylococcaceae           other  3046340   0.047956   \n",
       "4                              other  5620690   0.040903   \n",
       "\n",
       "                               filepath  project      ID  oxy  rep  week  \n",
       "0  ./raw_data/elviz-contigs-1056013.csv  1056013  1_LOW4  Low    1     4  \n",
       "1  ./raw_data/elviz-contigs-1056013.csv  1056013  1_LOW4  Low    1     4  \n",
       "2  ./raw_data/elviz-contigs-1056013.csv  1056013  1_LOW4  Low    1     4  \n",
       "3  ./raw_data/elviz-contigs-1056013.csv  1056013  1_LOW4  Low    1     4  \n",
       "4  ./raw_data/elviz-contigs-1056013.csv  1056013  1_LOW4  Low    1     4  "
      ]
     },
     "execution_count": 15,
     "metadata": {},
     "output_type": "execute_result"
    }
   ],
   "source": [
    "if import_original_data:\n",
    "    data_reduced = read_and_reduce_all(filename_list=elviz_files,\n",
    "                                       filepath=filepath,\n",
    "                                       sample_info = sample_info)\n",
    "    print(data_reduced.size)  \n",
    "else: \n",
    "    data_reduced = pd.read_csv(\"./results/reduced_data--all_phylogeny_remains.csv\")\n",
    "\n",
    "data_reduced.head()"
   ]
  },
  {
   "cell_type": "code",
   "execution_count": 16,
   "metadata": {
    "collapsed": false
   },
   "outputs": [
    {
     "data": {
      "text/plain": [
       "array([1056013, 1056016, 1056019, 1056022, 1056025, 1056028, 1056031,\n",
       "       1056034, 1056037, 1056040, 1056043, 1056046, 1056049, 1056052,\n",
       "       1056055, 1056058, 1056061, 1056064, 1056067, 1056070, 1056073,\n",
       "       1056076, 1056079, 1056082, 1056085, 1056088, 1056091, 1056094,\n",
       "       1056097, 1056100, 1056103, 1056106, 1056109, 1056112, 1056115,\n",
       "       1056118, 1056121, 1056124, 1056127, 1056130, 1056133, 1056136,\n",
       "       1056139, 1056142, 1056145, 1056148, 1056151, 1056154, 1056157,\n",
       "       1056160, 1056163, 1056166, 1056169, 1056172, 1056175, 1056178,\n",
       "       1056181, 1056184, 1056187, 1056190, 1056193, 1056196, 1056199,\n",
       "       1056202, 1056205, 1056208, 1056211, 1056214, 1056217, 1056220,\n",
       "       1056223, 1056226, 1056229, 1056232, 1056235, 1056238, 1056241,\n",
       "       1056244, 1056247, 1056250, 1056253, 1056256, 1056259, 1056262,\n",
       "       1056265, 1056268, 1056271, 1056274])"
      ]
     },
     "execution_count": 16,
     "metadata": {},
     "output_type": "execute_result"
    }
   ],
   "source": [
    "data_reduced['project'].unique()"
   ]
  },
  {
   "cell_type": "code",
   "execution_count": 17,
   "metadata": {
    "collapsed": false
   },
   "outputs": [],
   "source": [
    "if import_original_data:\n",
    "    data_reduced.to_csv(\"./results/reduced_data--all_phylogeny_remains.csv\", index=False)"
   ]
  },
  {
   "cell_type": "code",
   "execution_count": 18,
   "metadata": {
    "collapsed": false
   },
   "outputs": [
    {
     "data": {
      "text/html": [
       "<div>\n",
       "<table border=\"1\" class=\"dataframe\">\n",
       "  <thead>\n",
       "    <tr style=\"text-align: right;\">\n",
       "      <th></th>\n",
       "      <th>Kingdom</th>\n",
       "      <th>Phylum</th>\n",
       "      <th>Class</th>\n",
       "      <th>Order</th>\n",
       "      <th>Family</th>\n",
       "      <th>Genus</th>\n",
       "      <th>Length</th>\n",
       "      <th>abundance</th>\n",
       "      <th>filepath</th>\n",
       "      <th>project</th>\n",
       "      <th>ID</th>\n",
       "      <th>oxy</th>\n",
       "      <th>rep</th>\n",
       "      <th>week</th>\n",
       "    </tr>\n",
       "  </thead>\n",
       "  <tbody>\n",
       "    <tr>\n",
       "      <th>0</th>\n",
       "      <td>Bacteria</td>\n",
       "      <td>Proteobacteria</td>\n",
       "      <td>Gammaproteobacteria</td>\n",
       "      <td>Methylococcales</td>\n",
       "      <td>Methylococcaceae</td>\n",
       "      <td>Methylobacter</td>\n",
       "      <td>9948861</td>\n",
       "      <td>0.228531</td>\n",
       "      <td>./raw_data/elviz-contigs-1056013.csv</td>\n",
       "      <td>1056013</td>\n",
       "      <td>1_LOW4</td>\n",
       "      <td>Low</td>\n",
       "      <td>1</td>\n",
       "      <td>4</td>\n",
       "    </tr>\n",
       "    <tr>\n",
       "      <th>1</th>\n",
       "      <td>Bacteria</td>\n",
       "      <td>Proteobacteria</td>\n",
       "      <td>Betaproteobacteria</td>\n",
       "      <td>Methylophilales</td>\n",
       "      <td>Methylophilaceae</td>\n",
       "      <td>Methylotenera</td>\n",
       "      <td>5066955</td>\n",
       "      <td>0.220860</td>\n",
       "      <td>./raw_data/elviz-contigs-1056013.csv</td>\n",
       "      <td>1056013</td>\n",
       "      <td>1_LOW4</td>\n",
       "      <td>Low</td>\n",
       "      <td>1</td>\n",
       "      <td>4</td>\n",
       "    </tr>\n",
       "    <tr>\n",
       "      <th>2</th>\n",
       "      <td>Bacteria</td>\n",
       "      <td>Bacteroidetes</td>\n",
       "      <td>Flavobacteriia</td>\n",
       "      <td>Flavobacteriales</td>\n",
       "      <td>Flavobacteriaceae</td>\n",
       "      <td>Flavobacterium</td>\n",
       "      <td>4654774</td>\n",
       "      <td>0.054719</td>\n",
       "      <td>./raw_data/elviz-contigs-1056013.csv</td>\n",
       "      <td>1056013</td>\n",
       "      <td>1_LOW4</td>\n",
       "      <td>Low</td>\n",
       "      <td>1</td>\n",
       "      <td>4</td>\n",
       "    </tr>\n",
       "    <tr>\n",
       "      <th>3</th>\n",
       "      <td>Bacteria</td>\n",
       "      <td>Proteobacteria</td>\n",
       "      <td>Gammaproteobacteria</td>\n",
       "      <td>Methylococcales</td>\n",
       "      <td>Methylococcaceae</td>\n",
       "      <td>other</td>\n",
       "      <td>3046340</td>\n",
       "      <td>0.047956</td>\n",
       "      <td>./raw_data/elviz-contigs-1056013.csv</td>\n",
       "      <td>1056013</td>\n",
       "      <td>1_LOW4</td>\n",
       "      <td>Low</td>\n",
       "      <td>1</td>\n",
       "      <td>4</td>\n",
       "    </tr>\n",
       "    <tr>\n",
       "      <th>4</th>\n",
       "      <td>Bacteria</td>\n",
       "      <td>Proteobacteria</td>\n",
       "      <td>Gammaproteobacteria</td>\n",
       "      <td></td>\n",
       "      <td></td>\n",
       "      <td>other</td>\n",
       "      <td>5620690</td>\n",
       "      <td>0.040903</td>\n",
       "      <td>./raw_data/elviz-contigs-1056013.csv</td>\n",
       "      <td>1056013</td>\n",
       "      <td>1_LOW4</td>\n",
       "      <td>Low</td>\n",
       "      <td>1</td>\n",
       "      <td>4</td>\n",
       "    </tr>\n",
       "  </tbody>\n",
       "</table>\n",
       "</div>"
      ],
      "text/plain": [
       "    Kingdom          Phylum                Class             Order  \\\n",
       "0  Bacteria  Proteobacteria  Gammaproteobacteria   Methylococcales   \n",
       "1  Bacteria  Proteobacteria   Betaproteobacteria   Methylophilales   \n",
       "2  Bacteria   Bacteroidetes       Flavobacteriia  Flavobacteriales   \n",
       "3  Bacteria  Proteobacteria  Gammaproteobacteria   Methylococcales   \n",
       "4  Bacteria  Proteobacteria  Gammaproteobacteria                     \n",
       "\n",
       "              Family           Genus   Length  abundance  \\\n",
       "0   Methylococcaceae   Methylobacter  9948861   0.228531   \n",
       "1   Methylophilaceae   Methylotenera  5066955   0.220860   \n",
       "2  Flavobacteriaceae  Flavobacterium  4654774   0.054719   \n",
       "3   Methylococcaceae           other  3046340   0.047956   \n",
       "4                              other  5620690   0.040903   \n",
       "\n",
       "                               filepath  project      ID  oxy  rep  week  \n",
       "0  ./raw_data/elviz-contigs-1056013.csv  1056013  1_LOW4  Low    1     4  \n",
       "1  ./raw_data/elviz-contigs-1056013.csv  1056013  1_LOW4  Low    1     4  \n",
       "2  ./raw_data/elviz-contigs-1056013.csv  1056013  1_LOW4  Low    1     4  \n",
       "3  ./raw_data/elviz-contigs-1056013.csv  1056013  1_LOW4  Low    1     4  \n",
       "4  ./raw_data/elviz-contigs-1056013.csv  1056013  1_LOW4  Low    1     4  "
      ]
     },
     "execution_count": 18,
     "metadata": {},
     "output_type": "execute_result"
    }
   ],
   "source": [
    "data_reduced.head()"
   ]
  },
  {
   "cell_type": "code",
   "execution_count": 19,
   "metadata": {
    "collapsed": false
   },
   "outputs": [
    {
     "name": "stdout",
     "output_type": "stream",
     "text": [
      "            ID   Length  abundance\n",
      "211    63_LOW9    15882   0.000041\n",
      "52    73_LOW10    20437   0.000689\n",
      "109    51_LOW8    29583   0.000176\n",
      "109   74_LOW10    33515   0.000285\n",
      "22   122_LOW14    39064   0.002480\n",
      "62    92_HOW11    42204   0.000694\n",
      "100   75_LOW10    45610   0.000150\n",
      "27   124_LOW14    46654   0.001763\n",
      "23   121_LOW14    47061   0.002799\n",
      "25     61_LOW9    52709   0.002151\n",
      "73      4_LOW4    52969   0.000787\n",
      "27   112_LOW13    55629   0.001866\n",
      "65     13_LOW5    58884   0.000820\n",
      "60      9_HOW4    60376   0.000939\n",
      "29      8_HOW4    61368   0.001568\n",
      "122  123_LOW14    68043   0.000180\n",
      "33     49_LOW8    71714   0.001022\n",
      "43      3_LOW4    72753   0.001264\n",
      "46      2_LOW4    73660   0.001123\n",
      "43      1_LOW4    74310   0.001383\n",
      "69     39_LOW7    77028   0.000437\n",
      "47     14_LOW5    88088   0.001272\n",
      "58     27_LOW6    88622   0.000894\n",
      "47     15_LOW5    93077   0.001253\n",
      "54     37_LOW7    96499   0.000737\n",
      "46     57_HOW8    96525   0.000938\n",
      "32     10_HOW4   101934   0.001683\n",
      "37      7_HOW4   105754   0.001560\n",
      "31   100_LOW12   108658   0.001554\n",
      "57     25_LOW6   108785   0.000669\n",
      "..         ...      ...        ...\n",
      "20    97_LOW12  2984166   0.003772\n",
      "14    80_HOW10  3001616   0.007518\n",
      "17    91_HOW11  3011404   0.004315\n",
      "5      32_HOW6  3017162   0.032200\n",
      "15    94_HOW11  3083901   0.003213\n",
      "13   128_HOW14  3096023   0.010531\n",
      "17    99_LOW12  3812409   0.003504\n",
      "1      70_HOW9  3885996   0.277980\n",
      "1      58_HOW8  4742705   0.205024\n",
      "1      33_HOW6  4901475   0.068370\n",
      "1      45_HOW7  5125910   0.088969\n",
      "0      31_HOW6  5194359   0.282084\n",
      "6      19_HOW5  5334592   0.039293\n",
      "0    115_HOW13  5336219   0.394607\n",
      "8     88_LOW11  5341441   0.019801\n",
      "1    106_HOW12  5385211   0.060682\n",
      "1    127_HOW14  5404569   0.188087\n",
      "4    118_HOW13  5426623   0.031324\n",
      "0    104_HOW12  5430800   0.445430\n",
      "3     93_HOW11  5430835   0.048923\n",
      "1    130_HOW14  5449081   0.143269\n",
      "2    103_HOW12  5450134   0.131634\n",
      "0    117_HOW13  5577034   0.429519\n",
      "8     87_LOW11  5643812   0.009142\n",
      "2     81_HOW10  5647252   0.036623\n",
      "2     82_HOW10  5690423   0.036893\n",
      "1      44_HOW7  5795352   0.096760\n",
      "1      43_HOW7  5805202   0.211526\n",
      "0    129_HOW14  5873847   0.292576\n",
      "0    105_HOW12  6111634   0.583474\n",
      "\n",
      "[88 rows x 3 columns]\n"
     ]
    }
   ],
   "source": [
    "# Should have only 1 row per Id now. \n",
    "methylophilus_only = data_reduced[data_reduced['Genus']=='Methylophilus']\n",
    "print(methylophilus_only[['ID', 'Length', 'abundance']].sort_values('Length'))"
   ]
  },
  {
   "cell_type": "code",
   "execution_count": 20,
   "metadata": {
    "collapsed": false,
    "scrolled": true
   },
   "outputs": [
    {
     "data": {
      "text/plain": [
       "{('High',\n",
       "  <module 're' from '/Users/janet/.virtualenvs/meta4/lib/python3.5/re.py'>): 'elviz_binned--HighO2_rep4.xlsx',\n",
       " ('Low',\n",
       "  <module 're' from '/Users/janet/.virtualenvs/meta4/lib/python3.5/re.py'>): 'elviz_binned--LowO2_rep4.xlsx'}"
      ]
     },
     "execution_count": 20,
     "metadata": {},
     "output_type": "execute_result"
    }
   ],
   "source": [
    "from abundance_utils import prepare_excel_dictionary\n",
    "  \n",
    "prepare_excel_dictionary(dataframe = data_reduced)"
   ]
  },
  {
   "cell_type": "code",
   "execution_count": 21,
   "metadata": {
    "collapsed": false
   },
   "outputs": [],
   "source": [
    "#from abundance_utils import prepare_excel_writer_dict \n",
    "#prepare_excel_writer_dict(dataframe = data_reduced)\n",
    "\n",
    "#from abundance_utils import write_excel\n",
    "  \n",
    "#write_excel(dataframe = data_reduced)"
   ]
  },
  {
   "cell_type": "code",
   "execution_count": 22,
   "metadata": {
    "collapsed": false
   },
   "outputs": [],
   "source": [
    "if write_excel:\n",
    "    from abundance_utils import write_excel_files\n",
    "    write_excel_files(dataframe = data_reduced, filepath = './results')"
   ]
  },
  {
   "cell_type": "code",
   "execution_count": 23,
   "metadata": {
    "collapsed": false
   },
   "outputs": [
    {
     "data": {
      "text/html": [
       "<div>\n",
       "<table border=\"1\" class=\"dataframe\">\n",
       "  <thead>\n",
       "    <tr style=\"text-align: right;\">\n",
       "      <th></th>\n",
       "      <th>Kingdom</th>\n",
       "      <th>Phylum</th>\n",
       "      <th>Class</th>\n",
       "      <th>Order</th>\n",
       "      <th>Family</th>\n",
       "      <th>Genus</th>\n",
       "      <th>Length</th>\n",
       "      <th>abundance</th>\n",
       "      <th>filepath</th>\n",
       "      <th>project</th>\n",
       "      <th>ID</th>\n",
       "      <th>oxy</th>\n",
       "      <th>rep</th>\n",
       "      <th>week</th>\n",
       "    </tr>\n",
       "  </thead>\n",
       "  <tbody>\n",
       "    <tr>\n",
       "      <th>0</th>\n",
       "      <td>Bacteria</td>\n",
       "      <td>Proteobacteria</td>\n",
       "      <td>Gammaproteobacteria</td>\n",
       "      <td>Methylococcales</td>\n",
       "      <td>Methylococcaceae</td>\n",
       "      <td>Methylobacter</td>\n",
       "      <td>9948861</td>\n",
       "      <td>0.228531</td>\n",
       "      <td>./raw_data/elviz-contigs-1056013.csv</td>\n",
       "      <td>1056013</td>\n",
       "      <td>1_LOW4</td>\n",
       "      <td>Low</td>\n",
       "      <td>1</td>\n",
       "      <td>4</td>\n",
       "    </tr>\n",
       "    <tr>\n",
       "      <th>1</th>\n",
       "      <td>Bacteria</td>\n",
       "      <td>Proteobacteria</td>\n",
       "      <td>Betaproteobacteria</td>\n",
       "      <td>Methylophilales</td>\n",
       "      <td>Methylophilaceae</td>\n",
       "      <td>Methylotenera</td>\n",
       "      <td>5066955</td>\n",
       "      <td>0.220860</td>\n",
       "      <td>./raw_data/elviz-contigs-1056013.csv</td>\n",
       "      <td>1056013</td>\n",
       "      <td>1_LOW4</td>\n",
       "      <td>Low</td>\n",
       "      <td>1</td>\n",
       "      <td>4</td>\n",
       "    </tr>\n",
       "    <tr>\n",
       "      <th>2</th>\n",
       "      <td>Bacteria</td>\n",
       "      <td>Bacteroidetes</td>\n",
       "      <td>Flavobacteriia</td>\n",
       "      <td>Flavobacteriales</td>\n",
       "      <td>Flavobacteriaceae</td>\n",
       "      <td>Flavobacterium</td>\n",
       "      <td>4654774</td>\n",
       "      <td>0.054719</td>\n",
       "      <td>./raw_data/elviz-contigs-1056013.csv</td>\n",
       "      <td>1056013</td>\n",
       "      <td>1_LOW4</td>\n",
       "      <td>Low</td>\n",
       "      <td>1</td>\n",
       "      <td>4</td>\n",
       "    </tr>\n",
       "    <tr>\n",
       "      <th>3</th>\n",
       "      <td>Bacteria</td>\n",
       "      <td>Proteobacteria</td>\n",
       "      <td>Gammaproteobacteria</td>\n",
       "      <td>Methylococcales</td>\n",
       "      <td>Methylococcaceae</td>\n",
       "      <td>other</td>\n",
       "      <td>3046340</td>\n",
       "      <td>0.047956</td>\n",
       "      <td>./raw_data/elviz-contigs-1056013.csv</td>\n",
       "      <td>1056013</td>\n",
       "      <td>1_LOW4</td>\n",
       "      <td>Low</td>\n",
       "      <td>1</td>\n",
       "      <td>4</td>\n",
       "    </tr>\n",
       "    <tr>\n",
       "      <th>4</th>\n",
       "      <td>Bacteria</td>\n",
       "      <td>Proteobacteria</td>\n",
       "      <td>Gammaproteobacteria</td>\n",
       "      <td></td>\n",
       "      <td></td>\n",
       "      <td>other</td>\n",
       "      <td>5620690</td>\n",
       "      <td>0.040903</td>\n",
       "      <td>./raw_data/elviz-contigs-1056013.csv</td>\n",
       "      <td>1056013</td>\n",
       "      <td>1_LOW4</td>\n",
       "      <td>Low</td>\n",
       "      <td>1</td>\n",
       "      <td>4</td>\n",
       "    </tr>\n",
       "  </tbody>\n",
       "</table>\n",
       "</div>"
      ],
      "text/plain": [
       "    Kingdom          Phylum                Class             Order  \\\n",
       "0  Bacteria  Proteobacteria  Gammaproteobacteria   Methylococcales   \n",
       "1  Bacteria  Proteobacteria   Betaproteobacteria   Methylophilales   \n",
       "2  Bacteria   Bacteroidetes       Flavobacteriia  Flavobacteriales   \n",
       "3  Bacteria  Proteobacteria  Gammaproteobacteria   Methylococcales   \n",
       "4  Bacteria  Proteobacteria  Gammaproteobacteria                     \n",
       "\n",
       "              Family           Genus   Length  abundance  \\\n",
       "0   Methylococcaceae   Methylobacter  9948861   0.228531   \n",
       "1   Methylophilaceae   Methylotenera  5066955   0.220860   \n",
       "2  Flavobacteriaceae  Flavobacterium  4654774   0.054719   \n",
       "3   Methylococcaceae           other  3046340   0.047956   \n",
       "4                              other  5620690   0.040903   \n",
       "\n",
       "                               filepath  project      ID  oxy  rep  week  \n",
       "0  ./raw_data/elviz-contigs-1056013.csv  1056013  1_LOW4  Low    1     4  \n",
       "1  ./raw_data/elviz-contigs-1056013.csv  1056013  1_LOW4  Low    1     4  \n",
       "2  ./raw_data/elviz-contigs-1056013.csv  1056013  1_LOW4  Low    1     4  \n",
       "3  ./raw_data/elviz-contigs-1056013.csv  1056013  1_LOW4  Low    1     4  \n",
       "4  ./raw_data/elviz-contigs-1056013.csv  1056013  1_LOW4  Low    1     4  "
      ]
     },
     "execution_count": 23,
     "metadata": {},
     "output_type": "execute_result"
    }
   ],
   "source": [
    "data_reduced.head()"
   ]
  },
  {
   "cell_type": "code",
   "execution_count": 24,
   "metadata": {
    "collapsed": false
   },
   "outputs": [
    {
     "data": {
      "text/html": [
       "<div>\n",
       "<table border=\"1\" class=\"dataframe\">\n",
       "  <thead>\n",
       "    <tr style=\"text-align: right;\">\n",
       "      <th></th>\n",
       "      <th>ID</th>\n",
       "      <th>rep</th>\n",
       "      <th>week</th>\n",
       "      <th>oxy</th>\n",
       "      <th>Genus</th>\n",
       "      <th>Length</th>\n",
       "      <th>abundance</th>\n",
       "      <th>project</th>\n",
       "    </tr>\n",
       "  </thead>\n",
       "  <tbody>\n",
       "    <tr>\n",
       "      <th>2432</th>\n",
       "      <td>106_HOW12</td>\n",
       "      <td>4</td>\n",
       "      <td>12</td>\n",
       "      <td>High</td>\n",
       "      <td>Methylobacter</td>\n",
       "      <td>4325001</td>\n",
       "      <td>0.701923</td>\n",
       "      <td>1056226</td>\n",
       "    </tr>\n",
       "    <tr>\n",
       "      <th>42797</th>\n",
       "      <td>76_LOW10</td>\n",
       "      <td>4</td>\n",
       "      <td>10</td>\n",
       "      <td>Low</td>\n",
       "      <td>Methylobacter</td>\n",
       "      <td>6062067</td>\n",
       "      <td>0.701577</td>\n",
       "      <td>1056166</td>\n",
       "    </tr>\n",
       "    <tr>\n",
       "      <th>50891</th>\n",
       "      <td>94_HOW11</td>\n",
       "      <td>4</td>\n",
       "      <td>11</td>\n",
       "      <td>High</td>\n",
       "      <td>Methylobacter</td>\n",
       "      <td>5268714</td>\n",
       "      <td>0.698849</td>\n",
       "      <td>1056202</td>\n",
       "    </tr>\n",
       "    <tr>\n",
       "      <th>45856</th>\n",
       "      <td>82_HOW10</td>\n",
       "      <td>4</td>\n",
       "      <td>10</td>\n",
       "      <td>High</td>\n",
       "      <td>Methylobacter</td>\n",
       "      <td>5488758</td>\n",
       "      <td>0.693746</td>\n",
       "      <td>1056178</td>\n",
       "    </tr>\n",
       "    <tr>\n",
       "      <th>26673</th>\n",
       "      <td>40_LOW7</td>\n",
       "      <td>4</td>\n",
       "      <td>7</td>\n",
       "      <td>Low</td>\n",
       "      <td>Methylobacter</td>\n",
       "      <td>6012817</td>\n",
       "      <td>0.668513</td>\n",
       "      <td>1056094</td>\n",
       "    </tr>\n",
       "  </tbody>\n",
       "</table>\n",
       "</div>"
      ],
      "text/plain": [
       "              ID  rep  week   oxy          Genus   Length  abundance  project\n",
       "2432   106_HOW12    4    12  High  Methylobacter  4325001   0.701923  1056226\n",
       "42797   76_LOW10    4    10   Low  Methylobacter  6062067   0.701577  1056166\n",
       "50891   94_HOW11    4    11  High  Methylobacter  5268714   0.698849  1056202\n",
       "45856   82_HOW10    4    10  High  Methylobacter  5488758   0.693746  1056178\n",
       "26673    40_LOW7    4     7   Low  Methylobacter  6012817   0.668513  1056094"
      ]
     },
     "execution_count": 24,
     "metadata": {},
     "output_type": "execute_result"
    }
   ],
   "source": [
    "from abundance_utils import reduce_to_genus_only\n",
    "data_reduced_genus = reduce_to_genus_only(data_reduced)\n",
    "data_reduced_genus.head()"
   ]
  },
  {
   "cell_type": "code",
   "execution_count": 25,
   "metadata": {
    "collapsed": false
   },
   "outputs": [],
   "source": [
    "# Write a copy to csv\n",
    "if import_original_data:\n",
    "    data_reduced_genus.to_csv(\n",
    "        \"./results/reduced_data--genus_only.csv\", index=False)"
   ]
  },
  {
   "cell_type": "code",
   "execution_count": 26,
   "metadata": {
    "collapsed": false
   },
   "outputs": [],
   "source": [
    "# print(data_reduced_genus[['rep','week', 'ID']].drop_duplicates())"
   ]
  },
  {
   "cell_type": "code",
   "execution_count": 27,
   "metadata": {
    "collapsed": false
   },
   "outputs": [
    {
     "data": {
      "text/html": [
       "<div>\n",
       "<table border=\"1\" class=\"dataframe\">\n",
       "  <thead>\n",
       "    <tr style=\"text-align: right;\">\n",
       "      <th></th>\n",
       "      <th>ID</th>\n",
       "      <th>rep</th>\n",
       "      <th>week</th>\n",
       "      <th>oxy</th>\n",
       "      <th>Genus</th>\n",
       "      <th>Length</th>\n",
       "      <th>abundance</th>\n",
       "      <th>project</th>\n",
       "    </tr>\n",
       "  </thead>\n",
       "  <tbody>\n",
       "    <tr>\n",
       "      <th>2432</th>\n",
       "      <td>106_HOW12</td>\n",
       "      <td>4</td>\n",
       "      <td>12</td>\n",
       "      <td>High</td>\n",
       "      <td>Methylobacter</td>\n",
       "      <td>4325001</td>\n",
       "      <td>0.701923</td>\n",
       "      <td>1056226</td>\n",
       "    </tr>\n",
       "    <tr>\n",
       "      <th>42797</th>\n",
       "      <td>76_LOW10</td>\n",
       "      <td>4</td>\n",
       "      <td>10</td>\n",
       "      <td>Low</td>\n",
       "      <td>Methylobacter</td>\n",
       "      <td>6062067</td>\n",
       "      <td>0.701577</td>\n",
       "      <td>1056166</td>\n",
       "    </tr>\n",
       "    <tr>\n",
       "      <th>50891</th>\n",
       "      <td>94_HOW11</td>\n",
       "      <td>4</td>\n",
       "      <td>11</td>\n",
       "      <td>High</td>\n",
       "      <td>Methylobacter</td>\n",
       "      <td>5268714</td>\n",
       "      <td>0.698849</td>\n",
       "      <td>1056202</td>\n",
       "    </tr>\n",
       "  </tbody>\n",
       "</table>\n",
       "</div>"
      ],
      "text/plain": [
       "              ID  rep  week   oxy          Genus   Length  abundance  project\n",
       "2432   106_HOW12    4    12  High  Methylobacter  4325001   0.701923  1056226\n",
       "42797   76_LOW10    4    10   Low  Methylobacter  6062067   0.701577  1056166\n",
       "50891   94_HOW11    4    11  High  Methylobacter  5268714   0.698849  1056202"
      ]
     },
     "execution_count": 27,
     "metadata": {},
     "output_type": "execute_result"
    }
   ],
   "source": [
    "data_reduced_genus.head(3)"
   ]
  },
  {
   "cell_type": "code",
   "execution_count": 28,
   "metadata": {
    "collapsed": false
   },
   "outputs": [],
   "source": [
    "by_repl_and_week_Genus = data_reduced_genus.groupby(['rep','week','oxy'])#.to_excel(writer,sheet_name='Sheet1')\n",
    "# check that replicates and week are in the right order: \n",
    "#for tup, d in by_repl_and_week_Genus:\n",
    "#    print tup"
   ]
  },
  {
   "cell_type": "code",
   "execution_count": 29,
   "metadata": {
    "collapsed": false
   },
   "outputs": [],
   "source": [
    "if write_excel:\n",
    "    write_excel_files(dataframe= data_reduced_genus, \n",
    "             filepath = './results', \n",
    "             by_genus=True)"
   ]
  }
 ],
 "metadata": {
  "kernelspec": {
   "display_name": "IPython (Python 3)",
   "language": "python",
   "name": "python3"
  },
  "language_info": {
   "codemirror_mode": {
    "name": "ipython",
    "version": 3
   },
   "file_extension": ".py",
   "mimetype": "text/x-python",
   "name": "python",
   "nbconvert_exporter": "python",
   "pygments_lexer": "ipython3",
   "version": "3.5.1"
  }
 },
 "nbformat": 4,
 "nbformat_minor": 0
}
