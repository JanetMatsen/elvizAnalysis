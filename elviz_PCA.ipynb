{
 "cells": [
  {
   "cell_type": "code",
   "execution_count": 1,
   "metadata": {
    "collapsed": true
   },
   "outputs": [],
   "source": [
    "import numpy as np\n",
    "import pandas as pd\n",
    "from sklearn.decomposition import PCA"
   ]
  },
  {
   "cell_type": "markdown",
   "metadata": {},
   "source": [
    "Import the Elviz Data for all 88 samples"
   ]
  },
  {
   "cell_type": "code",
   "execution_count": 2,
   "metadata": {
    "collapsed": false
   },
   "outputs": [
    {
     "name": "stdout",
     "output_type": "stream",
     "text": [
      "count    5.352900e+04\n",
      "mean     1.643969e-03\n",
      "std      2.331600e-02\n",
      "min      2.424267e-07\n",
      "25%      4.668598e-06\n",
      "50%      1.749988e-05\n",
      "75%      9.606543e-05\n",
      "max      7.984020e-01\n",
      "Name: abundance, dtype: float64\n"
     ]
    },
    {
     "data": {
      "text/html": [
       "<div>\n",
       "<table border=\"1\" class=\"dataframe\">\n",
       "  <thead>\n",
       "    <tr style=\"text-align: right;\">\n",
       "      <th></th>\n",
       "      <th>ID</th>\n",
       "      <th>rep</th>\n",
       "      <th>week</th>\n",
       "      <th>oxy</th>\n",
       "      <th>Genus</th>\n",
       "      <th>Length</th>\n",
       "      <th>abundance</th>\n",
       "      <th>project</th>\n",
       "    </tr>\n",
       "  </thead>\n",
       "  <tbody>\n",
       "  </tbody>\n",
       "</table>\n",
       "</div>"
      ],
      "text/plain": [
       "Empty DataFrame\n",
       "Columns: [ID, rep, week, oxy, Genus, Length, abundance, project]\n",
       "Index: []"
      ]
     },
     "execution_count": 2,
     "metadata": {},
     "output_type": "execute_result"
    }
   ],
   "source": [
    "from elviz_pca import import_elviz_data\n",
    "\n",
    "\n",
    "elviz_data = import_elviz_data()\n",
    "\n",
    "print(elviz_data.abundance.describe())\n",
    "\n",
    "# are there any null values? \n",
    "elviz_data[elviz_data.abundance.isnull()]\n",
    "\n",
    "\n",
    "#elviz_data = pd.read_csv(\"./results/reduced_data--genus_only.csv\", \n",
    "#                        dtype={'abundance':'float'})\n",
    "\n",
    "# TODO: convert NaN abundances to zero. \n",
    "# argument: na_values=None,\n",
    "# na_values : str, list-like or dict, default None\n",
    "#    Additional strings to recognize as NA/NaN. If dict passed, specific\n",
    "#    per-column NA values\n",
    "\n"
   ]
  },
  {
   "cell_type": "code",
   "execution_count": 3,
   "metadata": {
    "collapsed": false
   },
   "outputs": [
    {
     "data": {
      "text/html": [
       "<div>\n",
       "<table border=\"1\" class=\"dataframe\">\n",
       "  <thead>\n",
       "    <tr style=\"text-align: right;\">\n",
       "      <th></th>\n",
       "      <th>ID</th>\n",
       "      <th>rep</th>\n",
       "      <th>week</th>\n",
       "      <th>oxy</th>\n",
       "      <th>Genus</th>\n",
       "      <th>Length</th>\n",
       "      <th>abundance</th>\n",
       "      <th>project</th>\n",
       "    </tr>\n",
       "  </thead>\n",
       "  <tbody>\n",
       "    <tr>\n",
       "      <th>0</th>\n",
       "      <td>106_HOW12</td>\n",
       "      <td>4</td>\n",
       "      <td>12</td>\n",
       "      <td>High</td>\n",
       "      <td>Methylobacter</td>\n",
       "      <td>4325001</td>\n",
       "      <td>0.701923</td>\n",
       "      <td>1056226</td>\n",
       "    </tr>\n",
       "    <tr>\n",
       "      <th>1</th>\n",
       "      <td>76_LOW10</td>\n",
       "      <td>4</td>\n",
       "      <td>10</td>\n",
       "      <td>Low</td>\n",
       "      <td>Methylobacter</td>\n",
       "      <td>6062067</td>\n",
       "      <td>0.701577</td>\n",
       "      <td>1056166</td>\n",
       "    </tr>\n",
       "    <tr>\n",
       "      <th>2</th>\n",
       "      <td>94_HOW11</td>\n",
       "      <td>4</td>\n",
       "      <td>11</td>\n",
       "      <td>High</td>\n",
       "      <td>Methylobacter</td>\n",
       "      <td>5268714</td>\n",
       "      <td>0.698849</td>\n",
       "      <td>1056202</td>\n",
       "    </tr>\n",
       "    <tr>\n",
       "      <th>3</th>\n",
       "      <td>82_HOW10</td>\n",
       "      <td>4</td>\n",
       "      <td>10</td>\n",
       "      <td>High</td>\n",
       "      <td>Methylobacter</td>\n",
       "      <td>5488758</td>\n",
       "      <td>0.693746</td>\n",
       "      <td>1056178</td>\n",
       "    </tr>\n",
       "    <tr>\n",
       "      <th>4</th>\n",
       "      <td>40_LOW7</td>\n",
       "      <td>4</td>\n",
       "      <td>7</td>\n",
       "      <td>Low</td>\n",
       "      <td>Methylobacter</td>\n",
       "      <td>6012817</td>\n",
       "      <td>0.668513</td>\n",
       "      <td>1056094</td>\n",
       "    </tr>\n",
       "  </tbody>\n",
       "</table>\n",
       "</div>"
      ],
      "text/plain": [
       "          ID  rep  week   oxy          Genus   Length  abundance  project\n",
       "0  106_HOW12    4    12  High  Methylobacter  4325001   0.701923  1056226\n",
       "1   76_LOW10    4    10   Low  Methylobacter  6062067   0.701577  1056166\n",
       "2   94_HOW11    4    11  High  Methylobacter  5268714   0.698849  1056202\n",
       "3   82_HOW10    4    10  High  Methylobacter  5488758   0.693746  1056178\n",
       "4    40_LOW7    4     7   Low  Methylobacter  6012817   0.668513  1056094"
      ]
     },
     "execution_count": 3,
     "metadata": {},
     "output_type": "execute_result"
    }
   ],
   "source": [
    "elviz_data.head()"
   ]
  },
  {
   "cell_type": "code",
   "execution_count": 4,
   "metadata": {
    "collapsed": false
   },
   "outputs": [],
   "source": [
    "# Need to have rows = Genus.  \n",
    "# samples as columns\n",
    "# In a way it doesn't matter but it will be easier to plt \n",
    "# if we \n",
    "#elviz_data_pivoted = elviz_data.pivot(index='Genus', \n",
    "#                                      columns='ID', values='abundance')\n",
    "\n",
    "from elviz_pca import pivot_for_pca\n",
    "\n",
    "elviz_data_pivoted = pivot_for_pca(elviz_data)"
   ]
  },
  {
   "cell_type": "code",
   "execution_count": 5,
   "metadata": {
    "collapsed": false
   },
   "outputs": [
    {
     "name": "stdout",
     "output_type": "stream",
     "text": [
      "(977, 88)\n"
     ]
    },
    {
     "data": {
      "text/html": [
       "<div>\n",
       "<table border=\"1\" class=\"dataframe\">\n",
       "  <thead>\n",
       "    <tr style=\"text-align: right;\">\n",
       "      <th>ID</th>\n",
       "      <th>100_LOW12</th>\n",
       "      <th>103_HOW12</th>\n",
       "      <th>104_HOW12</th>\n",
       "      <th>105_HOW12</th>\n",
       "      <th>106_HOW12</th>\n",
       "      <th>109_LOW13</th>\n",
       "      <th>10_HOW4</th>\n",
       "      <th>110_LOW13</th>\n",
       "      <th>111_LOW13</th>\n",
       "      <th>112_LOW13</th>\n",
       "      <th>...</th>\n",
       "      <th>88_LOW11</th>\n",
       "      <th>8_HOW4</th>\n",
       "      <th>91_HOW11</th>\n",
       "      <th>92_HOW11</th>\n",
       "      <th>93_HOW11</th>\n",
       "      <th>94_HOW11</th>\n",
       "      <th>97_LOW12</th>\n",
       "      <th>98_LOW12</th>\n",
       "      <th>99_LOW12</th>\n",
       "      <th>9_HOW4</th>\n",
       "    </tr>\n",
       "    <tr>\n",
       "      <th>Genus</th>\n",
       "      <th></th>\n",
       "      <th></th>\n",
       "      <th></th>\n",
       "      <th></th>\n",
       "      <th></th>\n",
       "      <th></th>\n",
       "      <th></th>\n",
       "      <th></th>\n",
       "      <th></th>\n",
       "      <th></th>\n",
       "      <th></th>\n",
       "      <th></th>\n",
       "      <th></th>\n",
       "      <th></th>\n",
       "      <th></th>\n",
       "      <th></th>\n",
       "      <th></th>\n",
       "      <th></th>\n",
       "      <th></th>\n",
       "      <th></th>\n",
       "      <th></th>\n",
       "    </tr>\n",
       "  </thead>\n",
       "  <tbody>\n",
       "    <tr>\n",
       "      <th>Abiotrophia</th>\n",
       "      <td>0.00000</td>\n",
       "      <td>0.000000</td>\n",
       "      <td>0.000000</td>\n",
       "      <td>0.000000</td>\n",
       "      <td>0.00000</td>\n",
       "      <td>0.000000</td>\n",
       "      <td>0.000000</td>\n",
       "      <td>0.000000</td>\n",
       "      <td>0.000000e+00</td>\n",
       "      <td>0.000000e+00</td>\n",
       "      <td>...</td>\n",
       "      <td>0.000000</td>\n",
       "      <td>0.000000</td>\n",
       "      <td>0.000000</td>\n",
       "      <td>0.000000</td>\n",
       "      <td>0.000000</td>\n",
       "      <td>0.000000</td>\n",
       "      <td>0.000000</td>\n",
       "      <td>0.000000</td>\n",
       "      <td>0</td>\n",
       "      <td>0.000000</td>\n",
       "    </tr>\n",
       "    <tr>\n",
       "      <th>Acaricomes</th>\n",
       "      <td>0.00000</td>\n",
       "      <td>0.000000</td>\n",
       "      <td>0.000000</td>\n",
       "      <td>0.000000</td>\n",
       "      <td>0.00000</td>\n",
       "      <td>0.000000</td>\n",
       "      <td>0.000000</td>\n",
       "      <td>0.000000</td>\n",
       "      <td>0.000000e+00</td>\n",
       "      <td>0.000000e+00</td>\n",
       "      <td>...</td>\n",
       "      <td>0.000000</td>\n",
       "      <td>0.000000</td>\n",
       "      <td>0.000000</td>\n",
       "      <td>0.000000</td>\n",
       "      <td>0.000000</td>\n",
       "      <td>0.000000</td>\n",
       "      <td>0.000000</td>\n",
       "      <td>0.000000</td>\n",
       "      <td>0</td>\n",
       "      <td>0.000000</td>\n",
       "    </tr>\n",
       "    <tr>\n",
       "      <th>Acetivibrio</th>\n",
       "      <td>0.00001</td>\n",
       "      <td>0.000000</td>\n",
       "      <td>0.000006</td>\n",
       "      <td>0.000000</td>\n",
       "      <td>0.00000</td>\n",
       "      <td>0.000697</td>\n",
       "      <td>0.000000</td>\n",
       "      <td>0.000253</td>\n",
       "      <td>2.546842e-07</td>\n",
       "      <td>1.397941e-05</td>\n",
       "      <td>...</td>\n",
       "      <td>0.000016</td>\n",
       "      <td>0.000011</td>\n",
       "      <td>0.000003</td>\n",
       "      <td>0.000000</td>\n",
       "      <td>0.000003</td>\n",
       "      <td>0.000000</td>\n",
       "      <td>0.000002</td>\n",
       "      <td>0.000766</td>\n",
       "      <td>0</td>\n",
       "      <td>0.000000</td>\n",
       "    </tr>\n",
       "    <tr>\n",
       "      <th>Acetobacter</th>\n",
       "      <td>0.00000</td>\n",
       "      <td>0.000005</td>\n",
       "      <td>0.000008</td>\n",
       "      <td>0.000005</td>\n",
       "      <td>0.00003</td>\n",
       "      <td>0.000000</td>\n",
       "      <td>0.000180</td>\n",
       "      <td>0.000201</td>\n",
       "      <td>3.110095e-06</td>\n",
       "      <td>1.188612e-06</td>\n",
       "      <td>...</td>\n",
       "      <td>0.000006</td>\n",
       "      <td>0.000022</td>\n",
       "      <td>0.000007</td>\n",
       "      <td>0.000027</td>\n",
       "      <td>0.000000</td>\n",
       "      <td>0.000012</td>\n",
       "      <td>0.000006</td>\n",
       "      <td>0.000000</td>\n",
       "      <td>0</td>\n",
       "      <td>0.000083</td>\n",
       "    </tr>\n",
       "    <tr>\n",
       "      <th>Acetobacterium</th>\n",
       "      <td>0.00000</td>\n",
       "      <td>0.000000</td>\n",
       "      <td>0.000000</td>\n",
       "      <td>0.000000</td>\n",
       "      <td>0.00000</td>\n",
       "      <td>0.000000</td>\n",
       "      <td>0.000017</td>\n",
       "      <td>0.000000</td>\n",
       "      <td>4.266709e-07</td>\n",
       "      <td>8.211922e-07</td>\n",
       "      <td>...</td>\n",
       "      <td>0.000000</td>\n",
       "      <td>0.000131</td>\n",
       "      <td>0.000000</td>\n",
       "      <td>0.000000</td>\n",
       "      <td>0.000000</td>\n",
       "      <td>0.000000</td>\n",
       "      <td>0.000000</td>\n",
       "      <td>0.000000</td>\n",
       "      <td>0</td>\n",
       "      <td>0.000050</td>\n",
       "    </tr>\n",
       "  </tbody>\n",
       "</table>\n",
       "<p>5 rows × 88 columns</p>\n",
       "</div>"
      ],
      "text/plain": [
       "ID              100_LOW12  103_HOW12  104_HOW12  105_HOW12  106_HOW12  \\\n",
       "Genus                                                                   \n",
       "Abiotrophia       0.00000   0.000000   0.000000   0.000000    0.00000   \n",
       "Acaricomes        0.00000   0.000000   0.000000   0.000000    0.00000   \n",
       "Acetivibrio       0.00001   0.000000   0.000006   0.000000    0.00000   \n",
       "Acetobacter       0.00000   0.000005   0.000008   0.000005    0.00003   \n",
       "Acetobacterium    0.00000   0.000000   0.000000   0.000000    0.00000   \n",
       "\n",
       "ID              109_LOW13   10_HOW4  110_LOW13     111_LOW13     112_LOW13  \\\n",
       "Genus                                                                        \n",
       "Abiotrophia      0.000000  0.000000   0.000000  0.000000e+00  0.000000e+00   \n",
       "Acaricomes       0.000000  0.000000   0.000000  0.000000e+00  0.000000e+00   \n",
       "Acetivibrio      0.000697  0.000000   0.000253  2.546842e-07  1.397941e-05   \n",
       "Acetobacter      0.000000  0.000180   0.000201  3.110095e-06  1.188612e-06   \n",
       "Acetobacterium   0.000000  0.000017   0.000000  4.266709e-07  8.211922e-07   \n",
       "\n",
       "ID                ...     88_LOW11    8_HOW4  91_HOW11  92_HOW11  93_HOW11  \\\n",
       "Genus             ...                                                        \n",
       "Abiotrophia       ...     0.000000  0.000000  0.000000  0.000000  0.000000   \n",
       "Acaricomes        ...     0.000000  0.000000  0.000000  0.000000  0.000000   \n",
       "Acetivibrio       ...     0.000016  0.000011  0.000003  0.000000  0.000003   \n",
       "Acetobacter       ...     0.000006  0.000022  0.000007  0.000027  0.000000   \n",
       "Acetobacterium    ...     0.000000  0.000131  0.000000  0.000000  0.000000   \n",
       "\n",
       "ID              94_HOW11  97_LOW12  98_LOW12  99_LOW12    9_HOW4  \n",
       "Genus                                                             \n",
       "Abiotrophia     0.000000  0.000000  0.000000         0  0.000000  \n",
       "Acaricomes      0.000000  0.000000  0.000000         0  0.000000  \n",
       "Acetivibrio     0.000000  0.000002  0.000766         0  0.000000  \n",
       "Acetobacter     0.000012  0.000006  0.000000         0  0.000083  \n",
       "Acetobacterium  0.000000  0.000000  0.000000         0  0.000050  \n",
       "\n",
       "[5 rows x 88 columns]"
      ]
     },
     "execution_count": 5,
     "metadata": {},
     "output_type": "execute_result"
    }
   ],
   "source": [
    "print(elviz_data_pivoted.shape)\n",
    "elviz_data_pivoted.head()"
   ]
  },
  {
   "cell_type": "code",
   "execution_count": 6,
   "metadata": {
    "collapsed": false
   },
   "outputs": [
    {
     "name": "stdout",
     "output_type": "stream",
     "text": [
      "number of rows to keep: 195\n",
      "(195, 88)\n"
     ]
    },
    {
     "name": "stderr",
     "output_type": "stream",
     "text": [
      "/Users/janet/elvizAnalysis/elviz_pca.py:39: FutureWarning: sort(columns=....) is deprecated, use sort_values(by=.....)\n",
      "  data.sort(columns='row_sum', ascending=False, inplace=True)\n"
     ]
    },
    {
     "data": {
      "text/html": [
       "<div>\n",
       "<table border=\"1\" class=\"dataframe\">\n",
       "  <thead>\n",
       "    <tr style=\"text-align: right;\">\n",
       "      <th>ID</th>\n",
       "      <th>100_LOW12</th>\n",
       "      <th>103_HOW12</th>\n",
       "      <th>104_HOW12</th>\n",
       "      <th>105_HOW12</th>\n",
       "      <th>106_HOW12</th>\n",
       "      <th>109_LOW13</th>\n",
       "      <th>10_HOW4</th>\n",
       "      <th>110_LOW13</th>\n",
       "      <th>111_LOW13</th>\n",
       "      <th>112_LOW13</th>\n",
       "      <th>...</th>\n",
       "      <th>88_LOW11</th>\n",
       "      <th>8_HOW4</th>\n",
       "      <th>91_HOW11</th>\n",
       "      <th>92_HOW11</th>\n",
       "      <th>93_HOW11</th>\n",
       "      <th>94_HOW11</th>\n",
       "      <th>97_LOW12</th>\n",
       "      <th>98_LOW12</th>\n",
       "      <th>99_LOW12</th>\n",
       "      <th>9_HOW4</th>\n",
       "    </tr>\n",
       "    <tr>\n",
       "      <th>Genus</th>\n",
       "      <th></th>\n",
       "      <th></th>\n",
       "      <th></th>\n",
       "      <th></th>\n",
       "      <th></th>\n",
       "      <th></th>\n",
       "      <th></th>\n",
       "      <th></th>\n",
       "      <th></th>\n",
       "      <th></th>\n",
       "      <th></th>\n",
       "      <th></th>\n",
       "      <th></th>\n",
       "      <th></th>\n",
       "      <th></th>\n",
       "      <th></th>\n",
       "      <th></th>\n",
       "      <th></th>\n",
       "      <th></th>\n",
       "      <th></th>\n",
       "      <th></th>\n",
       "    </tr>\n",
       "  </thead>\n",
       "  <tbody>\n",
       "    <tr>\n",
       "      <th>Methylobacter</th>\n",
       "      <td>0.616827</td>\n",
       "      <td>0.225911</td>\n",
       "      <td>0.282648</td>\n",
       "      <td>0.073473</td>\n",
       "      <td>0.701923</td>\n",
       "      <td>0.524244</td>\n",
       "      <td>0.103972</td>\n",
       "      <td>0.587177</td>\n",
       "      <td>0.701402</td>\n",
       "      <td>0.593887</td>\n",
       "      <td>...</td>\n",
       "      <td>0.521862</td>\n",
       "      <td>0.084614</td>\n",
       "      <td>0.564363</td>\n",
       "      <td>0.389002</td>\n",
       "      <td>0.597334</td>\n",
       "      <td>0.698849</td>\n",
       "      <td>0.496885</td>\n",
       "      <td>0.544018</td>\n",
       "      <td>0.672948</td>\n",
       "      <td>0.075084</td>\n",
       "    </tr>\n",
       "    <tr>\n",
       "      <th>other</th>\n",
       "      <td>0.158067</td>\n",
       "      <td>0.125687</td>\n",
       "      <td>0.093873</td>\n",
       "      <td>0.197769</td>\n",
       "      <td>0.104544</td>\n",
       "      <td>0.199694</td>\n",
       "      <td>0.251298</td>\n",
       "      <td>0.191630</td>\n",
       "      <td>0.132675</td>\n",
       "      <td>0.152174</td>\n",
       "      <td>...</td>\n",
       "      <td>0.207534</td>\n",
       "      <td>0.177164</td>\n",
       "      <td>0.160769</td>\n",
       "      <td>0.179035</td>\n",
       "      <td>0.160787</td>\n",
       "      <td>0.090202</td>\n",
       "      <td>0.235220</td>\n",
       "      <td>0.214388</td>\n",
       "      <td>0.146305</td>\n",
       "      <td>0.289090</td>\n",
       "    </tr>\n",
       "    <tr>\n",
       "      <th>Methylotenera</th>\n",
       "      <td>0.098789</td>\n",
       "      <td>0.371810</td>\n",
       "      <td>0.028309</td>\n",
       "      <td>0.005347</td>\n",
       "      <td>0.013885</td>\n",
       "      <td>0.110765</td>\n",
       "      <td>0.310491</td>\n",
       "      <td>0.002683</td>\n",
       "      <td>0.030411</td>\n",
       "      <td>0.113760</td>\n",
       "      <td>...</td>\n",
       "      <td>0.061106</td>\n",
       "      <td>0.236161</td>\n",
       "      <td>0.013968</td>\n",
       "      <td>0.120259</td>\n",
       "      <td>0.015401</td>\n",
       "      <td>0.031089</td>\n",
       "      <td>0.079913</td>\n",
       "      <td>0.001764</td>\n",
       "      <td>0.029392</td>\n",
       "      <td>0.298211</td>\n",
       "    </tr>\n",
       "    <tr>\n",
       "      <th>Methylophilus</th>\n",
       "      <td>0.001554</td>\n",
       "      <td>0.131634</td>\n",
       "      <td>0.445430</td>\n",
       "      <td>0.583474</td>\n",
       "      <td>0.060682</td>\n",
       "      <td>0.003104</td>\n",
       "      <td>0.001683</td>\n",
       "      <td>0.003582</td>\n",
       "      <td>0.001463</td>\n",
       "      <td>0.001866</td>\n",
       "      <td>...</td>\n",
       "      <td>0.019801</td>\n",
       "      <td>0.001568</td>\n",
       "      <td>0.004315</td>\n",
       "      <td>0.000694</td>\n",
       "      <td>0.048923</td>\n",
       "      <td>0.003213</td>\n",
       "      <td>0.003772</td>\n",
       "      <td>0.004186</td>\n",
       "      <td>0.003504</td>\n",
       "      <td>0.000939</td>\n",
       "    </tr>\n",
       "    <tr>\n",
       "      <th>Methylosarcina</th>\n",
       "      <td>0.006326</td>\n",
       "      <td>0.002396</td>\n",
       "      <td>0.003158</td>\n",
       "      <td>0.000244</td>\n",
       "      <td>0.000454</td>\n",
       "      <td>0.010087</td>\n",
       "      <td>0.037925</td>\n",
       "      <td>0.019623</td>\n",
       "      <td>0.008330</td>\n",
       "      <td>0.007219</td>\n",
       "      <td>...</td>\n",
       "      <td>0.042230</td>\n",
       "      <td>0.270019</td>\n",
       "      <td>0.005764</td>\n",
       "      <td>0.005339</td>\n",
       "      <td>0.001724</td>\n",
       "      <td>0.004016</td>\n",
       "      <td>0.009713</td>\n",
       "      <td>0.018936</td>\n",
       "      <td>0.008394</td>\n",
       "      <td>0.031484</td>\n",
       "    </tr>\n",
       "    <tr>\n",
       "      <th>Acidovorax</th>\n",
       "      <td>0.009083</td>\n",
       "      <td>0.037599</td>\n",
       "      <td>0.026508</td>\n",
       "      <td>0.035342</td>\n",
       "      <td>0.051723</td>\n",
       "      <td>0.015568</td>\n",
       "      <td>0.096500</td>\n",
       "      <td>0.003379</td>\n",
       "      <td>0.004976</td>\n",
       "      <td>0.014307</td>\n",
       "      <td>...</td>\n",
       "      <td>0.015059</td>\n",
       "      <td>0.028095</td>\n",
       "      <td>0.120190</td>\n",
       "      <td>0.097539</td>\n",
       "      <td>0.055727</td>\n",
       "      <td>0.049188</td>\n",
       "      <td>0.027526</td>\n",
       "      <td>0.014359</td>\n",
       "      <td>0.006433</td>\n",
       "      <td>0.037677</td>\n",
       "    </tr>\n",
       "    <tr>\n",
       "      <th>Methylomonas</th>\n",
       "      <td>0.012749</td>\n",
       "      <td>0.003361</td>\n",
       "      <td>0.005143</td>\n",
       "      <td>0.001265</td>\n",
       "      <td>0.002982</td>\n",
       "      <td>0.020395</td>\n",
       "      <td>0.012791</td>\n",
       "      <td>0.025598</td>\n",
       "      <td>0.018596</td>\n",
       "      <td>0.013413</td>\n",
       "      <td>...</td>\n",
       "      <td>0.016203</td>\n",
       "      <td>0.023263</td>\n",
       "      <td>0.009030</td>\n",
       "      <td>0.009074</td>\n",
       "      <td>0.003661</td>\n",
       "      <td>0.008243</td>\n",
       "      <td>0.019743</td>\n",
       "      <td>0.030577</td>\n",
       "      <td>0.017156</td>\n",
       "      <td>0.017286</td>\n",
       "    </tr>\n",
       "    <tr>\n",
       "      <th>Flavobacterium</th>\n",
       "      <td>0.006316</td>\n",
       "      <td>0.017845</td>\n",
       "      <td>0.060173</td>\n",
       "      <td>0.000132</td>\n",
       "      <td>0.000733</td>\n",
       "      <td>0.000864</td>\n",
       "      <td>0.012461</td>\n",
       "      <td>0.001763</td>\n",
       "      <td>0.001071</td>\n",
       "      <td>0.004239</td>\n",
       "      <td>...</td>\n",
       "      <td>0.010867</td>\n",
       "      <td>0.030877</td>\n",
       "      <td>0.031021</td>\n",
       "      <td>0.029484</td>\n",
       "      <td>0.000887</td>\n",
       "      <td>0.003224</td>\n",
       "      <td>0.009506</td>\n",
       "      <td>0.005938</td>\n",
       "      <td>0.000874</td>\n",
       "      <td>0.040365</td>\n",
       "    </tr>\n",
       "    <tr>\n",
       "      <th>Methylomicrobium</th>\n",
       "      <td>0.008090</td>\n",
       "      <td>0.002830</td>\n",
       "      <td>0.003504</td>\n",
       "      <td>0.004169</td>\n",
       "      <td>0.003965</td>\n",
       "      <td>0.020332</td>\n",
       "      <td>0.008001</td>\n",
       "      <td>0.019619</td>\n",
       "      <td>0.006928</td>\n",
       "      <td>0.009433</td>\n",
       "      <td>...</td>\n",
       "      <td>0.008630</td>\n",
       "      <td>0.023409</td>\n",
       "      <td>0.006181</td>\n",
       "      <td>0.007539</td>\n",
       "      <td>0.004055</td>\n",
       "      <td>0.007445</td>\n",
       "      <td>0.018061</td>\n",
       "      <td>0.024848</td>\n",
       "      <td>0.005937</td>\n",
       "      <td>0.008271</td>\n",
       "    </tr>\n",
       "    <tr>\n",
       "      <th>Methylovulum</th>\n",
       "      <td>0.003910</td>\n",
       "      <td>0.003447</td>\n",
       "      <td>0.004030</td>\n",
       "      <td>0.007360</td>\n",
       "      <td>0.006497</td>\n",
       "      <td>0.010238</td>\n",
       "      <td>0.012969</td>\n",
       "      <td>0.020533</td>\n",
       "      <td>0.005652</td>\n",
       "      <td>0.004567</td>\n",
       "      <td>...</td>\n",
       "      <td>0.004270</td>\n",
       "      <td>0.007130</td>\n",
       "      <td>0.003263</td>\n",
       "      <td>0.007118</td>\n",
       "      <td>0.005692</td>\n",
       "      <td>0.007820</td>\n",
       "      <td>0.009471</td>\n",
       "      <td>0.018284</td>\n",
       "      <td>0.005384</td>\n",
       "      <td>0.009263</td>\n",
       "    </tr>\n",
       "  </tbody>\n",
       "</table>\n",
       "<p>10 rows × 88 columns</p>\n",
       "</div>"
      ],
      "text/plain": [
       "ID                100_LOW12  103_HOW12  104_HOW12  105_HOW12  106_HOW12  \\\n",
       "Genus                                                                     \n",
       "Methylobacter      0.616827   0.225911   0.282648   0.073473   0.701923   \n",
       "other              0.158067   0.125687   0.093873   0.197769   0.104544   \n",
       "Methylotenera      0.098789   0.371810   0.028309   0.005347   0.013885   \n",
       "Methylophilus      0.001554   0.131634   0.445430   0.583474   0.060682   \n",
       "Methylosarcina     0.006326   0.002396   0.003158   0.000244   0.000454   \n",
       "Acidovorax         0.009083   0.037599   0.026508   0.035342   0.051723   \n",
       "Methylomonas       0.012749   0.003361   0.005143   0.001265   0.002982   \n",
       "Flavobacterium     0.006316   0.017845   0.060173   0.000132   0.000733   \n",
       "Methylomicrobium   0.008090   0.002830   0.003504   0.004169   0.003965   \n",
       "Methylovulum       0.003910   0.003447   0.004030   0.007360   0.006497   \n",
       "\n",
       "ID                109_LOW13   10_HOW4  110_LOW13  111_LOW13  112_LOW13  \\\n",
       "Genus                                                                    \n",
       "Methylobacter      0.524244  0.103972   0.587177   0.701402   0.593887   \n",
       "other              0.199694  0.251298   0.191630   0.132675   0.152174   \n",
       "Methylotenera      0.110765  0.310491   0.002683   0.030411   0.113760   \n",
       "Methylophilus      0.003104  0.001683   0.003582   0.001463   0.001866   \n",
       "Methylosarcina     0.010087  0.037925   0.019623   0.008330   0.007219   \n",
       "Acidovorax         0.015568  0.096500   0.003379   0.004976   0.014307   \n",
       "Methylomonas       0.020395  0.012791   0.025598   0.018596   0.013413   \n",
       "Flavobacterium     0.000864  0.012461   0.001763   0.001071   0.004239   \n",
       "Methylomicrobium   0.020332  0.008001   0.019619   0.006928   0.009433   \n",
       "Methylovulum       0.010238  0.012969   0.020533   0.005652   0.004567   \n",
       "\n",
       "ID                  ...     88_LOW11    8_HOW4  91_HOW11  92_HOW11  93_HOW11  \\\n",
       "Genus               ...                                                        \n",
       "Methylobacter       ...     0.521862  0.084614  0.564363  0.389002  0.597334   \n",
       "other               ...     0.207534  0.177164  0.160769  0.179035  0.160787   \n",
       "Methylotenera       ...     0.061106  0.236161  0.013968  0.120259  0.015401   \n",
       "Methylophilus       ...     0.019801  0.001568  0.004315  0.000694  0.048923   \n",
       "Methylosarcina      ...     0.042230  0.270019  0.005764  0.005339  0.001724   \n",
       "Acidovorax          ...     0.015059  0.028095  0.120190  0.097539  0.055727   \n",
       "Methylomonas        ...     0.016203  0.023263  0.009030  0.009074  0.003661   \n",
       "Flavobacterium      ...     0.010867  0.030877  0.031021  0.029484  0.000887   \n",
       "Methylomicrobium    ...     0.008630  0.023409  0.006181  0.007539  0.004055   \n",
       "Methylovulum        ...     0.004270  0.007130  0.003263  0.007118  0.005692   \n",
       "\n",
       "ID                94_HOW11  97_LOW12  98_LOW12  99_LOW12    9_HOW4  \n",
       "Genus                                                               \n",
       "Methylobacter     0.698849  0.496885  0.544018  0.672948  0.075084  \n",
       "other             0.090202  0.235220  0.214388  0.146305  0.289090  \n",
       "Methylotenera     0.031089  0.079913  0.001764  0.029392  0.298211  \n",
       "Methylophilus     0.003213  0.003772  0.004186  0.003504  0.000939  \n",
       "Methylosarcina    0.004016  0.009713  0.018936  0.008394  0.031484  \n",
       "Acidovorax        0.049188  0.027526  0.014359  0.006433  0.037677  \n",
       "Methylomonas      0.008243  0.019743  0.030577  0.017156  0.017286  \n",
       "Flavobacterium    0.003224  0.009506  0.005938  0.000874  0.040365  \n",
       "Methylomicrobium  0.007445  0.018061  0.024848  0.005937  0.008271  \n",
       "Methylovulum      0.007820  0.009471  0.018284  0.005384  0.009263  \n",
       "\n",
       "[10 rows x 88 columns]"
      ]
     },
     "execution_count": 6,
     "metadata": {},
     "output_type": "execute_result"
    }
   ],
   "source": [
    "# Reduce to the most abundant values per sample. \n",
    "# Need to drop rows that are below some abundance rowsum. \n",
    "from elviz_pca import most_abundant_genera_for_pca\n",
    "\n",
    "pca_input = most_abundant_genera_for_pca(data=elviz_data_pivoted, top_percent=20)\n",
    "print(pca_input.shape)\n",
    "pca_input.head(10)\n"
   ]
  },
  {
   "cell_type": "code",
   "execution_count": 7,
   "metadata": {
    "collapsed": false
   },
   "outputs": [],
   "source": [
    "pca_input = pca_input.transpose()"
   ]
  },
  {
   "cell_type": "code",
   "execution_count": 8,
   "metadata": {
    "collapsed": false
   },
   "outputs": [
    {
     "data": {
      "text/plain": [
       "PCA(copy=True, n_components=None, whiten=False)"
      ]
     },
     "execution_count": 8,
     "metadata": {},
     "output_type": "execute_result"
    }
   ],
   "source": [
    "pca = PCA()\n",
    "pca.fit(pca_input)"
   ]
  },
  {
   "cell_type": "code",
   "execution_count": 9,
   "metadata": {
    "collapsed": false
   },
   "outputs": [
    {
     "name": "stdout",
     "output_type": "stream",
     "text": [
      "[  6.23619405e-01   1.57770346e-01   1.26911929e-01   7.20145260e-02\n",
      "   9.56462617e-03   4.24226202e-03   2.55292462e-03   8.38549875e-04\n",
      "   5.47115249e-04   4.12431074e-04   3.09081128e-04   2.41498991e-04\n",
      "   1.62214120e-04   1.26966501e-04   1.03338021e-04   8.33057405e-05\n",
      "   7.50197501e-05   7.39406382e-05   5.65450193e-05   3.72577142e-05\n",
      "   2.99971444e-05   2.65463307e-05   2.37442307e-05   2.08159540e-05\n",
      "   1.86550986e-05   1.78028204e-05   1.57582755e-05   1.23747945e-05\n",
      "   1.14585659e-05   9.32183313e-06   8.10350446e-06   6.09515616e-06\n",
      "   5.45577612e-06   5.08505139e-06   4.16875899e-06   3.96924143e-06\n",
      "   3.68382312e-06   3.13258949e-06   2.67315131e-06   2.53946745e-06\n",
      "   2.38996517e-06   2.04793677e-06   1.74051615e-06   1.53992220e-06\n",
      "   1.49979627e-06   1.38342704e-06   1.12343678e-06   1.06459331e-06\n",
      "   9.71836870e-07   9.56944708e-07   8.78589079e-07   7.74162276e-07\n",
      "   6.92569044e-07   6.37530088e-07   5.97277635e-07   5.82928461e-07\n",
      "   5.36040142e-07   4.76816516e-07   4.61325342e-07   4.38929729e-07\n",
      "   4.13014978e-07   3.70999359e-07   3.34174848e-07   3.17163663e-07\n",
      "   2.95462401e-07   2.89954514e-07   2.69486347e-07   2.42053126e-07\n",
      "   2.20380310e-07   2.01760187e-07   1.71903675e-07   1.65498123e-07\n",
      "   1.50907621e-07   1.39342087e-07   1.35066959e-07   1.12818602e-07\n",
      "   9.66292999e-08   9.13767528e-08   8.49746616e-08   8.09579444e-08\n",
      "   7.03686339e-08   6.79977441e-08   6.07057008e-08   5.30873205e-08\n",
      "   4.02511195e-08   3.81490789e-08   2.65688862e-08   7.38503697e-33]\n"
     ]
    }
   ],
   "source": [
    "print(pca.explained_variance_ratio_) "
   ]
  },
  {
   "cell_type": "code",
   "execution_count": 10,
   "metadata": {
    "collapsed": false
   },
   "outputs": [],
   "source": [
    "import matplotlib as mpl\n",
    "mpl.use('TkAgg')"
   ]
  },
  {
   "cell_type": "code",
   "execution_count": 11,
   "metadata": {
    "collapsed": true
   },
   "outputs": [],
   "source": [
    "import matplotlib.pyplot as plt\n",
    "%matplotlib inline"
   ]
  },
  {
   "cell_type": "code",
   "execution_count": 12,
   "metadata": {
    "collapsed": false
   },
   "outputs": [],
   "source": [
    "# pca_input.reset_index().ID"
   ]
  },
  {
   "cell_type": "code",
   "execution_count": 13,
   "metadata": {
    "collapsed": false
   },
   "outputs": [
    {
     "data": {
      "text/plain": [
       "Index(['100_LOW12', '103_HOW12', '104_HOW12', '105_HOW12', '106_HOW12',\n",
       "       '109_LOW13', '10_HOW4', '110_LOW13', '111_LOW13', '112_LOW13',\n",
       "       '115_HOW13', '116_HOW13', '117_HOW13', '118_HOW13', '121_LOW14',\n",
       "       '122_LOW14', '123_LOW14', '124_LOW14', '127_HOW14', '128_HOW14',\n",
       "       '129_HOW14', '130_HOW14', '13_LOW5', '14_LOW5', '15_LOW5', '16_LOW5',\n",
       "       '19_HOW5', '1_LOW4', '20_HOW5', '21_HOW5', '22_HOW5', '25_LOW6',\n",
       "       '26_LOW6', '27_LOW6', '28_LOW6', '2_LOW4', '31_HOW6', '32_HOW6',\n",
       "       '33_HOW6', '34_HOW6', '37_LOW7', '38_LOW7', '39_LOW7', '3_LOW4',\n",
       "       '40_LOW7', '43_HOW7', '44_HOW7', '45_HOW7', '46_HOW7', '49_LOW8',\n",
       "       '4_LOW4', '50_LOW8', '51_LOW8', '52_LOW8', '55_HOW8', '56_HOW8',\n",
       "       '57_HOW8', '58_HOW8', '61_LOW9', '62_LOW9', '63_LOW9', '64_LOW9',\n",
       "       '67_HOW9', '68_HOW9', '69_HOW9', '70_HOW9', '73_LOW10', '74_LOW10',\n",
       "       '75_LOW10', '76_LOW10', '79_HOW10', '7_HOW4', '80_HOW10', '81_HOW10',\n",
       "       '82_HOW10', '85_LOW11', '86_LOW11', '87_LOW11', '88_LOW11', '8_HOW4',\n",
       "       '91_HOW11', '92_HOW11', '93_HOW11', '94_HOW11', '97_LOW12', '98_LOW12',\n",
       "       '99_LOW12', '9_HOW4'],\n",
       "      dtype='object', name='ID')"
      ]
     },
     "execution_count": 13,
     "metadata": {},
     "output_type": "execute_result"
    }
   ],
   "source": [
    "pca_input.index"
   ]
  },
  {
   "cell_type": "code",
   "execution_count": 14,
   "metadata": {
    "collapsed": false
   },
   "outputs": [],
   "source": [
    "from elviz_pca import colnames_to_sample_info_array\n",
    "\n",
    "plot_info = colnames_to_sample_info_array(pca_input)"
   ]
  },
  {
   "cell_type": "code",
   "execution_count": 15,
   "metadata": {
    "collapsed": false
   },
   "outputs": [
    {
     "data": {
      "text/html": [
       "<div>\n",
       "<table border=\"1\" class=\"dataframe\">\n",
       "  <thead>\n",
       "    <tr style=\"text-align: right;\">\n",
       "      <th></th>\n",
       "      <th>ID</th>\n",
       "      <th>oxy</th>\n",
       "      <th>rep</th>\n",
       "      <th>week</th>\n",
       "      <th>project</th>\n",
       "    </tr>\n",
       "  </thead>\n",
       "  <tbody>\n",
       "    <tr>\n",
       "      <th>0</th>\n",
       "      <td>100_LOW12</td>\n",
       "      <td>Low</td>\n",
       "      <td>4</td>\n",
       "      <td>12</td>\n",
       "      <td>1056214</td>\n",
       "    </tr>\n",
       "    <tr>\n",
       "      <th>1</th>\n",
       "      <td>103_HOW12</td>\n",
       "      <td>High</td>\n",
       "      <td>1</td>\n",
       "      <td>12</td>\n",
       "      <td>1056217</td>\n",
       "    </tr>\n",
       "    <tr>\n",
       "      <th>2</th>\n",
       "      <td>104_HOW12</td>\n",
       "      <td>High</td>\n",
       "      <td>2</td>\n",
       "      <td>12</td>\n",
       "      <td>1056220</td>\n",
       "    </tr>\n",
       "    <tr>\n",
       "      <th>3</th>\n",
       "      <td>105_HOW12</td>\n",
       "      <td>High</td>\n",
       "      <td>3</td>\n",
       "      <td>12</td>\n",
       "      <td>1056223</td>\n",
       "    </tr>\n",
       "    <tr>\n",
       "      <th>4</th>\n",
       "      <td>106_HOW12</td>\n",
       "      <td>High</td>\n",
       "      <td>4</td>\n",
       "      <td>12</td>\n",
       "      <td>1056226</td>\n",
       "    </tr>\n",
       "  </tbody>\n",
       "</table>\n",
       "</div>"
      ],
      "text/plain": [
       "          ID   oxy  rep  week  project\n",
       "0  100_LOW12   Low    4    12  1056214\n",
       "1  103_HOW12  High    1    12  1056217\n",
       "2  104_HOW12  High    2    12  1056220\n",
       "3  105_HOW12  High    3    12  1056223\n",
       "4  106_HOW12  High    4    12  1056226"
      ]
     },
     "execution_count": 15,
     "metadata": {},
     "output_type": "execute_result"
    }
   ],
   "source": [
    "plot_info.head()"
   ]
  },
  {
   "cell_type": "code",
   "execution_count": 17,
   "metadata": {
    "collapsed": false
   },
   "outputs": [
    {
     "data": {
      "text/plain": [
       "5     109_LOW13\n",
       "14    121_LOW14\n",
       "22      13_LOW5\n",
       "27       1_LOW4\n",
       "31      25_LOW6\n",
       "40      37_LOW7\n",
       "49      49_LOW8\n",
       "58      61_LOW9\n",
       "66     73_LOW10\n",
       "75     85_LOW11\n",
       "84     97_LOW12\n",
       "Name: ID, dtype: object"
      ]
     },
     "execution_count": 17,
     "metadata": {},
     "output_type": "execute_result"
    }
   ],
   "source": [
    "# plot one replicate for now. \n",
    "\n",
    "plot_columns = plot_info[plot_info['rep'] == 1] \n",
    "plot_columns = plot_columns[plot_columns['oxy'] == 'Low'] \n",
    "plot_columns.ID"
   ]
  },
  {
   "cell_type": "code",
   "execution_count": 18,
   "metadata": {
    "collapsed": false
   },
   "outputs": [
    {
     "name": "stdout",
     "output_type": "stream",
     "text": [
      "[[ -1.94094050e-01  -3.16454740e-02  -2.37331800e-03 ...,   7.60956488e-05\n",
      "    3.67926355e-05  -1.11266248e-17]\n",
      " [  2.24090943e-01  -4.45460464e-02  -1.25671855e-01 ...,   1.65746832e-07\n",
      "   -1.97544725e-05   1.34441069e-17]\n",
      " [  1.72828258e-01   3.75229219e-01   3.81090922e-02 ...,  -4.93801002e-05\n",
      "   -5.83927653e-06  -8.79559012e-18]\n",
      " ..., \n",
      " [ -1.27887219e-01   9.19760996e-03   1.25723176e-02 ...,  -3.21614153e-06\n",
      "   -9.81069516e-06  -1.91293921e-17]\n",
      " [ -2.57503574e-01   1.30673911e-03   3.58427561e-02 ...,  -5.71353994e-05\n",
      "    3.37410031e-05  -1.82959117e-17]\n",
      " [  3.65631566e-01  -1.34421063e-01  -1.70244595e-01 ...,   5.07803721e-05\n",
      "   -4.38191413e-06   2.87313576e-18]]\n"
     ]
    }
   ],
   "source": [
    "# X_r = pca.fit(X).transform(X)\n",
    "X_r = pca.fit(pca_input).transform(pca_input)\n",
    "print(X_r)"
   ]
  },
  {
   "cell_type": "code",
   "execution_count": 19,
   "metadata": {
    "collapsed": false
   },
   "outputs": [
    {
     "name": "stdout",
     "output_type": "stream",
     "text": [
      "(88, 195)\n",
      "(88, 88)\n"
     ]
    }
   ],
   "source": [
    "print(pca_input.shape)\n",
    "print(X_r.shape)"
   ]
  },
  {
   "cell_type": "code",
   "execution_count": null,
   "metadata": {
    "collapsed": false
   },
   "outputs": [],
   "source": [
    "# COLOR by week, and oxygen.  (weeks = 14, oxygen = 2 --> 28 labels)\n",
    "\n",
    "\n",
    "plt.figure()\n",
    "y=plot_info\n",
    "for c, i, target_name in zip(\"rgb\", [0, 1, 2], target_names):\n",
    "    plt.scatter(pca[y == i, 0], pca[y == i, 1], c=c, label=target_name)\n",
    "#for c, i, target_name in zip(\"rgb\", [0, 1, 2], target_names):\n",
    "#    plt.scatter(pca[y == i, 0], pca[y == i, 1], c=c, label=target_name)\n",
    "plt.legend()\n",
    "plt.title('PCA of IRIS dataset')\n",
    "plt.show()"
   ]
  },
  {
   "cell_type": "code",
   "execution_count": null,
   "metadata": {
    "collapsed": true
   },
   "outputs": [],
   "source": []
  },
  {
   "cell_type": "markdown",
   "metadata": {},
   "source": [
    "# Using Iris Example\n",
    "\n",
    "http://scikit-learn.org/stable/auto_examples/decomposition/plot_pca_vs_lda.html"
   ]
  },
  {
   "cell_type": "code",
   "execution_count": null,
   "metadata": {
    "collapsed": false
   },
   "outputs": [],
   "source": [
    "from sklearn import datasets\n",
    "\n",
    "iris = datasets.load_iris()\n",
    "\n",
    "X = iris.data\n",
    "print(X)"
   ]
  },
  {
   "cell_type": "code",
   "execution_count": null,
   "metadata": {
    "collapsed": false
   },
   "outputs": [],
   "source": [
    "y = iris.target\n",
    "print(y)\n",
    "print(y.shape)"
   ]
  },
  {
   "cell_type": "code",
   "execution_count": null,
   "metadata": {
    "collapsed": false
   },
   "outputs": [],
   "source": [
    "target_names = iris.target_names\n",
    "print(target_names)"
   ]
  },
  {
   "cell_type": "code",
   "execution_count": null,
   "metadata": {
    "collapsed": true
   },
   "outputs": [],
   "source": [
    "pca = PCA(n_components=2)\n",
    "# .fit is _______\n",
    "# .transform is _____\n",
    "# This produces _______\n",
    "X_r = pca.fit(X).transform(X)"
   ]
  },
  {
   "cell_type": "code",
   "execution_count": null,
   "metadata": {
    "collapsed": false
   },
   "outputs": [],
   "source": [
    "print(X_r.shape)"
   ]
  },
  {
   "cell_type": "code",
   "execution_count": null,
   "metadata": {
    "collapsed": false
   },
   "outputs": [],
   "source": [
    "X_r"
   ]
  },
  {
   "cell_type": "code",
   "execution_count": null,
   "metadata": {
    "collapsed": false
   },
   "outputs": [],
   "source": [
    "list(zip(\"rgb\", [0, 1, 2], target_names))"
   ]
  },
  {
   "cell_type": "code",
   "execution_count": null,
   "metadata": {
    "collapsed": false
   },
   "outputs": [],
   "source": [
    "X_r[y == 2, 0]"
   ]
  },
  {
   "cell_type": "code",
   "execution_count": null,
   "metadata": {
    "collapsed": false
   },
   "outputs": [],
   "source": [
    "plt.figure()\n",
    "for c, i, target_name in zip(\"rgb\", [0, 1, 2], target_names):\n",
    "    # iterating over [('r', 0, 'setosa'), ('g', 1, 'versicolor'), ('b', 2, 'virginica')]\n",
    "    # X_r[y == i, 0] is \n",
    "    plt.scatter(X_r[y == i, 0], X_r[y == i, 1], c=c, label=target_name)\n",
    "plt.legend()\n",
    "plt.title('PCA of IRIS dataset')"
   ]
  },
  {
   "cell_type": "code",
   "execution_count": null,
   "metadata": {
    "collapsed": true
   },
   "outputs": [],
   "source": []
  }
 ],
 "metadata": {
  "kernelspec": {
   "display_name": "IPython (Python 3)",
   "language": "python",
   "name": "python3"
  },
  "language_info": {
   "codemirror_mode": {
    "name": "ipython",
    "version": 3
   },
   "file_extension": ".py",
   "mimetype": "text/x-python",
   "name": "python",
   "nbconvert_exporter": "python",
   "pygments_lexer": "ipython3",
   "version": "3.5.1"
  }
 },
 "nbformat": 4,
 "nbformat_minor": 0
}
